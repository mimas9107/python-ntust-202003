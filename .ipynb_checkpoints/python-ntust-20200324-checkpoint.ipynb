{
 "cells": [
  {
   "cell_type": "code",
   "execution_count": 1,
   "metadata": {},
   "outputs": [],
   "source": [
    "# -*- coding:utf-8 -*-\n",
    "## crawler 01\n",
    "import requests\n",
    "from bs4 import BeautifulSoup as bs\n",
    "import time"
   ]
  },
  {
   "cell_type": "code",
   "execution_count": 2,
   "metadata": {},
   "outputs": [],
   "source": [
    "## __VIEWSTATE\n",
    "## __VIEWSTATEGENERATOR\n",
    "## __EVENTVALIDATION\n",
    "## ctl00$ContentPlaceHolder1$rooms #value=13 #\"三六九山莊\"\n",
    "## ctl00$ContentPlaceHolder1$ddlYear\n",
    "## ctl00$ContentPlaceHolder1$ddlMonth\n",
    "## ctl00$ContentPlaceHolder1$hidYear\n",
    "## ctl00$ContentPlaceHolder1$hidMonth \n",
    "## ctl00$ContentPlaceHolder1$btnsearch #value=\"查詢\""
   ]
  },
  {
   "cell_type": "code",
   "execution_count": 3,
   "metadata": {},
   "outputs": [],
   "source": [
    "\n",
    "##url = \"https://www.nownews.com/cat/column\"\n",
    "url = \"https://npm.cpami.gov.tw/bed_1.aspx\" ## 雪霸國家公園,登山入園床位查詢\n",
    "headers ={\n",
    "#             \"Accept-Encoding\": \"gzip, deflate, br\",\n",
    "#             \"Accept-Language\": \"zh-TW,zh;q=0.9,ja-JP;q=0.8,ja;q=0.7,en-JP;q=0.6,en;q=0.5,en-US;q=0.4\",\n",
    "#             \"Cache-Control\": \"max-age=0\",\n",
    "            \"Connection\": \"keep-alive\",\n",
    "#             \"Cookie\": \"_ga=GA1.3.1596303645.1585377873; _gid=GA1.3.499809129.1585377873; _gat=1\",\n",
    "            \"DNT\": \"1\",\n",
    "            \"Host\": \"npm.cpami.gov.tw\",\n",
    "            \"Sec-Fetch-Dest\": \"document\",\n",
    "            \"Sec-Fetch-Mode\": \"navigate\",\n",
    "            \"Sec-Fetch-Site\": \"none\",\n",
    "            \"Sec-Fetch-User\": \"?1\",\n",
    "            \"Upgrade-Insecure-Requests\": \"1\",\n",
    "            \"User-Agent\": \"Mozilla/5.0 (Windows NT 10.0; Win64; x64) AppleWebKit/537.36 (KHTML, like Gecko) Chrome/80.0.3987.149 Safari/537.36\",\n",
    "    }\n",
    "# 模擬 browser 作 get動作\n",
    "res = requests.get(url, headers=headers)\n",
    "# print(res.text)"
   ]
  },
  {
   "cell_type": "code",
   "execution_count": 4,
   "metadata": {},
   "outputs": [],
   "source": [
    "soup = bs(res.text,\"lxml\")\n",
    "# print(soup)"
   ]
  },
  {
   "cell_type": "code",
   "execution_count": 11,
   "metadata": {},
   "outputs": [
    {
     "name": "stdout",
     "output_type": "stream",
     "text": [
      "{'七卡山莊': 10, '七卡營地': 386, '三六九山莊': 13, '翠池山屋': 17, '翠池營地': 387, '桃山山屋': 58, '桃山營地': 409, '三叉營地': 410, '新達山屋': 63, '新達營地': 411, '馬達拉溪登山口宿營地': 412, '九九山莊': 68, '中霸山屋': 304, '賽良久營地': 389, '瓢簞營地': 390, '雪山山莊舊址營地': 391, '油婆蘭營地': 392, '完美谷營地': 393, '17K營地': 394, '26K營地': 395, '28K營地': 396, '匹匹達山東鞍營地': 400, '奇峻山營地': 401, '弓水營地': 397, '大南山西鞍營地': 398, '火石山下營地': 399, '霸南山屋': 79, '素密達山屋': 83, '雪北山屋': 85, '馬洋山前營地': 413, '馬洋池營地': 414, '雪山圈谷營地(同三六九床位)': 382}\n"
     ]
    }
   ],
   "source": [
    "def parsing_room_dict(soup):\n",
    "    room_dict={}\n",
    "\n",
    "    for ele in soup.select(\"div.form-group select option\"): ## 幫我抓 div物件中 class為 form-group >> select物件 >> option物件\n",
    "        if ele['value'] !=\"\": \n",
    "    #         print(int(ele['value']),ele.text)\n",
    "\n",
    "            room_dict[ele.text]=int(ele['value']) ### 將山屋名稱與編號存入字典 room_dict{}\n",
    "    return room_dict\n",
    "result_rooms=parsing_room_dict(soup)\n",
    "print(result_rooms)"
   ]
  },
  {
   "cell_type": "code",
   "execution_count": 10,
   "metadata": {
    "scrolled": false
   },
   "outputs": [
    {
     "name": "stdout",
     "output_type": "stream",
     "text": [
      "{'七卡山莊': 10, '七卡營地': 386, '三六九山莊': 13, '翠池山屋': 17, '翠池營地': 387, '桃山山屋': 58, '桃山營地': 409, '三叉營地': 410, '新達山屋': 63, '新達營地': 411, '馬達拉溪登山口宿營地': 412, '九九山莊': 68, '中霸山屋': 304, '賽良久營地': 389, '瓢簞營地': 390, '雪山山莊舊址營地': 391, '油婆蘭營地': 392, '完美谷營地': 393, '17K營地': 394, '26K營地': 395, '28K營地': 396, '匹匹達山東鞍營地': 400, '奇峻山營地': 401, '弓水營地': 397, '大南山西鞍營地': 398, '火石山下營地': 399, '霸南山屋': 79, '素密達山屋': 83, '雪北山屋': 85, '馬洋山前營地': 413, '馬洋池營地': 414, '雪山圈谷營地(同三六九床位)': 382}\n"
     ]
    }
   ],
   "source": [
    "def parsing_hidden_params(soup):\n",
    "    __VIEWSTATE = soup.select(\"input#__VIEWSTATE\")[0]['value']\n",
    "    __VIEWSTATEGENERATOR = soup.select(\"input#__VIEWSTATEGENERATOR\")[0]['value']\n",
    "    __EVENTVALIDATION = soup.select(\"input#__EVENTVALIDATION\")[0]['value']\n",
    "    \n",
    "    output = {\n",
    "        \"__VIEWSTATE\":__VIEWSTATE,\n",
    "        \"__VIEWSTATEGENERATOR\":__VIEWSTATEGENERATOR,\n",
    "        \"__EVENTVALIDATION\":__EVENTVALIDATION\n",
    "    }\n",
    "    return output\n",
    "### ========= 將 ASP網頁的隱藏參數由 get中取得，並 parsing進 p字典中 ===========\n",
    "p = parsing_hidden_params(soup)\n",
    "# print(p)\n",
    "\n",
    "# payload[\"ctl00$ScriptManager1\"]=\"ctl00$ScriptManager1|ctl00$ContentPlaceHolder1$btnsearch\"\n",
    "# payload[\"__EVENTTARGET\"]=\"\"\n",
    "# payload[\"__EVENTARGUMENT\"]=\"\"\n",
    "# payload[\"__VIEWSTATE\"] = p[\"__VIEWSTATE\"]\n",
    "# payload[\"__VIEWSTATEGENERATOR\"] = p[\"__VIEWSTATEGENERATOR\"]\n",
    "# payload[\"__EVENTVALIDATION\"] = p[\"__EVENTVALIDATION\"]\n",
    "# payload[\"ctl00$ContentPlaceHolder1$rooms\"] = \"13\"\n",
    "# payload[\"ctl00$ContentPlaceHolder1$ddlYear\"] = \"2020\"\n",
    "# payload[\"ctl00$ContentPlaceHolder1$ddlMonth\"] = \"4\"\n",
    "# payload[\"ctl00$ContentPlaceHolder1$hidYear\"] = \"2020\"\n",
    "# payload[\"ctl00$ContentPlaceHolder1$hidMonth\"] = \"4\"\n",
    "\n",
    "# payload[\"__ASYNCPOST\"]=\"true\"\n",
    "\n",
    "# payload[\"ctl00$ContentPlaceHolder1$btnsearch\"] = \"查詢\"\n",
    "# payload[\"ctl00$txSerch\"]=\"\"\n",
    "\n",
    "\n",
    "payload={\n",
    "    \"ctl00$ScriptManager1\": \"ctl00$ScriptManager1|ctl00$ContentPlaceHolder1$btnsearch\",\n",
    "      \"__EVENTTARGET\":\"\",\n",
    "     \"__EVENTARGUMENT\":\"\",\n",
    "    \"ctl00$txSerch\":\"\", \n",
    "    \"ctl00$ContentPlaceHolder1$rooms\": \"13\",\n",
    "### ========== 這裡需要注意傳入的變數名稱字元 $ -> %24 可能有所差異，傳錯可能不成功，要多測試 ==========\n",
    "    \"ctl00%24ContentPlaceHolder1%24ddlYear\": \"2020\",\n",
    "    \"ctl00%24ContentPlaceHolder1%24ddlMonth\": \"4\",\n",
    "    \"ctl00%24ContentPlaceHolder1%24hidYear\": \"2020\",\n",
    "    \"ctl00%24ContentPlaceHolder1%24hidMonth\": \"4\",\n",
    "#     \"ctl00$ContentPlaceHolder1$ddlYear\": \"2020\",\n",
    "#     \"ctl00$ContentPlaceHolder1$ddlMonth\": \"4\",\n",
    "#     \"ctl00$ContentPlaceHolder1$hidYear\": \"2020\",\n",
    "#     \"ctl00$ContentPlaceHolder1$hidMonth\": \"4\",\n",
    "#     \"ctl00$ContentPlaceHolder1$Repeater_List$ctl01$HiddenField1\": \"10\",\n",
    "#     \"ctl00$ContentPlaceHolder1$Repeater_List$ctl02$HiddenField1\": \"386\",\n",
    "#     \"ctl00$ContentPlaceHolder1$Repeater_List$ctl03$HiddenField1\": \"13\",\n",
    "#     \"ctl00$ContentPlaceHolder1$Repeater_List$ctl04$HiddenField1\": \"17\",\n",
    "#     \"ctl00$ContentPlaceHolder1$Repeater_List$ctl05$HiddenField1\": \"387\",\n",
    "#     \"ctl00$ContentPlaceHolder1$Repeater_List$ctl06$HiddenField1\": \"58\",\n",
    "#     \"ctl00$ContentPlaceHolder1$Repeater_List$ctl07$HiddenField1\": \"409\",\n",
    "#     \"ctl00$ContentPlaceHolder1$Repeater_List$ctl08$HiddenField1\": \"410\",\n",
    "#     \"ctl00$ContentPlaceHolder1$Repeater_List$ctl09$HiddenField1\": \"63\",\n",
    "#     \"ctl00$ContentPlaceHolder1$Repeater_List$ctl10$HiddenField1\":\"411\",\n",
    "#     \"ctl00$ContentPlaceHolder1$Repeater_List$ctl11$HiddenField1\": \"412\",\n",
    "#     \"ctl00$ContentPlaceHolder1$Repeater_List$ctl12$HiddenField1\": \"68\",\n",
    "#     \"ctl00$ContentPlaceHolder1$Repeater_List$ctl13$HiddenField1\": \"304\",\n",
    "#     \"ctl00$ContentPlaceHolder1$Repeater_List$ctl14$HiddenField1\": \"389\",\n",
    "#     \"ctl00$ContentPlaceHolder1$Repeater_List$ctl15$HiddenField1\": \"390\",\n",
    "#     \"ctl00$ContentPlaceHolder1$Repeater_List$ctl16$HiddenField1\": \"391\",\n",
    "#     \"ctl00$ContentPlaceHolder1$Repeater_List$ctl17$HiddenField1\": \"392\",\n",
    "#     \"ctl00$ContentPlaceHolder1$Repeater_List$ctl18$HiddenField1\": \"393\",\n",
    "#     \"ctl00$ContentPlaceHolder1$Repeater_List$ctl19$HiddenField1\": \"394\",\n",
    "#     \"ctl00$ContentPlaceHolder1$Repeater_List$ctl20$HiddenField1\": \"395\",\n",
    "#     \"ctl00$ContentPlaceHolder1$Repeater_List$ctl21$HiddenField1\": \"396\",\n",
    "#     \"ctl00$ContentPlaceHolder1$Repeater_List$ctl22$HiddenField1\": \"400\",\n",
    "#     \"ctl00$ContentPlaceHolder1$Repeater_List$ctl23$HiddenField1\": \"401\",\n",
    "#     \"ctl00$ContentPlaceHolder1$Repeater_List$ctl24$HiddenField1\": \"397\",\n",
    "#     \"ctl00$ContentPlaceHolder1$Repeater_List$ctl25$HiddenField1\": \"398\",\n",
    "#     \"ctl00$ContentPlaceHolder1$Repeater_List$ctl26$HiddenField1\": \"399\",\n",
    "#     \"ctl00$ContentPlaceHolder1$Repeater_List$ctl27$HiddenField1\": \"79\",\n",
    "#     \"ctl00$ContentPlaceHolder1$Repeater_List$ctl28$HiddenField1\": \"83\",\n",
    "#     \"ctl00$ContentPlaceHolder1$Repeater_List$ctl29$HiddenField1\": \"85\",\n",
    "#     \"ctl00$ContentPlaceHolder1$Repeater_List$ctl30$HiddenField1\": \"413\",\n",
    "#     \"ctl00$ContentPlaceHolder1$Repeater_List$ctl31$HiddenField1\": \"414\",\n",
    "#     \"ctl00$ContentPlaceHolder1$Repeater_List$ctl32$HiddenField1\": \"382\",\n",
    "     \"__ASYNCPOST\": \"true\",\n",
    "     \"ctl00$ContentPlaceHolder1$btnsearch\": \"查詢\",\n",
    "}\n",
    "payload[\"__VIEWSTATE\"] = p[\"__VIEWSTATE\"]\n",
    "payload[\"__VIEWSTATEGENERATOR\"] = p[\"__VIEWSTATEGENERATOR\"]\n",
    "payload[\"__EVENTVALIDATION\"] = p[\"__EVENTVALIDATION\"]\n",
    "\n",
    "\n"
   ]
  },
  {
   "cell_type": "code",
   "execution_count": null,
   "metadata": {},
   "outputs": [],
   "source": [
    "### ========= 將欲查詢的 payload用 post傳入，取得結果 ==========\n",
    "result2 = requests.post(url,data=payload,headers=headers,timeout=5.0)\n",
    "soup2 = bs(result2.text,\"lxml\")\n",
    "\n",
    "# print(soup2)"
   ]
  },
  {
   "cell_type": "code",
   "execution_count": 6,
   "metadata": {},
   "outputs": [],
   "source": [
    "# headers\n",
    "# print(soup2.select(\"div.table-responsive span.pnumber\"))\n",
    "# print(soup2.select(\"div.table-responsive\"))"
   ]
  },
  {
   "cell_type": "code",
   "execution_count": 7,
   "metadata": {},
   "outputs": [],
   "source": [
    "####======================================================================================\n",
    "def parsing_date_from_url(str_url):\n",
    "    if str_url!=\"\": \n",
    "        output_str=str_url[str_url.find(\"sdate=\"):len(str_url)].replace(\"sdate=\",\"\")\n",
    "    else:\n",
    "        output=\"\"\n",
    "    return output_str\n",
    "#### =====================================================================================\n",
    "def parsing_calendar(soup_table):\n",
    "    ## <td> <span id=\"ContentPlaceHolder1_cb_XX\" > # 此為月曆日期儲存格 XX=01~37\n",
    "    ## <td> <span id=\"ContentPlaceHolder1_cc_YY\" > # 此為對應日期的床位詳細內容儲存格\n",
    "    ## 回傳資料結構:    [ {dict1}, {dict2}, ... ,[dictX] ]\n",
    "#     print(soup_table)\n",
    "    dict_calendar={}\n",
    "    output_calendar=[]\n",
    "    for i in range(1,38):        \n",
    "        for ele in soup_table.select(\"span[id='ContentPlaceHolder1_cc_{:2d}'] div.table-responsive\".format(i)):\n",
    "            dict_calendar[\"num\"]=int(i)\n",
    "            dict_calendar[\"日期\"]=parsing_date_from_url(ele.select(\"a\")[0][\"href\"])\n",
    "            dict_calendar[\"餘額\"]=int(ele.select(\"span\")[0].text)        \n",
    "            dict_calendar[\"待處理\"]=int(ele.select(\"span\")[1].text)            \n",
    "            dict_calendar[\"補件\"]=int(ele.select(\"span\")[2].text)            \n",
    "            dict_calendar[\"已通過\"]=int(ele.select(\"span\")[3].text)            \n",
    "            dict_calendar[\"待排\"]=int(ele.select(\"span\")[4].text)            \n",
    "            dict_calendar[\"候補\"]=int(ele.select(\"span\")[5].text)\n",
    "            dict_calendar[\"URL\"]=\"https://npm.cpami.gov.tw/\"+ele.select(\"a\")[0][\"href\"]\n",
    "            if len(ele.select(\"span\")) > 6 :\n",
    "                dict_calendar[\"外籍\"]=ele.select(\"span\")[6].text\n",
    "#             print(\"-\"*80)\n",
    "        output_calendar.append(dict_calendar)\n",
    "        dict_calendar={}\n",
    "\n",
    "    return output_calendar\n",
    "#### ====================================================================================="
   ]
  },
  {
   "cell_type": "code",
   "execution_count": 8,
   "metadata": {
    "scrolled": true
   },
   "outputs": [
    {
     "name": "stdout",
     "output_type": "stream",
     "text": [
      "[{}, {}, {}, {}, {}, {}, {}, {}, {}, {}, {}, {}, {}, {'num': 14, '日期': '2020-04-12', '餘額': -36, '待處理': 4, '補件': 0, '已通過': 89, '待排': 0, '候補': 9, 'URL': 'https://npm.cpami.gov.tw/bed_1main.aspx?orgid=e6dd4652-2d37-4346-8f5d-6e538353e0c2&node_id=13&sdate=2020-04-12', '外籍': '\\xa00+0\\xa0'}, {'num': 15, '日期': '2020-04-13', '餘額': -38, '待處理': 0, '補件': 0, '已通過': 95, '待排': 0, '候補': 18, 'URL': 'https://npm.cpami.gov.tw/bed_1main.aspx?orgid=e6dd4652-2d37-4346-8f5d-6e538353e0c2&node_id=13&sdate=2020-04-13', '外籍': '\\xa00+0\\xa0'}, {'num': 16, '日期': '2020-04-14', '餘額': -42, '待處理': 0, '補件': 0, '已通過': 99, '待排': 0, '候補': 25, 'URL': 'https://npm.cpami.gov.tw/bed_1main.aspx?orgid=e6dd4652-2d37-4346-8f5d-6e538353e0c2&node_id=13&sdate=2020-04-14', '外籍': '\\xa00+0\\xa0'}, {'num': 17, '日期': '2020-04-15', '餘額': -44, '待處理': 0, '補件': 0, '已通過': 101, '待排': 0, '候補': 19, 'URL': 'https://npm.cpami.gov.tw/bed_1main.aspx?orgid=e6dd4652-2d37-4346-8f5d-6e538353e0c2&node_id=13&sdate=2020-04-15', '外籍': '\\xa01+0\\xa0'}, {'num': 18, '日期': '2020-04-16', '餘額': -43, '待處理': 0, '補件': 0, '已通過': 100, '待排': 0, '候補': 7, 'URL': 'https://npm.cpami.gov.tw/bed_1main.aspx?orgid=e6dd4652-2d37-4346-8f5d-6e538353e0c2&node_id=13&sdate=2020-04-16', '外籍': '\\xa00+0\\xa0'}, {'num': 19, '日期': '2020-04-17', '餘額': -45, '待處理': 0, '補件': 0, '已通過': 102, '待排': 0, '候補': 24, 'URL': 'https://npm.cpami.gov.tw/bed_1main.aspx?orgid=e6dd4652-2d37-4346-8f5d-6e538353e0c2&node_id=13&sdate=2020-04-17', '外籍': '\\xa00+0\\xa0'}, {'num': 20, '日期': '2020-04-18', '餘額': -49, '待處理': 0, '補件': 0, '已通過': 106, '待排': 0, '候補': 267, 'URL': 'https://npm.cpami.gov.tw/bed_1main.aspx?orgid=e6dd4652-2d37-4346-8f5d-6e538353e0c2&node_id=13&sdate=2020-04-18'}, {'num': 21, '日期': '2020-04-19', '餘額': -43, '待處理': 0, '補件': 0, '已通過': 100, '待排': 0, '候補': 64, 'URL': 'https://npm.cpami.gov.tw/bed_1main.aspx?orgid=e6dd4652-2d37-4346-8f5d-6e538353e0c2&node_id=13&sdate=2020-04-19', '外籍': '\\xa018+0\\xa0'}, {'num': 22, '日期': '2020-04-20', '餘額': -43, '待處理': 0, '補件': 0, '已通過': 100, '待排': 0, '候補': 44, 'URL': 'https://npm.cpami.gov.tw/bed_1main.aspx?orgid=e6dd4652-2d37-4346-8f5d-6e538353e0c2&node_id=13&sdate=2020-04-20', '外籍': '\\xa020+0\\xa0'}, {'num': 23, '日期': '2020-04-21', '餘額': -43, '待處理': 0, '補件': 0, '已通過': 100, '待排': 0, '候補': 21, 'URL': 'https://npm.cpami.gov.tw/bed_1main.aspx?orgid=e6dd4652-2d37-4346-8f5d-6e538353e0c2&node_id=13&sdate=2020-04-21', '外籍': '\\xa00+0\\xa0'}, {'num': 24, '日期': '2020-04-22', '餘額': -39, '待處理': 0, '補件': 0, '已通過': 96, '待排': 0, '候補': 18, 'URL': 'https://npm.cpami.gov.tw/bed_1main.aspx?orgid=e6dd4652-2d37-4346-8f5d-6e538353e0c2&node_id=13&sdate=2020-04-22', '外籍': '\\xa00+0\\xa0'}, {'num': 25, '日期': '2020-04-23', '餘額': -43, '待處理': 7, '補件': 0, '已通過': 93, '待排': 0, '候補': 14, 'URL': 'https://npm.cpami.gov.tw/bed_1main.aspx?orgid=e6dd4652-2d37-4346-8f5d-6e538353e0c2&node_id=13&sdate=2020-04-23', '外籍': '\\xa02+0\\xa0'}, {'num': 26, '日期': '2020-04-24', '餘額': -40, '待處理': 4, '補件': 0, '已通過': 93, '待排': 0, '候補': 53, 'URL': 'https://npm.cpami.gov.tw/bed_1main.aspx?orgid=e6dd4652-2d37-4346-8f5d-6e538353e0c2&node_id=13&sdate=2020-04-24', '外籍': '\\xa00+0\\xa0'}, {'num': 27, '日期': '2020-04-25', '餘額': -49, '待處理': 0, '補件': 0, '已通過': 106, '待排': 0, '候補': 393, 'URL': 'https://npm.cpami.gov.tw/bed_1main.aspx?orgid=e6dd4652-2d37-4346-8f5d-6e538353e0c2&node_id=13&sdate=2020-04-25'}, {'num': 28, '日期': '2020-04-26', '餘額': -42, '待處理': 0, '補件': 0, '已通過': 99, '待排': 0, '候補': 53, 'URL': 'https://npm.cpami.gov.tw/bed_1main.aspx?orgid=e6dd4652-2d37-4346-8f5d-6e538353e0c2&node_id=13&sdate=2020-04-26', '外籍': '\\xa08+4\\xa0'}, {'num': 29, '日期': '2020-04-27', '餘額': -42, '待處理': 0, '補件': 0, '已通過': 99, '待排': 0, '候補': 6, 'URL': 'https://npm.cpami.gov.tw/bed_1main.aspx?orgid=e6dd4652-2d37-4346-8f5d-6e538353e0c2&node_id=13&sdate=2020-04-27', '外籍': '\\xa00+0\\xa0'}, {'num': 30, '日期': '2020-04-28', '餘額': -43, '待處理': 0, '補件': 0, '已通過': 100, '待排': 0, '候補': 10, 'URL': 'https://npm.cpami.gov.tw/bed_1main.aspx?orgid=e6dd4652-2d37-4346-8f5d-6e538353e0c2&node_id=13&sdate=2020-04-28', '外籍': '\\xa00+0\\xa0'}, {'num': 31, '日期': '2020-04-29', '餘額': -35, '待處理': 12, '補件': 5, '已通過': 75, '待排': 0, '候補': 18, 'URL': 'https://npm.cpami.gov.tw/bed_1main.aspx?orgid=e6dd4652-2d37-4346-8f5d-6e538353e0c2&node_id=13&sdate=2020-04-29', '外籍': '\\xa02+0\\xa0'}, {'num': 32, '日期': '2020-04-30', '餘額': -43, '待處理': 0, '補件': 0, '已通過': 100, '待排': 0, '候補': 72, 'URL': 'https://npm.cpami.gov.tw/bed_1main.aspx?orgid=e6dd4652-2d37-4346-8f5d-6e538353e0c2&node_id=13&sdate=2020-04-30', '外籍': '\\xa00+0\\xa0'}, {}, {}, {}, {}, {}]\n"
     ]
    }
   ],
   "source": [
    "result_cal = parsing_calendar(soup2)\n",
    "print(result_cal)"
   ]
  },
  {
   "cell_type": "code",
   "execution_count": null,
   "metadata": {},
   "outputs": [],
   "source": []
  },
  {
   "cell_type": "code",
   "execution_count": null,
   "metadata": {},
   "outputs": [],
   "source": []
  },
  {
   "cell_type": "code",
   "execution_count": null,
   "metadata": {},
   "outputs": [],
   "source": []
  }
 ],
 "metadata": {
  "kernelspec": {
   "display_name": "Python 3",
   "language": "python",
   "name": "python3"
  },
  "language_info": {
   "codemirror_mode": {
    "name": "ipython",
    "version": 3
   },
   "file_extension": ".py",
   "mimetype": "text/x-python",
   "name": "python",
   "nbconvert_exporter": "python",
   "pygments_lexer": "ipython3",
   "version": "3.7.6"
  }
 },
 "nbformat": 4,
 "nbformat_minor": 4
}
