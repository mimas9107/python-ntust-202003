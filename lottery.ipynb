{
 "cells": [
  {
   "cell_type": "code",
   "execution_count": 1,
   "metadata": {},
   "outputs": [],
   "source": [
    "import requests\n",
    "from bs4 import BeautifulSoup as bs"
   ]
  },
  {
   "cell_type": "code",
   "execution_count": 2,
   "metadata": {},
   "outputs": [],
   "source": [
    "url = \"https://www.taiwanlottery.com.tw/lotto/Lotto649/history.aspx\""
   ]
  },
  {
   "cell_type": "code",
   "execution_count": 8,
   "metadata": {},
   "outputs": [],
   "source": [
    "headers = {\n",
    "    \"User-Agent\": \"Mozilla/5.0 (Windows NT 10.0; Win64; x64) AppleWebKit/537.36 (KHTML, like Gecko) Chrome/80.0.3987.149 Safari/537.36\",\n",
    "    \"Host\": \"www.taiwanlottery.com.tw\",\n",
    "    \"Origin\": \"https://www.taiwanlottery.com.tw\",\n",
    "    \"Referer\": \"https://www.taiwanlottery.com.tw/lotto/Lotto649/history.aspx\",\n",
    "}\n",
    "\n",
    "payload ={\n",
    "    \"__EVENTTARGET\": \"\",\n",
    "    \"__EVENTARGUMENT\": \"\",\n",
    "    \"__LASTFOCUS\": \"\",\n",
    "    \"__VIEWSTATE\": \"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\",\n",
    "    \"__VIEWSTATEGENERATOR\": \"11E838D2\",\n",
    "    \"__EVENTVALIDATION\": \"EOPLnBdA8R++W2fvZ+s1+Gws9i4xv1p9dcWKUSr2Ea7LpdR0VD8xYdbTFhPj5QnkXWYDTO3Kg9oYp/3JNKWXxd/dwiATuLBZCE25DQV2kjVOyo4pdWh7vjH1zLMuV4H4eFsagdaDT4BTFC3/cO2kXhobedTcZ5zSb/RCghC1lk+HfSRz9cKQ5iCfdTkHT06aQYppfInvADr8BLGrS9yaiOnHa5YAcCAFvekpt0ymTroTbHKh9iSFiDP3qElLHocSG56M/C3CAxKz5tMDyoaDeMDNolpMvyHEs/UI83YWIkTzkI2M1TgdqAE2q22QvgOjsoQCWNLpYZf747ORDqajjyRRLGGqWox4/eZ+eXE+UbO82tdxaYlWQv0g/0qcfT0GsbENclttl4xI1PIwITA+HbvMahqiuEQLPr5M9eDfAI+KRb+p4PvsHMN7CBOMo26yS2cyI4W2aGAgo7cY2NJYnqxv2TqPCfCLV5xXTDlcuMvi/zCkEpkvliUOd6SqDuTRxDDB9imuTJ7pbt2N3SCq+Ir2MwhtAxu4NBpGAmAuSbK7282tT7hdcCR0lweoIFeWCFUOLKl7K7JLmeQJYMfZq24ibYBgYtN8O3BhKwU3ODB0VjaUs8RQTJiGdfgdHzb44FdpltLnzXG+ypvQtbGoq6O5jSkFpaCAUGamT2ubt8tJxViw0PrmoUjjwC7iGyQXbbMgNnlpa8aGqhInFk3mB96nCjNugZoN7BkndLkevML6HauwJ6n/e52aEx/VbKrRT+fjB1jsFXTc4vJ++uNGIBNSey7/IDvoQrKgfSZccKWXsH1IGFurRZl+QKBqd6KpFgMF8dLNK7bOq1ZvCF9vzddaQtU=\",\n",
    "    \"Lotto649Control_history$DropDownList1\": \"2\",\n",
    "    \"Lotto649Control_history$chk\": \"radYM\",\n",
    "    \"Lotto649Control_history$dropYear\": \"109\",\n",
    "    \"Lotto649Control_history$dropMonth\": \"3\",\n",
    "    \"Lotto649Control_history$btnSubmit\": \"查詢\",\n",
    "}\n"
   ]
  },
  {
   "cell_type": "code",
   "execution_count": 9,
   "metadata": {},
   "outputs": [],
   "source": [
    "res = requests.post(url,data=payload,headers=headers)\n",
    "soup = bs(res.text,'lxml')"
   ]
  },
  {
   "cell_type": "code",
   "execution_count": 14,
   "metadata": {},
   "outputs": [
    {
     "name": "stdout",
     "output_type": "stream",
     "text": [
      "[{'no': '109000033', 'time': '109/03/27', 'numbers': ['02', '08', '10', '16', '23', '49']}, {'no': '109000032', 'time': '109/03/24', 'numbers': ['10', '12', '16', '29', '41', '45']}, {'no': '109000031', 'time': '109/03/20', 'numbers': ['01', '08', '13', '43', '46', '48']}, {'no': '109000030', 'time': '109/03/17', 'numbers': ['10', '17', '28', '29', '43', '47']}, {'no': '109000029', 'time': '109/03/13', 'numbers': ['14', '22', '32', '33', '34', '49']}, {'no': '109000028', 'time': '109/03/10', 'numbers': ['01', '04', '12', '25', '34', '37']}, {'no': '109000027', 'time': '109/03/06', 'numbers': ['08', '12', '13', '15', '16', '30']}, {'no': '109000026', 'time': '109/03/03', 'numbers': ['08', '10', '11', '17', '28', '42']}]\n"
     ]
    }
   ],
   "source": [
    "table_1 = soup.find_all(\"table\",{\"class\":[\"table_org\",\"table_gre\"]})\n",
    "result=[]\n",
    "for t in table_1:\n",
    "    tdsTime = t.select(\"tr\")[1].select(\"td\")\n",
    "    tdsNumber = t.select(\"tr\")[4]\n",
    "    numbers = [ele.text for ele in tdsNumber.select(\"td.font_black14b_center\")]\n",
    "    result.append({\"no\":tdsTime[0].text,\n",
    "                  \"time\":tdsTime[1].text.strip(),\n",
    "                  \"numbers\":numbers})"
   ]
  },
  {
   "cell_type": "code",
   "execution_count": 15,
   "metadata": {},
   "outputs": [
    {
     "data": {
      "text/plain": [
       "[{'no': '109000033',\n",
       "  'time': '109/03/27',\n",
       "  'numbers': ['02', '08', '10', '16', '23', '49']},\n",
       " {'no': '109000032',\n",
       "  'time': '109/03/24',\n",
       "  'numbers': ['10', '12', '16', '29', '41', '45']},\n",
       " {'no': '109000031',\n",
       "  'time': '109/03/20',\n",
       "  'numbers': ['01', '08', '13', '43', '46', '48']},\n",
       " {'no': '109000030',\n",
       "  'time': '109/03/17',\n",
       "  'numbers': ['10', '17', '28', '29', '43', '47']},\n",
       " {'no': '109000029',\n",
       "  'time': '109/03/13',\n",
       "  'numbers': ['14', '22', '32', '33', '34', '49']},\n",
       " {'no': '109000028',\n",
       "  'time': '109/03/10',\n",
       "  'numbers': ['01', '04', '12', '25', '34', '37']},\n",
       " {'no': '109000027',\n",
       "  'time': '109/03/06',\n",
       "  'numbers': ['08', '12', '13', '15', '16', '30']},\n",
       " {'no': '109000026',\n",
       "  'time': '109/03/03',\n",
       "  'numbers': ['08', '10', '11', '17', '28', '42']}]"
      ]
     },
     "execution_count": 15,
     "metadata": {},
     "output_type": "execute_result"
    }
   ],
   "source": [
    "result"
   ]
  },
  {
   "cell_type": "code",
   "execution_count": null,
   "metadata": {},
   "outputs": [],
   "source": []
  },
  {
   "cell_type": "code",
   "execution_count": null,
   "metadata": {},
   "outputs": [],
   "source": []
  },
  {
   "cell_type": "code",
   "execution_count": null,
   "metadata": {},
   "outputs": [],
   "source": []
  },
  {
   "cell_type": "code",
   "execution_count": null,
   "metadata": {},
   "outputs": [],
   "source": []
  },
  {
   "cell_type": "code",
   "execution_count": null,
   "metadata": {},
   "outputs": [],
   "source": []
  }
 ],
 "metadata": {
  "kernelspec": {
   "display_name": "Python 3",
   "language": "python",
   "name": "python3"
  },
  "language_info": {
   "codemirror_mode": {
    "name": "ipython",
    "version": 3
   },
   "file_extension": ".py",
   "mimetype": "text/x-python",
   "name": "python",
   "nbconvert_exporter": "python",
   "pygments_lexer": "ipython3",
   "version": "3.7.6"
  }
 },
 "nbformat": 4,
 "nbformat_minor": 4
}
