{
 "cells": [
  {
   "cell_type": "markdown",
   "metadata": {},
   "source": [
    "# =========================\n",
    "# Python Excel 網路爬蟲課程\n",
    "# date: 2020 / 3 / 14\n",
    "# \n",
    "# =========================\n"
   ]
  },
  {
   "cell_type": "markdown",
   "metadata": {},
   "source": [
    "# 小試身手#1-1"
   ]
  },
  {
   "cell_type": "code",
   "execution_count": 1,
   "metadata": {},
   "outputs": [
    {
     "name": "stdout",
     "output_type": "stream",
     "text": [
      "please input the length of rectangle = 10\n",
      "please input the width of rectangle = 10\n",
      "Area = 100\n",
      "Perimeter = 40\n"
     ]
    }
   ],
   "source": [
    "# (1)\n",
    "Length = int(input(\"please input the length of rectangle = \"))\n",
    "Width = int(input(\"please input the width of rectangle = \"))\n",
    "Area = Length * Width\n",
    "Perimeter = (Length+Width)*2\n",
    "print(\"Area =\",Area)\n",
    "print(\"Perimeter =\",Perimeter)"
   ]
  },
  {
   "cell_type": "code",
   "execution_count": 2,
   "metadata": {},
   "outputs": [
    {
     "name": "stdout",
     "output_type": "stream",
     "text": [
      "this is a lion.\n",
      "**** !! a book.\n",
      "this is a apple.\n"
     ]
    }
   ],
   "source": [
    "# (2)\n",
    "strTarget = \"this is a book.\"\n",
    "print(strTarget.replace(\"book\",\"lion\"))\n",
    "print(strTarget.replace(\"this\",\"****\").replace(\"is\",\"!!\"))\n",
    "print(strTarget.replace(\"book\",\"apple\"))"
   ]
  },
  {
   "cell_type": "code",
   "execution_count": null,
   "metadata": {},
   "outputs": [],
   "source": [
    "#(3)"
   ]
  },
  {
   "cell_type": "code",
   "execution_count": null,
   "metadata": {},
   "outputs": [],
   "source": [
    "#(4)"
   ]
  },
  {
   "cell_type": "markdown",
   "metadata": {},
   "source": [
    "# -------------------------------------------------------------------------------------"
   ]
  },
  {
   "cell_type": "code",
   "execution_count": 3,
   "metadata": {},
   "outputs": [
    {
     "name": "stdout",
     "output_type": "stream",
     "text": [
      "{'Jeff': 95, 'Leo': 87, 'Kevin': 65, 'Elle': 100, 'Jenny': 80, 'Audrey': 75}\n",
      "<class 'dict'>\n",
      "False\n",
      "True\n",
      "dict_keys(['Jeff', 'Leo', 'Kevin', 'Elle', 'Jenny', 'Audrey'])\n",
      "dict_values([95, 87, 65, 100, 80, 75])\n",
      "the sum of the dict= 502\n"
     ]
    }
   ],
   "source": [
    "# dict\n",
    "scores2 = {\n",
    "    \"Jeff\" :90,\n",
    "    \"Leo\"  :87,\n",
    "    \"Kevin\":65,\n",
    "    \"Elle\" :100,\n",
    "    \"Jenny\":80,\n",
    "}\n",
    "# assign a new value to specify key \"Jeff\"\n",
    "scores2[\"Jeff\"] = 95\n",
    "\n",
    "# append a new key\n",
    "scores2[\"Audrey\"] = 75\n",
    "\n",
    "print(scores2)\n",
    "print(type(scores2))\n",
    "\n",
    "# in 關係運算子 => to check the specified key whether in the dict object.\n",
    "\n",
    "print(\"Bob\" in scores2)\n",
    "print(\"Jeff\" in scores2)\n",
    "\n",
    "# keys() to return the keys of the dict [list]\n",
    "print(scores2.keys())\n",
    "\n",
    "# values() to return the values of the dict [list]\n",
    "print(scores2.values())\n",
    "# So, we could calculate the sum operation of the values\n",
    "print(\"the sum of the dict=\",sum(scores2.values()))"
   ]
  },
  {
   "cell_type": "code",
   "execution_count": 4,
   "metadata": {},
   "outputs": [
    {
     "name": "stdout",
     "output_type": "stream",
     "text": [
      "Data1:\n",
      "True\n",
      "False\n",
      "True\n",
      "['abc', False]\n",
      "--------------------------------------------------------------------------------\n",
      "data2:\n",
      "True\n",
      "False\n",
      "False\n",
      "--------------------------------------------------------------------------------\n",
      "data3:\n",
      "False\n",
      "True\n"
     ]
    }
   ],
   "source": [
    "### operator: in\n",
    "\n",
    "data1 = [1,2,3,4,5,\"a\",\"b\",\"c\",[\"abc\",\"name\"],{\"name\":\"Jeff\",\"age\":18}]\n",
    "data2 = {\n",
    "    \"Jeff\":90,\n",
    "    \"Leo\":100,\n",
    "    \"Elle\":88\n",
    "}\n",
    "data3 = \"This is a book\"\n",
    "\n",
    "print(\"Data1:\")\n",
    "print(\"a\" in data1)\n",
    "print(\"p\" in data1)\n",
    "print([\"abc\",\"name\"] in data1)\n",
    "print([\"abc\",\"number\" in data1])\n",
    "\n",
    "print(\"-\"*80)\n",
    "\n",
    "print(\"data2:\")\n",
    "print(\"Jeff\" in data2)\n",
    "print(\"Leq\" in data2)\n",
    "print(90 in data2) ## 90這個value 有沒有在 data2 dict裏頭? false! 只會比對 keys 不是比對 value\n",
    "\n",
    "print(\"-\"*80)\n",
    "\n",
    "print(\"data3:\")\n",
    "print(\"this\" in data3)\n",
    "print(\"s a\" in data3)"
   ]
  },
  {
   "cell_type": "code",
   "execution_count": 5,
   "metadata": {},
   "outputs": [
    {
     "name": "stdout",
     "output_type": "stream",
     "text": [
      "Number:  1\n",
      "Name:  Jeff\n",
      "Math:  100\n",
      "English:  97\n",
      "==================================================\n",
      "Number:  2\n",
      "Name:  Leo\n",
      "Math:  95\n",
      "English:  66\n",
      "==================================================\n",
      "Number:  3\n",
      "Name:  Kevin\n",
      "Math:  88\n",
      "English:  78\n",
      "==================================================\n",
      "Number:  4\n",
      "Name:  Elle\n",
      "Math:  87\n",
      "English:  40\n",
      "==================================================\n",
      "Number:  5\n",
      "Name:  Jenny\n",
      "Math:  79\n",
      "English:  88\n",
      "==================================================\n"
     ]
    }
   ],
   "source": [
    "# Repeat actions =>> 交給迴圈吧!\n",
    "scores3= [\n",
    "    {\"name\":\"Jeff\",\"no\":1, \"math\":100, \"eng\": 97},\n",
    "    {\"name\":\"Leo\",\"no\":2, \"math\":95, \"eng\": 66},\n",
    "    {\"name\":\"Kevin\",\"no\":3, \"math\":88, \"eng\": 78},\n",
    "    {\"name\":\"Elle\",\"no\":4, \"math\":87, \"eng\": 40},\n",
    "    {\"name\":\"Jenny\",\"no\":5, \"math\":79, \"eng\": 88},\n",
    "]\n",
    "## 我要 dump 上面資料的 items... 一個一個一塊一塊 copy??? 資料少還好可以一個一個copy, 若資料達 10000筆呢??\n",
    "for i in scores3:\n",
    "    print(\"Number: \",i[\"no\"])\n",
    "    print(\"Name: \",i[\"name\"])\n",
    "    print(\"Math: \",i[\"math\"])\n",
    "    print(\"English: \",i[\"eng\"])\n",
    "    print(\"=\"*50)\n"
   ]
  },
  {
   "cell_type": "code",
   "execution_count": 6,
   "metadata": {},
   "outputs": [
    {
     "name": "stdout",
     "output_type": "stream",
     "text": [
      "Jeff 100\n",
      "Leo 97\n",
      "Elle 88\n",
      "Audrey 75\n",
      "Bob 86\n"
     ]
    }
   ],
   "source": [
    "data3 ={\n",
    "    \"Jeff\":100,\n",
    "    \"Leo\": 97,\n",
    "    \"Elle\" : 88,\n",
    "    \"Audrey\":75,\n",
    "    \"Bob\": 86\n",
    "}\n",
    "for key in data3:\n",
    "    print(key,data3[key])"
   ]
  },
  {
   "cell_type": "code",
   "execution_count": 7,
   "metadata": {},
   "outputs": [
    {
     "name": "stdout",
     "output_type": "stream",
     "text": [
      "th\n",
      "is\n",
      " i\n",
      "s \n",
      "a \n",
      "bo\n",
      "ok\n",
      "!!\n",
      "!\n"
     ]
    }
   ],
   "source": [
    "data4 = \"this is a book!!!\"\n",
    "msg = \"\"\n",
    "for w in data4:\n",
    "    msg = msg +w\n",
    "    if len(msg) ==2:\n",
    "        print(msg)\n",
    "        msg=\"\"\n",
    "print(msg)"
   ]
  },
  {
   "cell_type": "code",
   "execution_count": 8,
   "metadata": {},
   "outputs": [
    {
     "name": "stdout",
     "output_type": "stream",
     "text": [
      "{1, 2, 3, 4, 5, 6}\n",
      "[1, 2, 3, 4, 5, 6, 1, 1, 1, 1, 1, 1, 1, 1, 1, 1]\n",
      "(1, 2, 3, 4, 5)\n",
      "4\n"
     ]
    }
   ],
   "source": [
    "#####\n",
    "# set (集合) 裏頭的資料不重複, 有重複就會視為相同資料不做動作.\n",
    "\n",
    "data6 = {1,2,3,4,5}\n",
    "data7 = [1,2,3,4,5]\n",
    "\n",
    "data6.add(6) #set 新增值\n",
    "data7.append(6) #list 新增值\n",
    "\n",
    "for i in range(10):\n",
    "    data6.add(1)\n",
    "    data7.append(1)\n",
    "print(data6)\n",
    "print(data7)\n",
    "\n",
    "## tuple\n",
    "data8 = (1,2,3,4,5)\n",
    "data7[2] = \"test\"\n",
    "print(data8)\n",
    "print(data8[3])"
   ]
  },
  {
   "cell_type": "code",
   "execution_count": 9,
   "metadata": {},
   "outputs": [
    {
     "name": "stdout",
     "output_type": "stream",
     "text": [
      "start : a\n",
      "a 0\n",
      "a 1\n",
      "a 2\n",
      "a 3\n",
      "a 4\n",
      "end\n",
      "----------------------------------------\n",
      "start : b\n",
      "b 0\n",
      "b 1\n",
      "b 2\n",
      "b 3\n",
      "b 4\n",
      "end\n",
      "----------------------------------------\n",
      "start : c\n",
      "c 0\n",
      "c 1\n",
      "c 2\n",
      "c 3\n",
      "c 4\n",
      "end\n",
      "----------------------------------------\n"
     ]
    }
   ],
   "source": [
    "a = [\"a\",\"b\",\"c\"]\n",
    "b = range(0,5)\n",
    "for word in a:\n",
    "    print(\"start :\", word)\n",
    "    for i in b:\n",
    "        print(word,i)\n",
    "    print(\"end\")\n",
    "    print(\"-\"*40)\n",
    "    #print(word)"
   ]
  },
  {
   "cell_type": "code",
   "execution_count": 10,
   "metadata": {},
   "outputs": [
    {
     "name": "stdout",
     "output_type": "stream",
     "text": [
      "count= 0\n",
      "count= 1\n",
      "count= 2\n",
      "count= 3\n",
      "count= 4\n",
      "count= 5\n",
      "count= 6\n",
      "count= 7\n",
      "count= 8\n",
      "count= 9\n",
      "count= 10\n",
      "done!\n"
     ]
    }
   ],
   "source": [
    "### while loop\n",
    "\n",
    "count =0\n",
    "total=10\n",
    "while count<=total:\n",
    "    print(\"count=\",count)\n",
    "    count = count+1\n",
    "print(\"done!\")"
   ]
  },
  {
   "cell_type": "code",
   "execution_count": 11,
   "metadata": {},
   "outputs": [
    {
     "name": "stdout",
     "output_type": "stream",
     "text": [
      "count= 1\n",
      "count= 2\n",
      "count= 3\n",
      "count= 4\n",
      "count= 5\n",
      "count= 6\n",
      "count= 7\n",
      "count= 8\n",
      "count= 9\n",
      "count= 10\n",
      "count= 11\n",
      "count= 12\n",
      "count= 13\n",
      "count= 14\n",
      "count= 15\n",
      "count= 16\n",
      "count= 17\n",
      "count= 18\n",
      "count= 19\n",
      "count= 20\n",
      "count= 21\n",
      "count= 22\n",
      "count= 23\n",
      "count= 24\n",
      "count= 25\n",
      "count= 26\n",
      "count= 27\n",
      "count= 28\n",
      "count= 29\n",
      "count= 30\n",
      "count= 31\n",
      "count= 32\n",
      "count= 33\n",
      "count= 34\n",
      "count= 35\n",
      "count= 36\n",
      "count= 37\n",
      "count= 38\n",
      "count= 39\n",
      "count= 40\n",
      "count= 41\n",
      "count= 42\n",
      "count= 43\n",
      "count= 44\n",
      "count= 45\n",
      "count= 46\n",
      "count= 47\n",
      "count= 48\n",
      "count= 49\n",
      "count= 50\n",
      "count= 51\n",
      "count= 52\n",
      "count= 53\n",
      "count= 54\n",
      "count= 55\n",
      "count= 56\n",
      "count= 57\n",
      "count= 58\n",
      "count= 59\n",
      "count= 60\n",
      "count= 61\n",
      "count= 62\n",
      "count= 63\n",
      "count= 64\n",
      "count= 65\n",
      "count= 66\n",
      "count= 67\n",
      "count= 68\n",
      "count= 69\n",
      "count= 70\n",
      "count= 71\n",
      "count= 72\n",
      "count= 73\n",
      "count= 74\n",
      "count= 75\n",
      "count= 76\n",
      "count= 77\n",
      "count= 78\n",
      "count= 79\n",
      "count= 80\n",
      "count= 81\n",
      "count= 82\n",
      "count= 83\n",
      "count= 84\n",
      "count= 85\n",
      "count= 86\n",
      "count= 87\n",
      "count= 88\n",
      "count= 89\n",
      "count= 90\n",
      "count= 91\n",
      "count= 92\n",
      "count= 93\n",
      "count= 94\n",
      "count= 95\n",
      "count= 96\n",
      "count= 97\n",
      "count= 98\n",
      "count= 99\n",
      "count= 100\n",
      "Done!\n"
     ]
    }
   ],
   "source": [
    "### 比較 prefer 這種條件式的寫法:\n",
    "count=1\n",
    "while True:\n",
    "    print(\"count=\",count)\n",
    "    count = count +1\n",
    "    if count>100:\n",
    "        break\n",
    "print(\"Done!\")"
   ]
  },
  {
   "cell_type": "code",
   "execution_count": null,
   "metadata": {},
   "outputs": [],
   "source": []
  },
  {
   "cell_type": "code",
   "execution_count": null,
   "metadata": {},
   "outputs": [],
   "source": []
  },
  {
   "cell_type": "code",
   "execution_count": 33,
   "metadata": {},
   "outputs": [
    {
     "name": "stdout",
     "output_type": "stream",
     "text": [
      "請輸入首項= 1\n",
      "請輸入末項= 3\n",
      "總和=55\n"
     ]
    }
   ],
   "source": [
    "## 小試身手#2-1\n",
    "## (1)\n",
    "\n",
    "x0 = int(input(\"請輸入首項= \"))\n",
    "xend = int(input(\"請輸入末項= \"))\n",
    "sums=0\n",
    "for s in range(x0,xend+1):\n",
    "    sums=sums+s\n",
    "print(\"總和={}\".format(sum))"
   ]
  },
  {
   "cell_type": "code",
   "execution_count": 13,
   "metadata": {},
   "outputs": [
    {
     "name": "stdout",
     "output_type": "stream",
     "text": [
      "請輸入起點星星數= 10\n",
      "請輸入終點星星數= 1\n",
      "10\n",
      "1\n",
      "-1\n",
      "**********\n",
      "*********\n",
      "********\n",
      "*******\n",
      "******\n",
      "*****\n",
      "****\n",
      "***\n",
      "**\n",
      "*\n"
     ]
    }
   ],
   "source": [
    "## (2)\n",
    "step=1\n",
    "star0 = int(input(\"請輸入起點星星數= \"))\n",
    "if star0 <=0: \n",
    "    star0=1\n",
    "starend = int(input(\"請輸入終點星星數= \"))\n",
    "if starend <=0: \n",
    "    starend=1\n",
    "\n",
    "if star0 >= starend:\n",
    "    step=-1\n",
    "\n",
    "print(star0)\n",
    "print(starend)\n",
    "print(step)\n",
    "#track = list(range(star0,starend-1,step))\n",
    "#print(track)\n",
    "for i in range(star0,starend-1,step):\n",
    "    print(\"*\"*i)"
   ]
  },
  {
   "cell_type": "code",
   "execution_count": 14,
   "metadata": {},
   "outputs": [
    {
     "name": "stdout",
     "output_type": "stream",
     "text": [
      "JJJJJ\n",
      "aaaa\n",
      "ccc\n",
      "kk\n",
      "!\n"
     ]
    }
   ],
   "source": [
    "## (3)\n",
    "name = \"Jack!\"\n",
    "count=len(name)\n",
    "for i in name:\n",
    "    print(i*count)\n",
    "    count = count-1"
   ]
  },
  {
   "cell_type": "code",
   "execution_count": 15,
   "metadata": {},
   "outputs": [
    {
     "name": "stdout",
     "output_type": "stream",
     "text": [
      "a\n",
      "b\n",
      "c\n",
      "c\n",
      "c\n",
      "a\n",
      "d\n",
      "b\n",
      "b\n",
      "a\n",
      "c\n",
      "{'a': 3, 'b': 3, 'c': 4, 'd': 1}\n"
     ]
    }
   ],
   "source": [
    "## (4) => Word count\n",
    "list1 = [\"a\",\"b\",\"c\",\"c\",\"c\",\"a\",\"d\",\"b\",\"b\",\"a\",\"c\"]\n",
    "result ={}\n",
    "for ele in list1:\n",
    "    print(ele)\n",
    "    if ele in result:\n",
    "        result[ele] +=1\n",
    "    else:\n",
    "        result[ele] =1\n",
    "print(result)"
   ]
  },
  {
   "cell_type": "code",
   "execution_count": 6,
   "metadata": {},
   "outputs": [
    {
     "name": "stdout",
     "output_type": "stream",
     "text": [
      "1*1=1  1*2=2  1*3=3  1*4=4  1*5=5  1*6=6  1*7=7  1*8=8  1*9=9  \n",
      "2*1=2  2*2=4  2*3=6  2*4=8  2*5=10 2*6=12 2*7=14 2*8=16 2*9=18 \n",
      "3*1=3  3*2=6  3*3=9  3*4=12 3*5=15 3*6=18 3*7=21 3*8=24 3*9=27 \n",
      "4*1=4  4*2=8  4*3=12 4*4=16 4*5=20 4*6=24 4*7=28 4*8=32 4*9=36 \n",
      "5*1=5  5*2=10 5*3=15 5*4=20 5*5=25 5*6=30 5*7=35 5*8=40 5*9=45 \n",
      "6*1=6  6*2=12 6*3=18 6*4=24 6*5=30 6*6=36 6*7=42 6*8=48 6*9=54 \n",
      "7*1=7  7*2=14 7*3=21 7*4=28 7*5=35 7*6=42 7*7=49 7*8=56 7*9=63 \n",
      "8*1=8  8*2=16 8*3=24 8*4=32 8*5=40 8*6=48 8*7=56 8*8=64 8*9=72 \n",
      "9*1=9  9*2=18 9*3=27 9*4=36 9*5=45 9*6=54 9*7=63 9*8=72 9*9=81 \n"
     ]
    }
   ],
   "source": [
    "### (5)\n",
    "\n",
    "\n",
    "for x in range(1,10):\n",
    "    table=\"\"\n",
    "    msg =\"\"\n",
    "    for y in range(1,10):\n",
    "        ### table = table + \"{}*{}={:2d}\".format(x,y,x*y) +\" \"\n",
    "        value = x*y\n",
    "        space = \"  \" if value <10 else \" \"  ### <=== 三元運算子: variables = value1 if [condition1] else value2\n",
    "        msg += \"{}*{}={}{}\".format(x,y,value,space)\n",
    "    print(msg)\n",
    "    \n",
    "    \n",
    "        \n",
    " "
   ]
  },
  {
   "cell_type": "code",
   "execution_count": 17,
   "metadata": {},
   "outputs": [
    {
     "name": "stdout",
     "output_type": "stream",
     "text": [
      "x : 12\n",
      "y : 15\n",
      "[27, -3, 180, 0.8]\n"
     ]
    }
   ],
   "source": [
    "### func()\n",
    "### 定義:\n",
    "def calculate(x,y):\n",
    "    print(\"x :\",x)\n",
    "    print(\"y :\",y)\n",
    "    return [x+y,x-y,x*y,x/y]\n",
    "## 呼叫/使用 func\n",
    "result = calculate(12,15)\n",
    "print(result)"
   ]
  },
  {
   "cell_type": "code",
   "execution_count": 1,
   "metadata": {},
   "outputs": [
    {
     "data": {
      "text/plain": [
       "352"
      ]
     },
     "execution_count": 1,
     "metadata": {},
     "output_type": "execute_result"
    }
   ],
   "source": [
    "# func-2\n",
    "def get_scores_info(score,name):\n",
    "    print(\"{} Sum:  \".format(name),sum(score))\n",
    "    print(\"{} Avg:  \".format(name),sum(score)/len(score))\n",
    "    print(\"{} Max:  \".format(name),sorted(score,reverse=True)[0] )\n",
    "\n",
    "maths=[99, 98, 100, 55]\n",
    "sum(maths)\n",
    "# get_scores_info(math,\"Math\")"
   ]
  },
  {
   "cell_type": "code",
   "execution_count": 2,
   "metadata": {},
   "outputs": [
    {
     "name": "stdout",
     "output_type": "stream",
     "text": [
      "[In function]\n",
      "  Jack\n",
      " Age : 18\n",
      "[In function]\n",
      "----------------------------------------\n",
      "[Out function]\n",
      "None\n"
     ]
    }
   ],
   "source": [
    "def test_func(name,age):\n",
    "    print(\"[In function]\")\n",
    "    print(\" \",name)\n",
    "    print(\" Age : {}\".format(age))\n",
    "    print(\"[In function]\")\n",
    "#     return \"Done.\"\n",
    "\n",
    "a = test_func(\"Jack\",18)\n",
    "print(\"-\"*40)\n",
    "print(\"[Out function]\")\n",
    "print(a) ## <= 有回傳值再去接... 沒有的話不用加變數去接"
   ]
  },
  {
   "cell_type": "code",
   "execution_count": 3,
   "metadata": {},
   "outputs": [
    {
     "name": "stdout",
     "output_type": "stream",
     "text": [
      "82.5\n",
      "[100, 95, 87, 85, 90, 95, 98, 96, 97]\n"
     ]
    }
   ],
   "source": [
    "def get_avg_scores(scores):\n",
    "    return sum(scores)/len(scores)\n",
    "\n",
    "def get_passed_scores(scores):\n",
    "#     passed_score=60\n",
    "    avg = get_avg_scores(scores)\n",
    "    result=[]\n",
    "    for ele in scores:\n",
    "        if ele >= avg:\n",
    "            result.append(ele)\n",
    "    return result\n",
    "\n",
    "math = [100,95,87,42,47,85,58,90,95,98,96,97]\n",
    "avg_score = get_avg_scores(math)\n",
    "print(avg_score)\n",
    "passed_score=get_passed_scores(math)\n",
    "# print(avg_score)\n",
    "print(passed_score)"
   ]
  },
  {
   "cell_type": "code",
   "execution_count": 4,
   "metadata": {},
   "outputs": [
    {
     "name": "stdout",
     "output_type": "stream",
     "text": [
      "[24, 42, 28, 30, 47, 6, 19, 40, 2]\n"
     ]
    }
   ],
   "source": [
    "## Poll Lotory\n",
    "## num: 1~49 random\n",
    "import random\n",
    "def get_rand_num(n):\n",
    "    result = []\n",
    "    while True:\n",
    "        num = random.randint(1,49)\n",
    "        if num not in result:\n",
    "            result.append(num)\n",
    "        if len(result) == n:\n",
    "            break\n",
    "    return result\n",
    "\n",
    "numbers = get_rand_num(9) \n",
    "print(numbers)"
   ]
  },
  {
   "cell_type": "markdown",
   "metadata": {},
   "source": [
    "# 套件"
   ]
  },
  {
   "cell_type": "code",
   "execution_count": 5,
   "metadata": {},
   "outputs": [
    {
     "name": "stdout",
     "output_type": "stream",
     "text": [
      "C:\\python-ntust-2020\n",
      ".ipynb_checkpoints\n",
      "cmder\n",
      "mooc\n",
      "python-ntust-20200314.ipynb\n",
      "python-ntust-helloworld.ipynb\n",
      "C:\\python-ntust-2020\\python-ntust-20200314.ipynb\n"
     ]
    }
   ],
   "source": [
    "import os\n",
    "print(os.getcwd())\n",
    "file_names = os.listdir()\n",
    "for f in file_names:\n",
    "    print(f)\n",
    "\n",
    "file = file_names[3]\n",
    "print(os.path.join(os.getcwd(),file))"
   ]
  },
  {
   "cell_type": "code",
   "execution_count": 6,
   "metadata": {},
   "outputs": [
    {
     "name": "stdout",
     "output_type": "stream",
     "text": [
      "0.7284996238745299\n",
      "63\n",
      "a\n"
     ]
    }
   ],
   "source": [
    "import random\n",
    "print(random.random())\n",
    "print(random.randint(60,100))\n",
    "print(random.choice([1,2,4,8,\"a\",\"bb\",\"ccc\"]))"
   ]
  },
  {
   "cell_type": "code",
   "execution_count": 7,
   "metadata": {},
   "outputs": [
    {
     "name": "stdout",
     "output_type": "stream",
     "text": [
      "<!DOCTYPE html><html id=\"atomic\" class=\"NoJs lightweight smartphone\" lang=\"zh-Hant-TW\"><head prefix=\"og: http://ogp.me/ns#\"><script>window.performance && window.performance.mark && window.performance.mark('PageStart');</script><meta charset=\"utf-8\"/><meta name=\"oath:guce:consent-host\" content=\"guce.yahoo.com\"/><meta name=\"msapplication-TileColor\" content=\"#6e329d\"/><meta name=\"msapplication-TileImage\" content=\"https://s.yimg.com/rz/p/yahoo_frontpage_en-US_s_f_w_bestfit_frontpage.png\"/><meta name=\"msvalidate.01\" content=\"A9862C0E6E1BE95BCE0BF3D0298FD58B\"/><meta name=\"referrer\" content=\"unsafe-url\"/><meta name=\"theme-color\" content=\"#400090\"/><meta name=\"twitter:dnt\" content=\"on\"/><meta name=\"twitter:site\" content=\"@Yahoo\"/><meta name=\"viewport\" content=\"width=device-width, initial-scale=1, maximum-scale=1, user-scalable=no\"/><meta name=\"apple-itunes-app\" content=\"app-id=1437216700,app-argument=ysuper://story/確診直追義大利-西班牙24小時暴增2086例-022900167/01490841-22c9-30c8-84c9-216bcff32bd5\"/><meta name=\"news_keywords\" content=\"義大利, 西班牙\"/><meta name=\"twitter:card\" content=\"summary_large_image\"/><meta name=\"twitter:description\" content=\"武漢肺炎全球延燒，歐洲各國也陸續淪陷，當中義大利確診人數更是一舉突破萬人，14日上午已來到17660 例，死亡 1266 人。對此義大利總理孔蒂（ Giuseppe Conte\"/><meta name=\"twitter:image\" content=\"https://s.yimg.com/ny/api/res/1.2/t2p_.IqiBzOsCvnlPqD9SQ--/YXBwaWQ9aGlnaGxhbmRlcjt3PTEyODA7aD03MjA-/https://s.yimg.com/uu/api/res/1.2/qnBJP5bafzct6mFMRZi4zw--~B/aD02NzU7dz0xMjAwO3NtPTE7YXBwaWQ9eXRhY2h5b24-/https://media.zenfs.com/ko/ebc.net.tw/07b0f1abfbf041b6ba816d90ff46283b\"/><meta name=\"twitter:image:src\" content=\"https://s.yimg.com/ny/api/res/1.2/t2p_.IqiBzOsCvnlPqD9SQ--/YXBwaWQ9aGlnaGxhbmRlcjt3PTEyODA7aD03MjA-/https://s.yimg.com/uu/api/res/1.2/qnBJP5bafzct6mFMRZi4zw--~B/aD02NzU7dz0xMjAwO3NtPTE7YXBwaWQ9eXRhY2h5b24-/https://media.zenfs.com/ko/ebc.net.tw/07b0f1abfbf041b6ba816d90ff46283b\"/><meta name=\"twitter:title\" content=\"確診直追義大利！西班牙24小時暴增2086例\"/><meta name=\"description\" content=\"武漢肺炎全球延燒，歐洲各國也陸續淪陷，當中義大利確診人數更是一舉突破萬人，14日上午已來到17660 例，死亡 1266 人。對此義大利總理孔蒂（ Giuseppe Conte\"/><meta property=\"og:type\" content=\"article\"/><meta property=\"fb:pages\" content=\"109249609124014\"/><meta property=\"fb:pages\" content=\"1034652223286674\"/><meta property=\"fb:pages\" content=\"773783239402173\"/><meta property=\"fb:pages\" content=\"214646568602122\"/><meta property=\"fb:pages\" content=\"166242000059278\"/><meta property=\"fb:app_id\" content=\"399384933466174\"/><meta property=\"al:android:app_name\" content=\"Yahoo奇摩\"/><meta property=\"al:android:package\" content=\"com.yahoo.mobile.client.android.superapp\"/><meta property=\"al:android:url\" content=\"ysuper://story/確診直追義大利-西班牙24小時暴增2086例-022900167/01490841-22c9-30c8-84c9-216bcff32bd5\"/><meta property=\"al:ios:app_name\" content=\"Yahoo奇摩\"/><meta property=\"al:ios:app_store_id\" content=\"1437216700\"/><meta property=\"al:ios:url\" content=\"ysuper://story/確診直追義大利-西班牙24小時暴增2086例-022900167/01490841-22c9-30c8-84c9-216bcff32bd5\"/><meta property=\"og:image:width\" content=\"1200\"/><meta property=\"og:image:height\" content=\"675\"/><meta property=\"og:description\" content=\"武漢肺炎全球延燒，歐洲各國也陸續淪陷，當中義大利確診人數更是一舉突破萬人，14日上午已來到17660 例，死亡 1266 人。對此義大利總理孔蒂（ Giuseppe Conte\"/><meta property=\"og:image\" content=\"https://s.yimg.com/ny/api/res/1.2/t2p_.IqiBzOsCvnlPqD9SQ--/YXBwaWQ9aGlnaGxhbmRlcjt3PTEyODA7aD03MjA-/https://s.yimg.com/uu/api/res/1.2/qnBJP5bafzct6mFMRZi4zw--~B/aD02NzU7dz0xMjAwO3NtPTE7YXBwaWQ9eXRhY2h5b24-/https://media.zenfs.com/ko/ebc.net.tw/07b0f1abfbf041b6ba816d90ff46283b\"/><meta property=\"og:title\" content=\"確診直追義大利！西班牙24小時暴增2086例\"/><meta property=\"og:url\" content=\"https://tw.news.yahoo.com/%E7%A2%BA%E8%A8%BA%E7%9B%B4%E8%BF%BD%E7%BE%A9%E5%A4%A7%E5%88%A9-%E8%A5%BF%E7%8F%AD%E7%89%9924%E5%B0%8F%E6%99%82%E6%9A%B4%E5%A2%9E2086%E4%BE%8B-022900167.html\"/><meta http-equiv=\"x-dns-prefetch-control\" content=\"on\"/><link rel=\"alternate\" href=\"https://tw.news.yahoo.com/%E7%A2%BA%E8%A8%BA%E7%9B%B4%E8%BF%BD%E7%BE%A9%E5%A4%A7%E5%88%A9-%E8%A5%BF%E7%8F%AD%E7%89%9924%E5%B0%8F%E6%99%82%E6%9A%B4%E5%A2%9E2086%E4%BE%8B-022900167.html\" hreflang=\"x-default\"/><link rel=\"canonical\" href=\"https://tw.news.yahoo.com/%E7%A2%BA%E8%A8%BA%E7%9B%B4%E8%BF%BD%E7%BE%A9%E5%A4%A7%E5%88%A9-%E8%A5%BF%E7%8F%AD%E7%89%9924%E5%B0%8F%E6%99%82%E6%9A%B4%E5%A2%9E2086%E4%BE%8B-022900167.html\"/><link rel=\"alternate\" href=\"https://tw.news.yahoo.com/%E7%A2%BA%E8%A8%BA%E7%9B%B4%E8%BF%BD%E7%BE%A9%E5%A4%A7%E5%88%A9-%E8%A5%BF%E7%8F%AD%E7%89%9924%E5%B0%8F%E6%99%82%E6%9A%B4%E5%A2%9E2086%E4%BE%8B-022900167.html\" hreflang=\"zh-Hant-TW\"/><link rel=\"dns-prefetch\" href=\"//consent.cmp.oath.com\"/><link rel=\"dns-prefetch\" href=\"//csc.beap.bc.yahoo.com\"/><link rel=\"dns-prefetch\" href=\"//beap.gemini.yahoo.com\"/><link rel=\"dns-prefetch\" href=\"//yep.video.yahoo.com\"/><link rel=\"dns-prefetch\" href=\"//video-api.yql.yahoo.com\"/><link rel=\"dns-prefetch\" href=\"//yrtas.btrll.com\"/><link rel=\"dns-prefetch\" href=\"//shim.btrll.com\"/><link rel=\"preconnect\" href=\"//s.yimg.com\"/><link rel=\"preconnect\" href=\"//mbp.yimg.com\"/><link rel=\"preconnect\" href=\"//geo.query.yahoo.com\"/><link rel=\"preconnect\" href=\"//consent.cmp.oath.com\"/><link rel=\"preconnect\" href=\"//csc.beap.bc.yahoo.com\"/><link rel=\"preconnect\" href=\"//beap.gemini.yahoo.com\"/><link rel=\"preconnect\" href=\"//yep.video.yahoo.com\"/><link rel=\"preconnect\" href=\"//video-api.yql.yahoo.com\"/><link rel=\"preconnect\" href=\"//yrtas.btrll.com\"/><link rel=\"preconnect\" href=\"//shim.btrll.com\"/><link rel=\"icon\" sizes=\"any\" href=\"https://s.yimg.com/os/mit/media/p/common/images/favicon_new-7483e38.svg\"/><link rel=\"icon\" type=\"image/x-icon\" href=\"https://s.yimg.com/cv/apiv2/default/fp/20180826/icons/favicon_y19_32x32.ico\"/><link rel=\"amphtml\" href=\"https://tw.news.yahoo.com/amphtml/%E7%A2%BA%E8%A8%BA%E7%9B%B4%E8%BF%BD%E7%BE%A9%E5%A4%A7%E5%88%A9-%E8%A5%BF%E7%8F%AD%E7%89%9924%E5%B0%8F%E6%99%82%E6%9A%B4%E5%A2%9E2086%E4%BE%8B-022900167.html\"/><title>確診直追義大利！西班牙24小時暴增2086例</title><link rel=\"stylesheet\" href=\"https://s.yimg.com/aaq/yc/css/custom.65019634.css\"/><link rel=\"stylesheet\" href=\"https://s.yimg.com/aaq/yc/css/bundle.ce149847.css\"/><link rel=\"stylesheet\" href=\"https://s.yimg.com/aaq/yc/css/atomic-desktop-ltr-0.4d61c730.css\"/><link rel=\"stylesheet\" href=\"https://s.yimg.com/aaq/yc/css/atomic-desktop-ltr.365d74c5.css\"/><link rel=\"stylesheet\" href=\"https://s.yimg.com/aaq/yc/css/atomic-context.3bb2edfe.css\"/><link rel=\"stylesheet\" href=\"https://s.yimg.com/aaq/yc/css/patch.cd698090.css\"/><link rel=\"stylesheet\" href=\"https://s.yimg.com/aaq/yc/css/theme.2f876e26.css\"/><link rel=\"stylesheet\" href=\"https://s.yimg.com/os/fuji-style/css/fuji-rollup.min.4b1d0681.css\"/><link rel=\"stylesheet\" href=\"https://s.yimg.com/aaq/yc/css/content-canvas.358644ff.css\"/><link rel=\"stylesheet\" href=\"https://s.yimg.com/aaq/c/9232aba.caas-default.min.css\"/><script src=\"https://www.yahoo.com/polyfill.min.js?features=array.isarray%2Carray.prototype.every%2Carray.prototype.foreach%2Carray.prototype.indexof%2Carray.prototype.map%2Cdate.now%2Cfunction.prototype.bind%2Cobject.keys%2Cstring.prototype.trim%2Cobject.defineproperty%2Cobject.defineproperties%2Cobject.create%2Cobject.freeze%2Carray.prototype.filter%2Carray.prototype.reduce%2Cobject.assign%2Cpromise%2Crequestanimationframe%2Carray.prototype.some%2Cobject.getownpropertynames%2Clocale-data-en-us%2Cintl%2Clocale-data-zh-hant-tw&amp;version=2.1.23\" defer=\"\"></script><script src=\"https://s.yimg.com/aaq/yc/2.9.0/zh.js\"></script><script src=\"https://consent.cmp.oath.com/cmpStub.min.js\"></script><script src=\"https://consent.cmp.oath.com/cmp.js\" async=\"\"></script><script>!function(o,c){var a,t,i,n,e=[],r={passive:!0,capture:!0},p=new Date,f=\"pointerup\",u=\"pointercancel\",d=window;function m(n,e){a||(a=e,t=n,i=new Date,M(c),w())}function w(){0<=t&&t<i-p&&(e.forEach(function(n){n(t,a)}),e=[])}function s(n){if(n.cancelable){var e=(1e12<n.timeStamp?new Date:d.performance.now())-n.timeStamp;\"pointerdown\"===n.type?function(n,e){function a(){m(n,e),i()}function t(){i()}function i(){c(f,a,r),c(u,t,r)}o(f,a,r),o(u,t,r)}(e,n):m(e,n)}}function M(e){[\"click\",\"mousedown\",\"keydown\",\"touchstart\",\"pointerdown\"].forEach(function(n){e(n,s,r)})}d.performance&&d.performance.now&&M(o),n=function(n,e){var a=d.YAHOO&&d.YAHOO.i13n&&d.YAHOO.i13n.rapidInstance||d.YMedia&&d.YMedia.My&&d.YMedia.My.App&&d.YMedia.My.App.getRapidTracker&&d.YMedia.My.App.getRapidTracker()||d.rapidInstance,t=Math.round(n);a&&a.beaconPerformanceData&&0<t&&(t={utm:{yaft_fid:t}},a.beaconPerformanceData({perf_usertime:t}))},e.push(n),w()}(addEventListener,removeEventListener);</script></head><body><div id=\"app\"><div data-reactroot=\"\" data-reactid=\"1\" data-react-checksum=\"-659868313\"><div class=\"render-target-active  render-target-default\" id=\"render-target-default\" data-reactid=\"2\"><div class=\"news TW zh-Hant-TW H(100%) uh-search-open_Ovy(h) uh-search-open_H(100vh)\" data-reactid=\"3\"><div id=\"YDC-MainCanvas\" class=\"YDC-MainCanvas Bgc($bg-body) Mih(100%)\" style=\"padding-top:0;margin-bottom:auto;\" data-reactid=\"4\"><div id=\"YDC-UH\" class=\"YDC-UH lw-nav-open_D(n)\" style=\"height:54px;\" data-reactid=\"5\"><div id=\"YDC-UH-Stack\" class=\"YDC-UH-Stack Z(10) End(0) Start(0) T(0) Pos(f) uh-search-open_Pos(a) uh-mobile-nav-open_D(n) lw-nav-open_D(n)\" data-reactid=\"6\"><div id=\"YDC-UH-Stack-Composite\" data-reactid=\"7\"><div data-reactid=\"8\"><div id=\"mrt-node-UH-0-MobileHeader\" data-locator=\"subtree-root\"><div id=\"UH-0-MobileHeader-Proxy\" data-reactroot=\"\" data-reactid=\"1\" data-react-checksum=\"1645940173\"><div data-reactid=\"2\"><div class=\"Pos(a) T(0) W(100%)\" data-reactid=\"3\"><div id=\"UH-0-MobileHeader\" class=\"Bg(fallbackMobileUHColor) Bg(customGradientUH)! Z(4) W(100%) T(0) Start(0) End(0) uh-logo-open_Pe(n) Trsdu(.3s) TranslateY(0) scrollDown_TranslateY(-46px) uh-search-open_TranslateY(-46px)\" data-name=\"tdv2-applet-uh\" data-version=\"10.2.13\" data-reactid=\"4\"><div class=\"D(tb) W(100%)\" data-reactid=\"5\"><div class=\"D(tbc) IbBox Pstart(20px) Ta(s) W(30%)\" data-reactid=\"6\"><a href=\"javascript: history.back()\" class=\"Bdw(0) Ta(inherit) Fz(14px) IbBox O(n) Ov(h) P(0) Td(n) Tov(e) W(100%) Whs(nw) C(#fff) Lh(55px)\" id=\"uh-back\" data-reactid=\"7\"><svg class=\"Cur(p)\" width=\"14\" style=\"vertical-align:middle;stroke-width:1px;fill:#fff;stroke:#fff;\" height=\"14\" viewBox=\"-0.5 -0.5 33 33\" data-icon=\"CoreArrowLeft\" data-reactid=\"8\"><path d=\"M22.72.665c-.886-.887-2.323-.887-3.21 0L4.175 16 19.51 31.335c.442.443 1.023.665 1.604.665s1.162-.222 1.605-.665c.886-.887.886-2.324 0-3.21L10.596 16 22.72 3.876c.887-.887.887-2.324 0-3.21z\" data-reactid=\"9\"></path></svg><b class=\"P(4px)\" data-reactid=\"10\">回上頁</b></a></div><h1 class=\"Lh(49px) D(tbc) M(a) IbBox Ta(c)\" data-reactid=\"11\"><a id=\"uh-logo\" class=\"uh-menus D(ib) Va(m) C(#fff) W(90px) H(25px)\" style=\"background-image:url(https://s.yimg.com/rz/p/yahoo_en-US_h_w_bestfit_2.png);background-repeat:no-repeat;background-size:contain;background-position:center;\" href=\"https://tw.news.yahoo.com/\" data-reactid=\"12\"><b class=\"Hidden\" data-reactid=\"13\">Yahoo奇摩</b></a></h1><div class=\"D(tbc) IbBox Pend(20px) Ta(e) W(30%)\" data-reactid=\"14\"><div class=\"D(tbc) IbBox\" data-reactid=\"15\"></div></div></div></div></div></div></div></div><script>if (window.performance) {window.performance.mark && window.performance.mark('UH');window.performance.measure && window.performance.measure('UHDone','PageStart','UH');}</script></div></div></div></div><div class=\"Bgc($bg-content) Pos(r) Z(1) uh-mobile-nav-open_D(n) lw-nav-open_D(n) lw-nav-open_Pos(a) lw-nav-open_T(54px) Ovx(h)\" data-reactid=\"9\"><div id=\"YDC-Hero\" class=\"YDC-Hero  \" data-reactid=\"10\"><div id=\"YDC-Hero-Stack\" class=\"YDC-Hero-Stack Pos(r) Z(3)\" data-reactid=\"11\"><div id=\"YDC-Hero-Stack-Composite\" data-reactid=\"12\"><div data-reactid=\"13\"><div id=\"mrt-node-Hero-0-FeatureBar-smartphone\" data-locator=\"subtree-root\"><div id=\"Hero-0-FeatureBar-smartphone-Proxy\"></div></div><script>if (window.performance) {window.performance.mark && window.performance.mark('Hero-0-FeatureBar-smartphone');window.performance.measure && window.performance.measure('Hero-0-FeatureBar-smartphoneDone','PageStart','Hero-0-FeatureBar-smartphone');}</script></div></div></div></div><!-- react-empty: 14 --><div id=\"YDC-Col1\" class=\"YDC-Col1\" data-reactid=\"15\"><div id=\"YDC-Col1-Stack\" class=\"YDC-Col1-Stack SideSlot-open_D(n)\" data-reactid=\"16\"><div id=\"YDC-Col1-Stack-Composite\" data-reactid=\"17\"><div data-reactid=\"18\"><div id=\"mrt-node-Col1-0-CaasContent\" data-locator=\"subtree-root\"><div id=\"Col1-0-CaasContent-Proxy\" data-reactroot=\"\" data-reactid=\"1\" data-react-checksum=\"67479569\"><div id=\"caas-articles-container\" class=\"\" data-reactid=\"2\"><div data-reactid=\"3\"><div class=\"caas caas-cc news\" data-assets=\"\" data-cobrandname=\"\" data-device=\"smartphone\" data-i18n=\"{&quot;{0} Views&quot;:&quot;{0} Views&quot;,&quot;360_TITLE&quot;:&quot;全方位報導&quot;,&quot;Ad&quot;:&quot;廣告&quot;,&quot;AND&quot;:&quot;和 &quot;,&quot;AR_INLINE_FALLBACK&quot;:&quot;這則報導可用擴增實境瀏覽！點選上方的影片看看功能外觀並下載 \\u003Ca href=\\&quot;https:\\u002F\\u002Fitunes.apple.com\\u002Fus\\u002Fapp\\u002Fyahoo-news-live-breaking-news\\u002Fid304158842?mt=8\\&quot;\\u003EYahoo奇摩新聞應用程式\\u003C\\u002Fa\\u003E，享受完整體驗。擴增實境功能現已開放安裝最新版本 iOS 的 iPhone (iPhone 8 和更新機種) 使用者使用。&quot;,&quot;AR_INTRO_LINK&quot;:&quot;在此閱讀相關資訊，了解運作方式。&quot;,&quot;AR_INTRO&quot;:&quot;Yahoo奇摩新聞現已引進擴增實境功能，以沉浸式的報導格式搭配全新手法，讓您彷彿親臨新聞現場。馬上到下面體驗。&quot;,&quot;AR_TITLE_MODEL_VIEWER&quot;:&quot;Tap to see in your space &amp;rarr;&quot;,&quot;COLLAPSE&quot;:&quot;收合&quot;,&quot;CONTENT_FEEDBACK&quot;:&quot;意見與建議&quot;,&quot;EMAIL&quot;:&quot;電子信件&quot;,&quot;FACT_CHECK&quot;:&quot;事實查核&quot;,&quot;GET_APP&quot;:&quot;下載應用程式&quot;,&quot;GRAPHIQ&quot;:&quot;視覺由 Graphiq 提供&quot;,&quot;LESS&quot;:&quot;較少&quot;,&quot;MORE&quot;:&quot;更多&quot;,&quot;NEWS_APP_PROMOTION_CAPTION&quot;:&quot;查閱「本日 10 大熱門新聞」，一手掌握最新資訊&quot;,&quot;NEWS_APP_PROMOTION_HEADLINE&quot;:&quot;在應用程式中查看 Yahoo奇摩新聞效果最佳&quot;,&quot;REACTIONS&quot;:&quot;留言&quot;,&quot;READ_FULL_ARTICLE&quot;:&quot;閱讀全文&quot;,&quot;READ_MORE&quot;:&quot;閱讀更多內容&quot;,&quot;REBLOG_ON_TUMBLR&quot;:&quot;轉貼到 Tumblr&quot;,&quot;Scroll to continue with content&quot;:&quot;捲動即可繼續閱讀內容&quot;,&quot;SHARE&quot;:&quot;分享&quot;,&quot;STORY_CONTINUES&quot;:&quot;繼續閱讀報導&quot;,&quot;TWEET&quot;:&quot;推文&quot;,&quot;VIDEO_TITLE&quot;:&quot; [影片]&quot;,&quot;VIEW_AR_IMAGE&quot;:&quot;用擴增實境在自己的空間中檢視這則新聞&quot;,&quot;VIEW_PHOTOS&quot;:&quot;檢視相片&quot;}\" data-lang=\"zh-Hant-TW\" data-params=\"{&quot;features&quot;:{},&quot;config&quot;:{&quot;freezeOnLinkClick&quot;:false,&quot;lazyOffsetY&quot;:900,&quot;livecoverage&quot;:{&quot;defer&quot;:false},&quot;imageCaptionCollapseLineCount&quot;:3,&quot;uiShowPreviousButtonOnLoad&quot;:false}}\" id=\"caas-art-01490841-22c9-30c8-84c9-216bcff32bd5\"><article role=\"article\" tabindex=\"-1\"><script type=\"application/ld+json\">\n",
      "    {\"@context\":\"http://schema.org\",\"@type\":\"NewsArticle\",\"mainEntityOfPage\":\"https://tw.news.yahoo.com/%E7%A2%BA%E8%A8%BA%E7%9B%B4%E8%BF%BD%E7%BE%A9%E5%A4%A7%E5%88%A9-%E8%A5%BF%E7%8F%AD%E7%89%9924%E5%B0%8F%E6%99%82%E6%9A%B4%E5%A2%9E2086%E4%BE%8B-022900167.html\",\"headline\":\"確診直追義大利！西班牙24小時暴增2086例\",\"datePublished\":\"2020-03-14T02:29:00.000Z\",\"dateModified\":\"2020-03-14T02:29:00.000Z\",\"keywords\":[\"義大利\",\"西班牙\"],\"description\":\"武漢肺炎全球延燒，歐洲各國也陸續淪陷，當中義大利確診人數更是一舉突破萬人，14日上午已來到17660 例，死亡 1266 人。對此義大利總理孔蒂（ Giuseppe Conte\",\"publisher\":{\"@type\":\"Organization\",\"name\":\"Yahoo奇摩新聞\",\"logo\":{\"@type\":\"ImageObject\",\"url\":\"https://s.yimg.com/cv/api/twmobi/icons/yahoo_tw_logo_amp.png\",\"width\":139,\"height\":60}},\"author\":{\"@type\":\"Person\",\"name\":\"東森新聞\"},\"creator\":{\"@type\":\"Person\",\"name\":\"東森新聞\"},\"provider\":{\"@type\":\"Organization\",\"name\":\"EBC東森新聞\",\"url\":\"http://news.ebc.net.tw/\",\"logo\":{\"@type\":\"ImageObject\",\"width\":227,\"height\":55,\"url\":\"https://s.yimg.com/uu/api/res/1.2/PnzKfLMYdvxrYbm.r2yinQ--~B/YXBwaWQ9eXRhY2h5b24-/https://s.yimg.com/os/creatr-images/GLB/2017-09-18/5824c020-9c36-11e7-8fb8-81b0b2be71ac_-2017-09-18-1-57-45.png\"}},\"image\":{\"@type\":\"ImageObject\",\"url\":\"https://s.yimg.com/ny/api/res/1.2/t2p_.IqiBzOsCvnlPqD9SQ--/YXBwaWQ9aGlnaGxhbmRlcjt3PTEyODA7aD03MjA-/https://s.yimg.com/uu/api/res/1.2/qnBJP5bafzct6mFMRZi4zw--~B/aD02NzU7dz0xMjAwO3NtPTE7YXBwaWQ9eXRhY2h5b24-/https://media.zenfs.com/ko/ebc.net.tw/07b0f1abfbf041b6ba816d90ff46283b\",\"width\":1200,\"height\":675},\"thumbnailUrl\":\"https://s.yimg.com/ny/api/res/1.2/t2p_.IqiBzOsCvnlPqD9SQ--/YXBwaWQ9aGlnaGxhbmRlcjt3PTEyODA7aD03MjA-/https://s.yimg.com/uu/api/res/1.2/qnBJP5bafzct6mFMRZi4zw--~B/aD02NzU7dz0xMjAwO3NtPTE7YXBwaWQ9eXRhY2h5b24-/https://media.zenfs.com/ko/ebc.net.tw/07b0f1abfbf041b6ba816d90ff46283b\"}\n",
      "</script><script class=\"caas-yvideo-config\" type=\"application/ld+json\">\n",
      "    {}\n",
      "</script><header class=\"caas-title-wrapper\"><h1>確診直追義大利！西班牙24小時暴增2086例</h1></header><div class=\"caas-attr\"><div class=\"caas-attr-meta\"><div class=\"caas-attr-item\"><span class=\"caas-attr-author caas-attr-item\">東森新聞</span></div><div class=\"caas-attr-item\"><a class=\"link rapid-noclick-resp caas-attr-provider caas-attr-item\" href=\"http://news.ebc.net.tw/\" title=\"\" data-ylk=\"g:01490841-22c9-30c8-84c9-216bcff32bd5;elm:pvdr_name;slk:pvdr_name\" target=\"_blank\">EBC東森新聞</a><time class=\"caas-attr-meta-time caas-attr-seperator\" dateTime=\"2020-03-14T02:29:00.000Z\">2020年3月14日 上午2:29 [UTC]</time></div></div></div><div class=\"caas-body\"><figure class=\"caas-figure\"><div class=\"caas-img-container\" style=\"padding-bottom:56%;\"><img class=\"caas-img has-preview\" alt=\"\" src=\"https://s.yimg.com/ny/api/res/1.2/xAiZuxAR0fkY7mVo3XHiPA--/YXBwaWQ9aGlnaGxhbmRlcjt3PTY0MDtoPTM2MA--/https://s.yimg.com/uu/api/res/1.2/qnBJP5bafzct6mFMRZi4zw--~B/aD02NzU7dz0xMjAwO3NtPTE7YXBwaWQ9eXRhY2h5b24-/https://media.zenfs.com/ko/ebc.net.tw/07b0f1abfbf041b6ba816d90ff46283b\" data-src=\"https://s.yimg.com/ny/api/res/1.2/xAiZuxAR0fkY7mVo3XHiPA--/YXBwaWQ9aGlnaGxhbmRlcjt3PTY0MDtoPTM2MA--/https://s.yimg.com/uu/api/res/1.2/qnBJP5bafzct6mFMRZi4zw--~B/aD02NzU7dz0xMjAwO3NtPTE7YXBwaWQ9eXRhY2h5b24-/https://media.zenfs.com/ko/ebc.net.tw/07b0f1abfbf041b6ba816d90ff46283b\"></div></figure><p>武漢肺炎全球延燒，歐洲各國也陸續淪陷，當中義大利確診人數更是一舉突破萬人，14日上午已來到17660 例，死亡 1266 人。對此義大利總理孔蒂（ Giuseppe Conte ） 10 日宣布至 4 月 3 日為止，義大利全國封鎖，義國人民除工作和緊急事件之外，不得任意移動或外出。而現在西班牙也出現確診人數暴增情況，1天確診暴增2000多例。</p><p>&nbsp;</p><div class=\"caas-da\"><div id=\"defaultdestLREC\"><div class=\"caas-da-loader\"><i></i></div></div></div><p>&nbsp;</p><p>根據外媒報導，世界衛生組織（WHO）13日表示，目前武漢肺炎的中心點轉移至歐洲，各國須謹慎面對。而西班牙也在當地時間爆出，確診人數暴增2086例的情況，總確診數飆升至5232人，成為歐洲第二高感染國家，僅次義大利。</p><p>&nbsp;</p><figure class=\"caas-figure\"><div class=\"caas-img-container caas-img-loader\" style=\"padding-bottom:45%;\"><img class=\"caas-img caas-lazy has-preview\" alt=\"西班牙13日武漢肺炎確診人數暴增2000多例。（圖／AP）\" src=\"\" data-src=\"https://s.yimg.com/ny/api/res/1.2/ot0FsWYisGd_PKtyGYc9Ig--/YXBwaWQ9aGlnaGxhbmRlcjt3PTY0MDtoPTI4OS4zMzMzMzMzMzMzMzMz/https://media.zenfs.com/ko/ebc.net.tw/af1797995fe42ebb2556eb5f65787016\"><noscript><img alt=\"西班牙13日武漢肺炎確診人數暴增2000多例。（圖／AP）\" src=\"https://s.yimg.com/ny/api/res/1.2/ot0FsWYisGd_PKtyGYc9Ig--/YXBwaWQ9aGlnaGxhbmRlcjt3PTY0MDtoPTI4OS4zMzMzMzMzMzMzMzMz/https://media.zenfs.com/ko/ebc.net.tw/af1797995fe42ebb2556eb5f65787016\" class=\"caas-img\"></noscript></div><figcaption class=\"caption-collapse\">西班牙13日武漢肺炎確診人數暴增2000多例。（圖／AP）</figcaption></figure><p>&nbsp;</p><p>對此西班牙總理桑傑士（Pedro Sanchez）也在13日晚間宣布，西班牙進入緊急狀態15天。「內閣會議上決定宣布進入緊急狀態，也將讓政府有更多採取措施的權利，包括暫時停止所有公共場合的營業與活動。」</p><p>&nbsp;</p><figure class=\"caas-figure\"><div class=\"caas-img-container caas-img-loader\" style=\"padding-bottom:44%;\"><img class=\"caas-img caas-lazy has-preview\" alt=\"對此西班牙總理桑傑士宣布西班牙進入緊急狀態15天。（圖／AP）\" src=\"\" data-src=\"https://s.yimg.com/ny/api/res/1.2/MzN_twf09xdJwNZLu9m68w--/YXBwaWQ9aGlnaGxhbmRlcjt3PTY0MDtoPTI4MS45NjcyMTMxMTQ3NTQx/https://media.zenfs.com/ko/ebc.net.tw/01b38faf55e5ce42496ace3aa2fc65d6\"><noscript><img alt=\"對此西班牙總理桑傑士宣布西班牙進入緊急狀態15天。（圖／AP）\" src=\"https://s.yimg.com/ny/api/res/1.2/MzN_twf09xdJwNZLu9m68w--/YXBwaWQ9aGlnaGxhbmRlcjt3PTY0MDtoPTI4MS45NjcyMTMxMTQ3NTQx/https://media.zenfs.com/ko/ebc.net.tw/01b38faf55e5ce42496ace3aa2fc65d6\" class=\"caas-img\"></noscript></div><figcaption class=\"caption-collapse\">對此西班牙總理桑傑士宣布西班牙進入緊急狀態15天。（圖／AP）</figcaption></figure><p>&nbsp;</p><p>此外，桑傑士也提到，西班牙銀行將會保護所有公民，保證所有的生活條件能達到滿足，盡可能減少疫情大流行的機率，「但目前仍不排除會有破萬人感染的可能性」。</p><p>&nbsp;</p><p>（封面圖／AP）</p><p>&nbsp;</p><p><span>更多東森新聞報導</span><br><a href=\"https://news.ebc.net.tw/news/world/201039?from=yahoo\" rel=\"nofollow noopener\" target=\"_blank\" data-ylk=\"slk:川普宣布美國緊急狀態！撥500億美元抗武肺\" class=\"link rapid-noclick-resp\"> 川普宣布美國緊急狀態！撥500億美元抗武肺 </a><br><a href=\"https://news.ebc.net.tw/news/world/200784?from=yahoo\" rel=\"nofollow noopener\" target=\"_blank\" data-ylk=\"slk:誰把武肺傳進義大利？米蘭專家曝真正凶手\" class=\"link rapid-noclick-resp\"> 誰把武肺傳進義大利？米蘭專家曝真正凶手 </a><br><a href=\"https://news.ebc.net.tw/news/world/200938?from=yahoo\" rel=\"nofollow noopener\" target=\"_blank\" data-ylk=\"slk:韓產金針菇奪4命！美官方公開致命真相\" class=\"link rapid-noclick-resp\"> 韓產金針菇奪4命！美官方公開致命真相 </a></p><p><span>新冠肺炎全球燒</span><br><a href=\"https://tw.news.yahoo.com/%E4%B8%8D%E7%88%BD%E8%A2%AB%E6%8C%87%E7%97%85%E6%AF%92%E4%BE%86%E6%BA%90-%E7%BE%8E%E5%8F%AC%E4%B8%AD%E4%BD%BF%E6%8A%97%E8%AD%B0-%E5%B4%94%E5%A4%A9%E5%87%B1%E9%A7%81-%E5%9D%A6%E7%99%BD%E7%9A%84%E5%B0%8D%E8%A9%B1-013211886.html\" data-ylk=\"slk:不爽被指病毒來源 美召中使抗議;outcm:mb_qualified_link;_E:mb_qualified_link;ct:story;\" class=\"link rapid-noclick-resp yahoo-link\">不爽被指病毒來源 美召中使抗議</a><br><a href=\"https://tw.news.yahoo.com/%E6%AD%90%E6%B4%B2%E6%AF%8F%E5%A4%A9%E6%96%B0%E5%A2%9E%E7%97%85%E4%BE%8B%E6%AF%94%E4%B8%AD%E5%9C%8B%E9%AB%98%E5%B3%B0%E6%9C%9F%E9%82%84%E5%A4%9A-bbc-%E8%99%95%E5%A2%83%E6%AF%94%E4%B8%AD%E5%9C%8B%E6%9B%B4%E7%B3%9F-030826291.html\" data-ylk=\"slk:歐洲每天新增病例 比中國高峰期還多;outcm:mb_qualified_link;_E:mb_qualified_link;ct:story;\" class=\"link rapid-noclick-resp yahoo-link\">歐洲每天新增病例 比中國高峰期還多</a><br><a href=\"https://tw.news.yahoo.com/%E5%8C%97%E9%9F%93%E6%9B%9D%E8%B6%85%E7%8B%82-%E6%B6%88%E6%AF%92%E5%A4%A7%E6%B3%95-%E7%95%B6%E5%9C%B0%E5%AE%98%E5%93%A1%E8%AE%9A-%E8%83%BD%E6%8A%B5%E6%93%8B%E5%82%B3%E6%9F%93%E6%80%A7%E7%97%85%E6%AF%92-014158063.html\" data-ylk=\"slk:北韓超狂「消毒大法」？ 當地官員讚;outcm:mb_qualified_link;_E:mb_qualified_link;ct:story;\" class=\"link rapid-noclick-resp yahoo-link\">北韓超狂「消毒大法」？ 當地官員讚</a><br><a href=\"https://tw.news.yahoo.com/%E9%9A%B1%E5%8C%BF%E8%A1%8C%E8%B9%A4%E7%8E%A9%E9%81%8D13%E5%9C%8B-%E8%82%BA%E7%82%8E%E5%A5%B3%E5%85%A5%E5%A2%83-%E7%87%92%E8%B5%B7%E4%BE%86-%E7%A7%92%E8%A2%AB%E9%9A%94%E9%9B%A2-%E8%A1%8C%E7%A8%8B%E6%9B%9D%E5%85%89-012450772.html\" data-ylk=\"slk:玩遍13國！ 肺炎女入境「燒起來」;outcm:mb_qualified_link;_E:mb_qualified_link;ct:story;\" class=\"link rapid-noclick-resp yahoo-link\">玩遍13國！ 肺炎女入境「燒起來」</a><br><a href=\"https://tw.news.yahoo.com/%E7%BE%8E%E5%9C%8B%E7%96%AB%E6%83%85%E5%A4%B1%E6%8E%A7%E5%93%AA-%E6%AD%A5%E8%B5%B0%E9%8C%AF-%E5%85%A7%E8%A1%8C%E6%8A%96%E5%87%BA-%E8%87%B4%E5%91%BD%E9%97%9C%E9%8D%B5-%E9%9B%A3%E6%80%AA-010740714.html\" data-ylk=\"slk:美國疫情失控哪一步走錯 內行抖出關鍵;outcm:mb_qualified_link;_E:mb_qualified_link;ct:story;\" class=\"link rapid-noclick-resp yahoo-link\">美國疫情失控哪一步走錯 內行抖出關鍵</a></p><p><strong>相關新聞影音</strong></p><div class=\"caas-yvideo-wrapper caas-yvideo-player yvideo\"><div style=\"padding-bottom:56%;\"><div class=\"caas-yvideo\" data-videoconfig=\"{&quot;autoplay&quot;:false,&quot;duration&quot;:0,&quot;height&quot;:360,&quot;lang&quot;:&quot;zh-Hant-TW&quot;,&quot;media_id_1&quot;:&quot;04e73b77-b11b-3eb0-a376-318e299e535c&quot;,&quot;pageSpaceId&quot;:&quot;958812180&quot;,&quot;queryParams&quot;:null,&quot;region&quot;:&quot;TW&quot;,&quot;site&quot;:&quot;news&quot;,&quot;startScreen&quot;:{},&quot;url&quot;:&quot;https://www.yahoo.com/video/華人陽台曬雞翅-義人誤蝙蝠乾急封街消毒-045014895.html?format=embed&amp;region=TW&amp;lang=zh-Hant-TW&amp;site=news&amp;player_autoplay=0&quot;,&quot;width&quot;:640,&quot;thumbnail&quot;:{&quot;type&quot;:&quot;image&quot;,&quot;size&quot;:{&quot;raw&quot;:null}},&quot;YVAP&quot;:{&quot;accountId&quot;:&quot;145&quot;},&quot;playlist&quot;:{&quot;mediaItems&quot;:[{&quot;id&quot;:&quot;04e73b77-b11b-3eb0-a376-318e299e535c&quot;}],&quot;videoRecommendations&quot;:true,&quot;id&quot;:&quot;today-focus-video&quot;},&quot;videoAlias&quot;:&quot;華人陽台曬雞翅-義人誤蝙蝠乾急封街消毒-045014895&quot;,&quot;hidePlaylist&quot;:true,&quot;comscoreC4&quot;:&quot;TW News&quot;,&quot;expName&quot;:&quot;y20&quot;,&quot;expBucket&quot;:&quot;news-TW-zh-Hant-TW-def&quot;,&quot;expBucketName&quot;:&quot;news-TW-zh-Hant-TW-def&quot;}\"><div class=\"player\"></div></div></div></div></div></article></div> \n",
      "<!-- app-caas.production.omega.gq1.yahoo.com --></div></div></div></div><script>if (window.performance) {window.performance.mark && window.performance.mark('CaasContent');window.performance.measure && window.performance.measure('CaasContentDone','PageStart','CaasContent');}</script></div></div></div></div></div><div id=\"YDC-Bottom\" class=\"YDC-Bottom Cl(b) W(100%) SideSlot-open_D(n) uh-mobile-nav-open_D(n) lw-nav-open_D(n)\" data-reactid=\"19\"><div id=\"YDC-Bottom-Stack\" class=\"YDC-Bottom-Stack Pos(r) Z(1)\" data-reactid=\"20\"><div id=\"YDC-Bottom-Stack-Composite\" data-reactid=\"21\"><div data-reactid=\"22\"><div id=\"mrt-node-Bottom-0-Ad\" data-locator=\"subtree-root\"><div id=\"Bottom-0-Ad-Proxy\" data-reactroot=\"\" data-reactid=\"1\" data-react-checksum=\"545817908\"><div class=\"\" data-reactid=\"2\"><div id=\"defaultLREC2-sizer\" class=\"darla-container D-n D(n) lrec-ldrb-ad darla-nonlrec34-ad darla-nonlrec34ldrb-ad darla-lrec-ad\" data-reactid=\"3\"><!-- react-text: 4 --><!-- /react-text --><div id=\"defaultLREC2-wrapper\" class=\"\" data-reactid=\"5\"><div id=\"defaultdestLREC2\" style=\"\"></div></div></div></div></div></div><script>if (window.performance) {window.performance.mark && window.performance.mark('Bottom-0-Ad');window.performance.measure && window.performance.measure('Bottom-0-AdDone','PageStart','Bottom-0-Ad');}</script></div><div data-reactid=\"23\"><div id=\"mrt-node-Bottom-1-CaasSidekickLoader\" data-locator=\"subtree-root\"><div id=\"Bottom-1-CaasSidekickLoader-Proxy\" data-reactroot=\"\" data-reactid=\"1\" data-react-checksum=\"136920548\"><div id=\"caas-sidekick\" class=\"Bdc(#e2e2e6) Bgc(#eee) Pt(1px) Pos(r) Z(0) Maw(900px)\" data-reactid=\"2\"><h2 class=\"C($c-fuji-grey-l) Fw(500) Fz(16px) Ff($ff-primary) Py(6px) Px(10px)\" data-reactid=\"3\"><span data-reactid=\"4\">你可能還想看</span></h2><div id=\"caas-loader\" class=\"caas-module W(1px) H(1px)\" data-url=\"/caas/sidekick/sidekick?uuid=01490841-22c9-30c8-84c9-216bcff32bd5&amp;region=TW&amp;device=smartphone-lite&amp;bucket=news-TW-zh-Hant-TW-def&amp;lang=zh-Hant-TW&amp;appid=y20lite&amp;spaceId=958812180&amp;ycts= &amp;wikis= 意大利,西班牙&amp;site=news&amp;siteAttribute=wiki_topics%3D%22%E6%84%8F%E5%A4%A7%E5%88%A9%3B%E8%A5%BF%E7%8F%AD%E7%89%99%3B%E4%B8%96%E7%95%8C%E5%8D%AB%E7%94%9F%E7%BB%84%E7%BB%87%3B%E8%A5%BF%E7%8F%AD%E7%89%99%E9%8A%80%E8%A1%8C%22%20rs%3D%22lmsid%3Aa0V0W00000HObw4UAD%3Brevsp%3Aebc.net.tw%3Blpstaid%3A01490841-22c9-30c8-84c9-216bcff32bd5%3Bpct%3Astory%22\" data-cache=\"0\" data-namespace=\"CAAS_SIDEKICK\" data-reactid=\"5\"></div></div></div></div><script>if (window.performance) {window.performance.mark && window.performance.mark('CaasSidekickLoader');window.performance.measure && window.performance.measure('CaasSidekickLoaderDone','PageStart','CaasSidekickLoader');}</script></div></div></div></div><!-- react-empty: 24 --><div id=\"YDC-Overlay\" class=\"YDC-Overlay\" data-reactid=\"25\"><div id=\"YDC-Overlay-Stack\" class=\"YDC-Overlay-Stack Z(11) End(0) Pos(f) Start(0) lw-nav-open_Pos(r) lw-nav-open_Z(10) T(0)\" data-reactid=\"26\"><div id=\"YDC-Overlay-Stack-Composite\" data-reactid=\"27\"><div data-reactid=\"28\"><div id=\"mrt-node-Overlay-0-NavLite\" data-locator=\"subtree-root\"><div id=\"Overlay-0-NavLite-Proxy\" data-reactroot=\"\" data-reactid=\"1\" data-react-checksum=\"-1526608551\"><div data-reactid=\"2\"><a id=\"nr-close-btn\" class=\"Pos(f) T(0) End(0) Ta(end) Lh(68px) Px(24px) C(#fff) Td(n) Z(11) lw-nav-open_D(b) D(n)\" data-reactid=\"3\"><svg class=\"Cur(p)\" width=\"26\" style=\"vertical-align:middle;fill:#fff;stroke:#fff;stroke-width:0;\" height=\"26\" viewBox=\"0 0 48 48\" data-icon=\"close\" data-reactid=\"4\"><path d=\"M37.98 34.827l-9.9-9.9 9.9-9.898c.78-.782.78-2.05 0-2.83-.78-.78-2.047-.78-2.828 0l-9.9 9.9-9.898-9.9c-.78-.78-2.048-.78-2.828 0-.78.78-.78 2.047 0 2.828l9.9 9.9-9.9 9.898c-.78.78-.78 2.047 0 2.828.78.78 2.047.78 2.828 0l9.9-9.9 9.898 9.9c.78.78 2.048.78 2.828 0 .782-.78.782-2.047 0-2.827z\" data-reactid=\"5\"></path></svg><b class=\"P(4px)\" data-reactid=\"6\"><span data-reactid=\"7\">回上頁</span></b></a><div id=\"nr-body-overlay\" class=\"W(100%) H(100%) Jc(c) End(0) Pos(f) Start(0) T(0) lw-nav-open_D(b) D(n)\" style=\"-webkit-tap-highlight-color:none;\" data-reactid=\"8\"></div><div id=\"Overlay-0-NavLite\" class=\"Pos(f) W(100%) Z(10) T(0) H(100%) Ovy(s) Ovs(touch) lw-nav-open_D(b) lw-nav-open_Pos(r) lw-nav-open_T(-48px) Bg($c-fuji-blue-3-a) Bg(nrBgColor)! W(100%) D(n)\" data-reactid=\"9\"><nav class=\"tdv2-applet-navrail\" data-reactid=\"10\"><div class=\"Px(25px) Pt(20px) Pb(15px)\" data-reactid=\"11\"><a class=\"uh-menus uh-profile O(0) Bdw(0) D(b) Td(n) Fz(15px) C(#fff)\" id=\"SideSlot\" href=\"https://login.yahoo.com/config/login?.intl=tw&amp;.lang=zh-Hant-TW&amp;.src=news&amp;.done=https%3A%2F%2Ftw.news.yahoo.com%2F%25E7%25A2%25BA%25E8%25A8%25BA%25E7%259B%25B4%25E8%25BF%25BD%25E7%25BE%25A9%25E5%25A4%25A7%25E5%2588%25A9-%25E8%25A5%25BF%25E7%258F%25AD%25E7%2589%259924%25E5%25B0%258F%25E6%2599%2582%25E6%259A%25B4%25E5%25A2%259E2086%25E4%25BE%258B-022900167.html\" data-reactid=\"12\"><svg class=\"Mend(10px) Cur(p)\" width=\"36\" style=\"vertical-align:middle;fill:#fff;stroke:#fff;stroke-width:0;\" height=\"36\" viewBox=\"0 0 48 48\" data-icon=\"profile\" data-reactid=\"13\"><path d=\"M4.095 33.61c1.092 2.7 2.607 4.937 4.562 6.696 1.94 1.766 4.23 3.072 6.847 3.922 2.632.846 5.472 1.27 8.53 1.27 3.012 0 5.837-.425 8.458-1.27 1.053-.342 2.046-.754 2.986-1.244 1.41-.732 2.705-1.617 3.87-2.678 1.948-1.76 3.472-3.996 4.558-6.697 1.092-2.7 1.636-5.903 1.636-9.614 0-3.702-.544-6.904-1.636-9.61-1.086-2.703-2.608-4.934-4.56-6.694-1.944-1.767-4.23-3.07-6.854-3.922-2.62-.847-5.445-1.27-8.457-1.27-3.06 0-5.9.423-8.53 1.27-.847.277-1.662.607-2.443.98-1.623.777-3.1 1.753-4.404 2.942-1.956 1.76-3.47 3.992-4.562 6.694-1.09 2.706-1.636 5.908-1.636 9.61-.002 3.71.545 6.914 1.635 9.613zM35.838 34.758l-23.674.002v-2.21s.017-1.425 3.123-2.716c1.538-.633 3.35-1.854 6.6-2.24-.997-.705-1.44-2.154-2.29-4.17-.02-.032-.03-.068-.043-.1-.193.032-.393.032-.537-.046-.398-.232-.636-1.48-.642-2.092-.01-.906.48-.824.48-.824s.017 0 .042-.004c-.006-.07-.01-.142-.01-.213 0-.86-.174-2.24.053-2.988.353-1.176.78-2.46 1.72-2.464.874 0 .28-1.006 1.348-1.345 1.102-.348 2.912.262 3.283.262.53 0 1.863.378 2.78 1.284.646.64.572 1.08.93 2.25.23.777.057 2.167.057 3 0 .07-.007.14-.014.213.018.007.03.007.03.007s.487-.082.478.824c-.004.612-.248 1.86-.635 2.092-.146.078-.34.078-.53.052-.01.026-.023.058-.033.09-.85 1.996-1.308 3.457-2.305 4.162 3.283.38 5.107 1.61 6.654 2.25 3.128 1.287 3.14 2.533 3.14 2.533l-.002 2.39z\" data-reactid=\"14\"></path></svg><span data-reactid=\"15\">登入</span></a></div><li class=\"Fz(m) List(n) Px(25px) Py(10px)\" data-reactid=\"16\"><a class=\"nr-applet-nav-item Td(n) nr-list-item D(b) Ell C(#fff) nr-applet-main-nav:h_Bgc(#37315b) Td(n):a Td(n):h\" href=\"https://tw.news.yahoo.com\" title=\"News首頁\" data-reactid=\"17\"><!-- react-text: 18 -->News首頁<!-- /react-text --></a></li><ul class=\"Fz(m) Lh(2) Px(25px)\" data-reactid=\"19\"><li class=\"Py(8px)\" data-reactid=\"20\"><div class=\"nr-submenu-wrapper\" data-reactid=\"21\"><div class=\"nr-applet-nav-item Td(n) D(b) C(#fff) D(b)\" data-reactid=\"22\"><!-- react-text: 23 -->首頁<!-- /react-text --><div class=\"D(ib) W(40px) Pos(a) Start(225px)\" data-nr-sub-icon=\"true\" data-reactid=\"24\"><div class=\"D(ib) Rotate(90deg) Cur(p)\" style=\"vertical-align:middle;fill:#fff;stroke:#fff;stroke-width:0;width:10px;height:10px;\" data-icon=\"CoreArrowRight\" data-reactid=\"25\"></div></div></div></div></li><li class=\"Py(8px)\" data-reactid=\"26\"><div class=\"nr-submenu-wrapper\" data-reactid=\"27\"><div class=\"nr-applet-nav-item Td(n) D(b) C(#fff) D(b)\" data-reactid=\"28\"><!-- react-text: 29 -->政治<!-- /react-text --><div class=\"D(ib) W(40px) Pos(a) Start(225px)\" data-nr-sub-icon=\"true\" data-reactid=\"30\"><div class=\"D(ib) Rotate(90deg) Cur(p)\" style=\"vertical-align:middle;fill:#fff;stroke:#fff;stroke-width:0;width:10px;height:10px;\" data-icon=\"CoreArrowRight\" data-reactid=\"31\"></div></div></div></div></li><li class=\"Py(8px)\" data-reactid=\"32\"><div class=\"nr-submenu-wrapper\" data-reactid=\"33\"><div class=\"nr-applet-nav-item Td(n) D(b) C(#fff) D(b)\" data-reactid=\"34\"><!-- react-text: 35 -->論壇<!-- /react-text --><div class=\"D(ib) W(40px) Pos(a) Start(225px)\" data-nr-sub-icon=\"true\" data-reactid=\"36\"><div class=\"D(ib) Rotate(90deg) Cur(p)\" style=\"vertical-align:middle;fill:#fff;stroke:#fff;stroke-width:0;width:10px;height:10px;\" data-icon=\"CoreArrowRight\" data-reactid=\"37\"></div></div></div></div></li><li class=\"Py(8px)\" data-reactid=\"38\"><div class=\"nr-submenu-wrapper\" data-reactid=\"39\"><div class=\"nr-applet-nav-item Td(n) D(b) C(#fff) D(b)\" data-reactid=\"40\"><!-- react-text: 41 -->財經<!-- /react-text --><div class=\"D(ib) W(40px) Pos(a) Start(225px)\" data-nr-sub-icon=\"true\" data-reactid=\"42\"><div class=\"D(ib) Rotate(90deg) Cur(p)\" style=\"vertical-align:middle;fill:#fff;stroke:#fff;stroke-width:0;width:10px;height:10px;\" data-icon=\"CoreArrowRight\" data-reactid=\"43\"></div></div></div></div></li><li class=\"Py(8px)\" data-reactid=\"44\"><div class=\"nr-submenu-wrapper\" data-reactid=\"45\"><div class=\"nr-applet-nav-item Td(n) D(b) C(#fff) D(b)\" data-reactid=\"46\"><!-- react-text: 47 -->娛樂<!-- /react-text --><div class=\"D(ib) W(40px) Pos(a) Start(225px)\" data-nr-sub-icon=\"true\" data-reactid=\"48\"><div class=\"D(ib) Rotate(90deg) Cur(p)\" style=\"vertical-align:middle;fill:#fff;stroke:#fff;stroke-width:0;width:10px;height:10px;\" data-icon=\"CoreArrowRight\" data-reactid=\"49\"></div></div></div></div></li><li class=\"Py(8px)\" data-reactid=\"50\"><div class=\"nr-submenu-wrapper\" data-reactid=\"51\"><div class=\"nr-applet-nav-item Td(n) D(b) C(#fff) D(b)\" data-reactid=\"52\"><!-- react-text: 53 -->運動<!-- /react-text --><div class=\"D(ib) W(40px) Pos(a) Start(225px)\" data-nr-sub-icon=\"true\" data-reactid=\"54\"><div class=\"D(ib) Rotate(90deg) Cur(p)\" style=\"vertical-align:middle;fill:#fff;stroke:#fff;stroke-width:0;width:10px;height:10px;\" data-icon=\"CoreArrowRight\" data-reactid=\"55\"></div></div></div></div></li><li class=\"Py(8px)\" data-reactid=\"56\"><div class=\"nr-submenu-wrapper\" data-reactid=\"57\"><div class=\"nr-applet-nav-item Td(n) D(b) C(#fff) D(b)\" data-reactid=\"58\"><!-- react-text: 59 -->社會地方<!-- /react-text --><div class=\"D(ib) W(40px) Pos(a) Start(225px)\" data-nr-sub-icon=\"true\" data-reactid=\"60\"><div class=\"D(ib) Rotate(90deg) Cur(p)\" style=\"vertical-align:middle;fill:#fff;stroke:#fff;stroke-width:0;width:10px;height:10px;\" data-icon=\"CoreArrowRight\" data-reactid=\"61\"></div></div></div></div></li><li class=\"Py(8px)\" data-reactid=\"62\"><div class=\"nr-submenu-wrapper\" data-reactid=\"63\"><div class=\"nr-applet-nav-item Td(n) D(b) C(#fff) D(b)\" data-reactid=\"64\"><!-- react-text: 65 -->國際<!-- /react-text --><div class=\"D(ib) W(40px) Pos(a) Start(225px)\" data-nr-sub-icon=\"true\" data-reactid=\"66\"><div class=\"D(ib) Rotate(90deg) Cur(p)\" style=\"vertical-align:middle;fill:#fff;stroke:#fff;stroke-width:0;width:10px;height:10px;\" data-icon=\"CoreArrowRight\" data-reactid=\"67\"></div></div></div></div></li><li class=\"Py(8px)\" data-reactid=\"68\"><div class=\"nr-submenu-wrapper\" data-reactid=\"69\"><div class=\"nr-applet-nav-item Td(n) D(b) C(#fff) D(b)\" data-reactid=\"70\"><!-- react-text: 71 -->生活<!-- /react-text --><div class=\"D(ib) W(40px) Pos(a) Start(225px)\" data-nr-sub-icon=\"true\" data-reactid=\"72\"><div class=\"D(ib) Rotate(90deg) Cur(p)\" style=\"vertical-align:middle;fill:#fff;stroke:#fff;stroke-width:0;width:10px;height:10px;\" data-icon=\"CoreArrowRight\" data-reactid=\"73\"></div></div></div></div></li><li class=\"Py(8px)\" data-reactid=\"74\"><div class=\"nr-submenu-wrapper\" data-reactid=\"75\"><div class=\"nr-applet-nav-item Td(n) D(b) C(#fff) D(b)\" data-reactid=\"76\"><!-- react-text: 77 -->健康<!-- /react-text --><div class=\"D(ib) W(40px) Pos(a) Start(225px)\" data-nr-sub-icon=\"true\" data-reactid=\"78\"><div class=\"D(ib) Rotate(90deg) Cur(p)\" style=\"vertical-align:middle;fill:#fff;stroke:#fff;stroke-width:0;width:10px;height:10px;\" data-icon=\"CoreArrowRight\" data-reactid=\"79\"></div></div></div></div></li><li class=\"Py(8px)\" data-reactid=\"80\"><div class=\"nr-submenu-wrapper\" data-reactid=\"81\"><div class=\"nr-applet-nav-item Td(n) D(b) C(#fff) D(b)\" data-reactid=\"82\"><!-- react-text: 83 -->科技<!-- /react-text --><div class=\"D(ib) W(40px) Pos(a) Start(225px)\" data-nr-sub-icon=\"true\" data-reactid=\"84\"><div class=\"D(ib) Rotate(90deg) Cur(p)\" style=\"vertical-align:middle;fill:#fff;stroke:#fff;stroke-width:0;width:10px;height:10px;\" data-icon=\"CoreArrowRight\" data-reactid=\"85\"></div></div></div></div></li><li class=\"Py(8px)\" data-reactid=\"86\"><div class=\"nr-submenu-wrapper\" data-reactid=\"87\"><div class=\"nr-applet-nav-item Td(n) D(b) C(#fff) D(b)\" data-reactid=\"88\"><!-- react-text: 89 -->天氣<!-- /react-text --><div class=\"D(ib) W(40px) Pos(a) Start(225px)\" data-nr-sub-icon=\"true\" data-reactid=\"90\"><div class=\"D(ib) Rotate(90deg) Cur(p)\" style=\"vertical-align:middle;fill:#fff;stroke:#fff;stroke-width:0;width:10px;height:10px;\" data-icon=\"CoreArrowRight\" data-reactid=\"91\"></div></div></div></div></li><li class=\"Py(8px)\" data-reactid=\"92\"><a class=\"nr-applet-nav-item Td(n) C(#fff) D(b)\" href=\"https://tw.news.yahoo.com/video\" title=\"影音\" data-reactid=\"93\"><!-- react-text: 94 -->影音<!-- /react-text --></a></li><li class=\"Py(8px)\" data-reactid=\"95\"><div class=\"nr-submenu-wrapper\" data-reactid=\"96\"><div class=\"nr-applet-nav-item Td(n) D(b) C(#fff) D(b)\" data-reactid=\"97\"><!-- react-text: 98 -->新冠肺炎<!-- /react-text --><div class=\"D(ib) W(40px) Pos(a) Start(225px)\" data-nr-sub-icon=\"true\" data-reactid=\"99\"><div class=\"D(ib) Rotate(90deg) Cur(p)\" style=\"vertical-align:middle;fill:#fff;stroke:#fff;stroke-width:0;width:10px;height:10px;\" data-icon=\"CoreArrowRight\" data-reactid=\"100\"></div></div></div></div></li><li class=\"Py(8px)\" data-reactid=\"101\"><a class=\"nr-applet-nav-item Td(n) C(#fff) D(b)\" href=\"https://bit.ly/3bYHZMD\" title=\"疫情地圖\" data-reactid=\"102\"><div class=\"W(30px) D(ib)\" data-reactid=\"103\"><img height=\"24px\" width=\"24px\" class=\"JsEnabled_Op(0) JsEnabled_Bg(n) Trsdu(.42s) Bgr(nr) Bgz(cv) Va(m) \" style=\"background-image:url(https://s.yimg.com/ny/api/res/1.2/0zZdSRAh2L7EWNEyiCWxmA--~A/YXBwaWQ9aGlnaGxhbmRlcjt3PTQ4O2g9NDg-/https://epsolution-mbst-pub-uw2.s3.us-west-2.amazonaws.com/cx/blendr/v2/image-globbal-png_1582286783010.png);\" src=\"https://s.yimg.com/g/images/spaceball.gif\" data-reactid=\"104\"/></div><!-- react-text: 105 -->疫情地圖<!-- /react-text --></a></li><li class=\"Py(8px)\" data-reactid=\"106\"><div class=\"nr-submenu-wrapper\" data-reactid=\"107\"><div class=\"nr-applet-nav-item Td(n) D(b) C(#fff) D(b)\" data-reactid=\"108\"><!-- react-text: 109 -->口罩地圖<!-- /react-text --><div class=\"D(ib) W(40px) Pos(a) Start(225px)\" data-nr-sub-icon=\"true\" data-reactid=\"110\"><div class=\"D(ib) Rotate(90deg) Cur(p)\" style=\"vertical-align:middle;fill:#fff;stroke:#fff;stroke-width:0;width:10px;height:10px;\" data-icon=\"CoreArrowRight\" data-reactid=\"111\"></div></div></div></div></li><li class=\"Py(8px)\" data-reactid=\"112\"><a class=\"nr-applet-nav-item Td(n) C(#fff) D(b)\" href=\"https://tw.news.yahoo.com/topic/buybest\" title=\"Yahoo好好買\" data-reactid=\"113\"><div class=\"W(30px) D(ib)\" data-reactid=\"114\"><img height=\"24px\" width=\"24px\" class=\"JsEnabled_Op(0) JsEnabled_Bg(n) Trsdu(.42s) Bgr(nr) Bgz(cv) Va(m) \" style=\"background-image:url(https://s.yimg.com/ny/api/res/1.2/G7qDHoBM3RJ9pj4cROrrsw--~A/YXBwaWQ9aGlnaGxhbmRlcjt3PTQ4O2g9NDg-/https://s.yimg.com/cv/apiv2/default/20190724/bestbuy_icon_1582006817739.png);\" src=\"https://s.yimg.com/g/images/spaceball.gif\" data-reactid=\"115\"/></div><!-- react-text: 116 -->Yahoo好好買<!-- /react-text --></a></li><li class=\"Py(8px)\" data-reactid=\"117\"><a class=\"nr-applet-nav-item Td(n) C(#fff) D(b)\" href=\"https://tw.news.yahoo.com/topic/international-womens-day\" title=\"女力當道\" data-reactid=\"118\"><div class=\"W(30px) D(ib)\" data-reactid=\"119\"><img height=\"24px\" width=\"24px\" class=\"JsEnabled_Op(0) JsEnabled_Bg(n) Trsdu(.42s) Bgr(nr) Bgz(cv) Va(m) \" style=\"background-image:url(https://s.yimg.com/ny/api/res/1.2/VniqQDh3IMLlgid.2wh7yg--~A/YXBwaWQ9aGlnaGxhbmRlcjt3PTQ4O2g9NDg-/https://epsolution-mbst-pub-uw2.s3.us-west-2.amazonaws.com/cx/blendr/v2/image-girlpower-png_1583376819411.png);\" src=\"https://s.yimg.com/g/images/spaceball.gif\" data-reactid=\"120\"/></div><!-- react-text: 121 -->女力當道<!-- /react-text --></a></li><li class=\"Py(8px)\" data-reactid=\"122\"><a class=\"nr-applet-nav-item Td(n) C(#fff) D(b)\" href=\"https://bit.ly/31X5K35\" target=\"_blank\" rel=\"noopener noreferrer\" title=\"下載信箱App\" data-reactid=\"123\"><div class=\"W(30px) D(ib)\" data-reactid=\"124\"><img height=\"24px\" width=\"24px\" class=\"JsEnabled_Op(0) JsEnabled_Bg(n) Trsdu(.42s) Bgr(nr) Bgz(cv) Va(m) \" style=\"background-image:url(https://s.yimg.com/ny/api/res/1.2/sl9R3zrdtJk4IaN6CCrayg--~A/YXBwaWQ9aGlnaGxhbmRlcjt3PTQ4O2g9NDg-/https://s.yimg.com/cv/apiv2/twnews/twnews/yahoomail_icon_1581654145924.png);\" src=\"https://s.yimg.com/g/images/spaceball.gif\" data-reactid=\"125\"/></div><!-- react-text: 126 -->下載信箱App<!-- /react-text --></a></li><li class=\"Py(8px)\" data-reactid=\"127\"><a class=\"nr-applet-nav-item Td(n) C(#fff) D(b)\" href=\"https://yahoomode.tumblr.com/yahooapp#news\" target=\"_blank\" rel=\"noopener noreferrer\" title=\"下載新聞App\" data-reactid=\"128\"><div class=\"W(30px) D(ib)\" data-reactid=\"129\"><img height=\"24px\" width=\"24px\" class=\"JsEnabled_Op(0) JsEnabled_Bg(n) Trsdu(.42s) Bgr(nr) Bgz(cv) Va(m) \" style=\"background-image:url(https://s.yimg.com/ny/api/res/1.2/Gw2A4A_H6vJ4oWzDm.UY5w--~A/YXBwaWQ9aGlnaGxhbmRlcjt3PTQ4O2g9NDg-/https://s.yimg.com/cv/apiv2/twnews/twnews/_____2019-11-21___5.11.22_1574327560457.png);\" src=\"https://s.yimg.com/g/images/spaceball.gif\" data-reactid=\"130\"/></div><!-- react-text: 131 -->下載新聞App<!-- /react-text --></a></li><li class=\"Py(8px)\" data-reactid=\"132\"><a class=\"nr-applet-nav-item Td(n) C(#fff) D(b)\" href=\"https://tw.news.yahoo.com/topic/2020financetrend\" title=\"財經趨勢\" data-reactid=\"133\"><div class=\"W(30px) D(ib)\" data-reactid=\"134\"><img height=\"24px\" width=\"24px\" class=\"JsEnabled_Op(0) JsEnabled_Bg(n) Trsdu(.42s) Bgr(nr) Bgz(cv) Va(m) \" style=\"background-image:url(https://s.yimg.com/ny/api/res/1.2/IbdCKc14_fzA6mj7Nj1npA--~A/YXBwaWQ9aGlnaGxhbmRlcjt3PTQ4O2g9NDg-/https://epsolution-mbst-pub-uw2.s3.us-west-2.amazonaws.com/cx/blendr/v2/image-10-109197-partnerowns-biggest-task-is-now-in-ensuring-compliance-png_1579239348220.png);\" src=\"https://s.yimg.com/g/images/spaceball.gif\" data-reactid=\"135\"/></div><!-- react-text: 136 -->財經趨勢<!-- /react-text --></a></li><li class=\"Py(8px)\" data-reactid=\"137\"><a class=\"nr-applet-nav-item Td(n) C(#fff) D(b)\" href=\"https://tw.news.yahoo.com/topic/kobe\" title=\"Kobe墜機\" data-reactid=\"138\"><div class=\"W(30px) D(ib)\" data-reactid=\"139\"><img height=\"24px\" width=\"24px\" class=\"JsEnabled_Op(0) JsEnabled_Bg(n) Trsdu(.42s) Bgr(nr) Bgz(cv) Va(m) \" style=\"background-image:url(https://s.yimg.com/ny/api/res/1.2/BFZN0Z0tL8DFYJSZD2KGVg--~A/YXBwaWQ9aGlnaGxhbmRlcjt3PTQ4O2g9NDg-/https://s.yimg.com/cv/apiv2/default/20191226/kobbeicon.png);\" src=\"https://s.yimg.com/g/images/spaceball.gif\" data-reactid=\"140\"/></div><!-- react-text: 141 -->Kobe墜機<!-- /react-text --></a></li><li class=\"Py(8px)\" data-reactid=\"142\"><a class=\"nr-applet-nav-item Td(n) C(#fff) D(b)\" href=\"https://tw.news.yahoo.com/topic/cnex-video\" title=\"看世界\" data-reactid=\"143\"><div class=\"W(30px) D(ib)\" data-reactid=\"144\"><img height=\"24px\" width=\"24px\" class=\"JsEnabled_Op(0) JsEnabled_Bg(n) Trsdu(.42s) Bgr(nr) Bgz(cv) Va(m) \" style=\"background-image:url(https://s.yimg.com/ny/api/res/1.2/98oDVfKW5TWpIWpG.6i3Lg--~A/YXBwaWQ9aGlnaGxhbmRlcjt3PTQ4O2g9NDg-/https://s.yimg.com/ep/cx/blendr/v2/cover_cnexicon-png_1519276295760.png);\" src=\"https://s.yimg.com/g/images/spaceball.gif\" data-reactid=\"145\"/></div><!-- react-text: 146 -->看世界<!-- /react-text --></a></li><li class=\"Py(8px)\" data-reactid=\"147\"><a class=\"nr-applet-nav-item Td(n) C(#fff) D(b)\" href=\"https://tw.news.yahoo.com/topic/hk_extradition_law\" title=\"反送中\" data-reactid=\"148\"><div class=\"W(30px) D(ib)\" data-reactid=\"149\"><img height=\"24px\" width=\"24px\" class=\"JsEnabled_Op(0) JsEnabled_Bg(n) Trsdu(.42s) Bgr(nr) Bgz(cv) Va(m) \" style=\"background-image:url(https://s.yimg.com/ny/api/res/1.2/j7E6swIBoMLIlXMa5GxbTA--~A/YXBwaWQ9aGlnaGxhbmRlcjt3PTQ4O2g9NDg-/https://epsolution-mbst-pub-uw2.s3.us-west-2.amazonaws.com/cx/blendr/v2/image-hkicon-png_1560328816033.png);\" src=\"https://s.yimg.com/g/images/spaceball.gif\" data-reactid=\"150\"/></div><!-- react-text: 151 -->反送中<!-- /react-text --></a></li><li class=\"Py(8px)\" data-reactid=\"152\"><div class=\"nr-submenu-wrapper\" data-reactid=\"153\"><div class=\"nr-applet-nav-item Td(n) D(b) C(#fff) D(b)\" data-reactid=\"154\"><!-- react-text: 155 -->再見921<!-- /react-text --><div class=\"D(ib) W(40px) Pos(a) Start(225px)\" data-nr-sub-icon=\"true\" data-reactid=\"156\"><div class=\"D(ib) Rotate(90deg) Cur(p)\" style=\"vertical-align:middle;fill:#fff;stroke:#fff;stroke-width:0;width:10px;height:10px;\" data-icon=\"CoreArrowRight\" data-reactid=\"157\"></div></div></div></div></li><li class=\"Py(8px)\" data-reactid=\"158\"><a class=\"nr-applet-nav-item Td(n) C(#fff) D(b)\" href=\"https://tw.news.yahoo.com/topic/new_tech\" title=\"科技未來\" data-reactid=\"159\"><div class=\"W(30px) D(ib)\" data-reactid=\"160\"><img height=\"24px\" width=\"24px\" class=\"JsEnabled_Op(0) JsEnabled_Bg(n) Trsdu(.42s) Bgr(nr) Bgz(cv) Va(m) \" style=\"background-image:url(https://s.yimg.com/ny/api/res/1.2/1gERgY2cI16RAtfwy2u3sQ--~A/YXBwaWQ9aGlnaGxhbmRlcjt3PTQ4O2g9NDg-/https://epsolution-mbst-pub-uw2.s3.us-west-2.amazonaws.com/cx/blendr/v2/image-mwcicon-png_1551159898171.png);\" src=\"https://s.yimg.com/g/images/spaceball.gif\" data-reactid=\"161\"/></div><!-- react-text: 162 -->科技未來<!-- /react-text --></a></li><li class=\"Py(8px)\" data-reactid=\"163\"><a class=\"nr-applet-nav-item Td(n) C(#fff) D(b)\" href=\"https://tw.news.yahoo.com/topic\" title=\"更多新聞專輯\" data-reactid=\"164\"><!-- react-text: 165 -->更多新聞專輯<!-- /react-text --></a></li><li class=\"Py(8px)\" data-reactid=\"166\"><a class=\"nr-applet-nav-item Td(n) C(#fff) D(b)\" href=\"https://tw.news.yahoo.com/myfollow\" title=\"我的追蹤\" data-reactid=\"167\"><div class=\"W(30px) D(ib)\" data-reactid=\"168\"><img height=\"24px\" width=\"24px\" class=\"JsEnabled_Op(0) JsEnabled_Bg(n) Trsdu(.42s) Bgr(nr) Bgz(cv) Va(m) \" style=\"background-image:url(https://s.yimg.com/ny/api/res/1.2/EzAeAIydzjnsKlR6KWa.9A--~A/YXBwaWQ9aGlnaGxhbmRlcjt3PTQ4O2g9NDg-/https://s.yimg.com/cv/ae/news/nav/fill-24@2x.png);\" src=\"https://s.yimg.com/g/images/spaceball.gif\" data-reactid=\"169\"/></div><!-- react-text: 170 -->我的追蹤<!-- /react-text --></a></li></ul><ul class=\"Fz(m) Lh(2) Px(25px)\" data-reactid=\"171\"><li class=\"C(nrSectionHeading) nr-section-heading Fw(b) Fz(11px) Pt(15px) Pb(4px)\" data-reactid=\"172\">Yahoo奇摩網站</li><li class=\"Py(8px)\" data-reactid=\"173\"><a class=\"nr-applet-nav-item Td(n) C(#fff) D(b)\" href=\"https://tw.yahoo.com/\" title=\"首頁\" data-reactid=\"174\"><div class=\"W(30px) D(ib)\" data-reactid=\"175\"><svg class=\"Va(m) D(ib) Cur(p)\" width=\"22\" style=\"vertical-align:middle;fill:#fff;stroke:#fff;stroke-width:0;\" height=\"22\" viewBox=\"0 0 32 32\" data-icon=\"home\" data-reactid=\"176\"><path d=\"M16.153 3.224L0 16.962h4.314v11.814h9.87v-8.003h3.934v8.003h9.84V16.962H32\" data-reactid=\"177\"></path></svg></div><!-- react-text: 178 -->首頁<!-- /react-text --></a></li><li class=\"Py(8px)\" data-reactid=\"179\"><a class=\"nr-applet-nav-item Td(n) C(#fff) D(b)\" href=\"https://tw.mail.yahoo.com/?.intl=tw&amp;.lang=zh-Hant-TW\" title=\"信箱\" data-reactid=\"180\"><div class=\"W(30px) D(ib)\" data-reactid=\"181\"><svg class=\"Va(m) D(ib) Cur(p)\" width=\"22\" style=\"vertical-align:middle;fill:#fff;stroke:#fff;stroke-width:0;\" height=\"22\" viewBox=\"0 0 512 512\" data-icon=\"nav-mail\" data-reactid=\"182\"><path d=\"M460.586 91.31H51.504c-10.738 0-19.46 8.72-19.46 19.477v40.088l224 104.03 224-104.03v-40.088c0-10.757-8.702-19.478-19.458-19.478M32.046 193.426V402.96c0 10.758 8.72 19.48 19.458 19.48h409.082c10.756 0 19.46-8.722 19.46-19.48V193.428l-224 102.327-224-102.327z\" data-reactid=\"183\"></path></svg></div><!-- react-text: 184 -->信箱<!-- /react-text --></a></li><li class=\"Py(8px)\" data-reactid=\"185\"><a class=\"nr-applet-nav-item Td(n) C(#fff) D(b)\" href=\"https://tw.news.yahoo.com/\" title=\"新聞\" data-reactid=\"186\"><div class=\"W(30px) D(ib)\" data-reactid=\"187\"><svg class=\"Va(m) D(ib) Cur(p)\" width=\"22\" style=\"vertical-align:middle;fill:#fff;stroke:#fff;stroke-width:0;\" height=\"22\" viewBox=\"0 0 512 512\" data-icon=\"nav-news\" data-reactid=\"188\"><path d=\"M459.64 82.89H133.862c-11.258 0-20.346 9.13-20.346 20.366v61.098H52.36c-11.246 0-20.365 9.12-20.365 20.365v183.29c0 33.752 27.356 61.1 61.098 61.1H398.56c44.91 0 81.445-36.544 81.445-81.462V103.256c0-11.238-9.11-20.367-20.365-20.366zM113.517 205.085V368.01c0 11.25-9.13 20.368-20.365 20.368-11.256 0-20.365-9.12-20.365-20.367V205.087h40.73zm81.382 0h20.366c11.246 0 20.365 9.12 20.365 20.367 0 11.256-9.118 20.364-20.364 20.364H194.9c-11.247 0-20.364-9.107-20.364-20.364 0-11.247 9.12-20.366 20.363-20.367zM398.56 327.28H194.9c-11.25 0-20.366-9.107-20.366-20.365 0-11.246 9.12-20.365 20.363-20.365h203.66c11.25 0 20.366 9.118 20.366 20.364.002 11.258-9.116 20.367-20.362 20.367zm0-81.462H296.73c-11.247 0-20.365-9.108-20.365-20.365 0-11.247 9.118-20.366 20.365-20.366h101.83c11.246 0 20.364 9.12 20.364 20.366.002 11.256-9.115 20.365-20.363 20.365z\" data-reactid=\"189\"></path></svg></div><!-- react-text: 190 -->新聞<!-- /react-text --></a></li><li class=\"Py(8px)\" data-reactid=\"191\"><a class=\"nr-applet-nav-item Td(n) C(#fff) D(b)\" href=\"https://tw.sports.yahoo.com/\" title=\"運動\" data-reactid=\"192\"><div class=\"W(30px) D(ib)\" data-reactid=\"193\"><svg class=\"Va(m) D(ib) Cur(p)\" width=\"22\" style=\"vertical-align:middle;fill:#fff;stroke:#fff;stroke-width:0;\" height=\"22\" viewBox=\"0 0 512 512\" data-icon=\"nav-sports\" data-reactid=\"194\"><path d=\"M454.684 67.463c-2.04-5.246-6.183-9.436-11.416-11.445-35-13.533-71.426-20.422-108.184-20.422-165.43 0-300 134.58-300 300.002 0 36.787 6.846 73.174 20.4 108.176 2.03 5.223 6.18 9.385 11.416 11.426 34.988 13.535 71.396 20.396 108.174 20.396h.02c80.098 0 155.448-31.18 212.11-87.842 56.658-56.66 87.88-132.012 87.88-212.158 0-36.72-6.865-73.114-20.4-108.133zm-87.19 160.564c-3.895 3.896-9.022 5.857-14.14 5.857-5.116 0-10.244-1.96-14.133-5.857l-14.13-14.13-41.72 41.72 21.19 21.2c7.832 7.81 7.832 20.458 0 28.278-3.887 3.898-9.013 5.86-14.13 5.86s-10.232-1.962-14.142-5.86l-21.2-21.2-41.72 41.72 14.13 14.13c7.824 7.813 7.824 20.452 0 28.284-3.895 3.894-9.022 5.856-14.14 5.856-5.116 0-10.244-1.965-14.142-5.857l-56.562-56.563c-7.822-7.824-7.822-20.48 0-28.283 7.804-7.81 20.46-7.81 28.28 0l14.15 14.15 41.72-41.717-21.213-21.223c-7.82-7.822-7.82-20.5 0-28.28 7.795-7.813 20.46-7.813 28.272 0l21.222 21.22 41.718-41.72-14.147-14.15c-7.822-7.82-7.822-20.477 0-28.28 7.802-7.812 20.45-7.812 28.27 0l56.563 56.564c7.83 7.81 7.83 20.48.007 28.28z\" data-reactid=\"195\"></path></svg></div><!-- react-text: 196 -->運動<!-- /react-text --></a></li><li class=\"Py(8px)\" data-reactid=\"197\"><a class=\"nr-applet-nav-item Td(n) C(#fff) D(b)\" href=\"http://tw.stock.yahoo.com/\" title=\"股市\" data-reactid=\"198\"><div class=\"W(30px) D(ib)\" data-reactid=\"199\"><svg class=\"Va(m) D(ib) Cur(p)\" width=\"22\" style=\"vertical-align:middle;fill:#fff;stroke:#fff;stroke-width:0;\" height=\"22\" viewBox=\"0 0 512 512\" data-icon=\"nav-finance\" data-reactid=\"200\"><path d=\"M292.413 325.163l-97.96-108.47L46.787 350.767v65.727c0 11.766 9.617 21.32 21.555 21.32h380.095c11.897 0 21.577-9.634 21.577-21.367V147.522l-177.602 177.64zM415.968 69.046L295.508 189.5l-88.313-88.274c-10.453-10.477-27.422-10.477-37.922 0l-139.43 139.43c-10.477 10.43-10.477 27.397 0 37.914 5.258 5.242 12.11 7.836 18.977 7.836 6.852 0 13.727-2.594 18.938-7.836L194.5 158.078S303.992 278.32 295.508 267.85l158.374-160.89c10.478-10.516 10.478-27.484 0-37.914-10.453-10.477-27.422-10.477-37.914 0z\" data-reactid=\"201\"></path></svg></div><!-- react-text: 202 -->股市<!-- /react-text --></a></li><li class=\"Py(8px)\" data-reactid=\"203\"><a class=\"nr-applet-nav-item Td(n) C(#fff) D(b)\" href=\"https://tw.news.yahoo.com/weather/\" title=\"氣象\" data-reactid=\"204\"><div class=\"W(30px) D(ib)\" data-reactid=\"205\"><svg class=\"Va(m) D(ib) Cur(p)\" width=\"22\" style=\"vertical-align:middle;fill:#fff;stroke:#fff;stroke-width:0;\" height=\"22\" viewBox=\"0 0 24 24\" data-icon=\"nav-weather\" data-reactid=\"206\"><path d=\"M13 1c0-.553-.447-1-1-1s-1 .447-1 1v3h2V1zM11 23c0 .553.447 1 1 1 .552 0 1-.447 1-1v-3h-2v3zM4 11H1c-.553 0-1 .448-1 1s.447 1 1 1h3v-2zM23 11h-3v2h3c.553 0 1-.447 1-1 0-.552-.447-1-1-1zM5.636 7.05L7.05 5.636l-2.12-2.12c-.392-.392-1.024-.392-1.415 0s-.39 1.022 0 1.413l2.12 2.12zM18.364 16.95l-1.415 1.413 2.12 2.122c.392.39 1.024.39 1.415 0 .39-.39.39-1.023 0-1.414l-2.12-2.12zM3.515 19.07c-.39.392-.39 1.024 0 1.415s1.023.39 1.414 0l2.12-2.122-1.414-1.414-2.12 2.12zM20.485 4.93c.39-.392.39-1.024 0-1.416-.39-.39-1.023-.39-1.414 0l-2.12 2.122 1.413 1.414 2.122-2.12zM12 6c-3.31 0-6 2.69-6 6s2.69 6 6 6 6-2.69 6-6-2.69-6-6-6zm0 10c-2.206 0-4-1.795-4-4 0-2.206 1.794-4 4-4s4 1.794 4 4c0 2.205-1.794 4-4 4z\" data-reactid=\"207\"></path></svg></div><!-- react-text: 208 -->氣象<!-- /react-text --></a></li><li class=\"Py(8px)\" data-reactid=\"209\"><a class=\"nr-applet-nav-item Td(n) C(#fff) D(b)\" href=\"https://movies.yahoo.com.tw/\" title=\"電影\" data-reactid=\"210\"><div class=\"W(30px) D(ib)\" data-reactid=\"211\"><svg class=\"Va(m) D(ib) Cur(p)\" width=\"22\" style=\"vertical-align:middle;fill:#fff;stroke:#fff;stroke-width:0;\" height=\"22\" viewBox=\"0 0 512 512\" data-icon=\"nav-movies\" data-reactid=\"212\"><path d=\"M458.762 441.045h-76.535C441.253 400.71 480 332.898 480 256c0-123.71-100.283-224.004-223.994-224.004C132.286 31.996 32 132.29 32 256c0 122.543 98.41 222.035 220.496 223.922.304.008.495.082.827.082H458.76c11.74 0 21.24-8.71 21.24-19.477 0-10.757-9.5-19.482-21.238-19.482m-309.89-136.348c-26.896 0-48.696-21.8-48.696-48.697 0-26.887 21.8-48.695 48.696-48.695 26.888 0 48.688 21.81 48.688 48.695 0 26.898-21.8 48.697-48.688 48.697M256.006 410.81c-26.336 0-47.68-21.34-47.68-47.677s21.344-47.668 47.68-47.668c26.328 0 47.678 21.332 47.678 47.668s-21.35 47.678-47.678 47.678m0-213.244c-26.898 0-48.706-21.81-48.706-48.7 0-26.886 21.808-48.694 48.706-48.694 26.888 0 48.696 21.81 48.696 48.695 0 26.89-21.808 48.7-48.696 48.7M313.834 256c0-27.232 22.064-49.297 49.294-49.297 27.24 0 49.315 22.064 49.315 49.297 0 27.23-22.075 49.305-49.315 49.305-27.23 0-49.294-22.075-49.294-49.305\" data-reactid=\"213\"></path></svg></div><!-- react-text: 214 -->電影<!-- /react-text --></a></li><li class=\"Py(8px)\" data-reactid=\"215\"><a class=\"nr-applet-nav-item Td(n) C(#fff) D(b)\" href=\"https://tw.video.yahoo.com/\" title=\"Yahoo TV\" data-reactid=\"216\"><div class=\"W(30px) D(ib)\" data-reactid=\"217\"><svg class=\"Va(m) D(ib) Cur(p)\" width=\"22\" style=\"vertical-align:middle;fill:#fff;stroke:#fff;stroke-width:0;\" height=\"22\" viewBox=\"0 0 512 512\" data-icon=\"nav-tv\" data-reactid=\"218\"><path d=\"M447.25 74.76H65.434c-10.524 0-19.1 8.547-19.1 19.09v248.183c0 10.542 8.575 19.09 19.1 19.09H447.25c10.563 0 19.083-8.548 19.083-19.09V93.85c0-10.543-8.52-19.09-19.082-19.09m-76.353 324.545h-229.09c-10.552 0-19.09 8.547-19.09 19.09 0 10.544 8.538 19.09 19.09 19.09h229.09c10.554 0 19.082-8.546 19.082-19.09 0-10.543-8.53-19.09-19.083-19.09\" data-reactid=\"219\"></path></svg></div><!-- react-text: 220 -->Yahoo TV<!-- /react-text --></a></li><li class=\"Py(8px)\" data-reactid=\"221\"><a class=\"nr-applet-nav-item Td(n) C(#fff) D(b)\" href=\"https://style.yahoo.com.tw/\" title=\"時尚美妝\" data-reactid=\"222\"><div class=\"W(30px) D(ib)\" data-reactid=\"223\"><svg class=\"Va(m) D(ib) Cur(p)\" width=\"22\" style=\"vertical-align:middle;fill:#fff;stroke:#fff;stroke-width:0;\" height=\"22\" viewBox=\"0 0 512 512\" data-icon=\"nav-style\" data-reactid=\"224\"><path d=\"M490.14 442.693L276.005 228.556V194.32c34.49-8.897 60-40.284 60-77.48 0-44.12-35.88-80-80-80s-80 35.88-80 80c0 11.035 8.937 20 20 20s20-8.965 20-20c0-22.06 17.94-40 40-40 22.07 0 40 17.94 40 40s-17.93 40-40 40c-11.064 0-20 8.965-20 20v51.717L21.868 442.693c-5.723 5.722-7.44 14.315-4.335 21.796 3.076 7.48 10.4 12.343 18.476 12.343H476c8.086 0 15.39-4.862 18.476-12.344 3.106-7.48 1.386-16.075-4.335-21.797zm-405.852-5.86l171.716-171.715L427.72 436.833H84.288z\" data-reactid=\"225\"></path></svg></div><!-- react-text: 226 -->時尚美妝<!-- /react-text --></a></li><li class=\"Py(8px)\" data-reactid=\"227\"><a class=\"nr-applet-nav-item Td(n) C(#fff) D(b)\" href=\"https://travel.yahoo.com.tw/\" title=\"旅遊\" data-reactid=\"228\"><div class=\"W(30px) D(ib)\" data-reactid=\"229\"><svg class=\"Va(m) D(ib) Cur(p)\" width=\"22\" style=\"vertical-align:middle;fill:#fff;stroke:#fff;stroke-width:0;\" height=\"22\" viewBox=\"0 0 512 512\" data-icon=\"nav-travel\" data-reactid=\"230\"><path d=\"M452.934 197.787H346.96l-62.592-94.782c-8.816-13.338-26.94-17.043-40.297-8.227-13.35 8.814-17.062 26.953-8.245 40.306l41.422 62.703h-143.42l-24.715-49.942c-3.92-7.93-12.01-12.94-20.854-12.94H0l79.554 168.733c3.845 8.158 12.047 13.354 21.047 13.354h165.09l-53.238 55.904c-11.035 11.594-10.582 30.094 1 41.14 11.59 11.02 30.1 10.563 41.136-1.01l91.417-96.034h106.929c32.5 0 59.065-26.465 59.065-58.807v-1.592c0-32.354-26.566-58.806-59.066-58.806z\" data-reactid=\"231\"></path></svg></div><!-- react-text: 232 -->旅遊<!-- /react-text --></a></li><li class=\"Py(8px)\" data-reactid=\"233\"><a class=\"nr-applet-nav-item Td(n) C(#fff) D(b)\" href=\"https://autos.yahoo.com.tw/\" title=\"汽車機車\" data-reactid=\"234\"><div class=\"W(30px) D(ib)\" data-reactid=\"235\"><svg class=\"Va(m) D(ib) Cur(p)\" width=\"22\" style=\"vertical-align:middle;fill:#fff;stroke:#fff;stroke-width:0;\" height=\"22\" viewBox=\"0 0 512 512\" data-icon=\"nav-autos\" data-reactid=\"236\"><path d=\"M440.238 212.402h10.48c14.473 0 23.887-15.234 17.418-28.184-3.29-6.59-10.04-10.766-17.418-10.766h-25.883l-18.906-51.965c-13.997-38.484-50.57-64.102-91.517-64.102H197.566c-40.945 0-77.516 25.617-91.504 64.102l-18.895 51.965H61.285c-7.38 0-14.12 4.176-17.422 10.766-6.477 12.95 2.938 28.184 17.422 28.184h10.477c-23.695 13.902-39.766 40.195-39.766 70.5v94.254c0 22.383 17.44 40.508 38.95 40.508v9.738c0 16.137 13.085 29.21 29.21 29.21 16.13 0 29.21-13.073 29.21-29.21v-9.738h253.247v9.738c0 16.137 13.094 29.21 29.23 29.21 16.13 0 29.21-13.073 29.21-29.21v-9.738c21.513 0 38.95-18.125 38.95-40.508v-94.254c0-30.304-16.077-56.597-39.765-70.5M142.664 134.79c8.367-23 30.426-38.454 54.902-38.454h116.848c24.488 0 46.56 15.453 54.914 38.453l24.402 67.097H118.273l24.39-67.098zm-32.73 214.714c-21.512 0-38.95-17.44-38.95-38.95s17.44-38.948 38.95-38.948c21.508 0 38.95 17.44 38.95 38.95s-17.443 38.948-38.95 38.948m292.117 0c-21.507 0-38.948-17.44-38.948-38.95s17.44-38.948 38.95-38.948S441 289.046 441 310.556s-17.44 38.948-38.95 38.948\" data-reactid=\"237\"></path></svg></div><!-- react-text: 238 -->汽車機車<!-- /react-text --></a></li></ul><ul class=\"Fz(m) Lh(2) Px(25px)\" data-reactid=\"239\"></ul><ul class=\"Fz(m) Lh(2) Px(25px)\" data-reactid=\"240\"></ul><ul class=\"Fz(m) Lh(2) Px(25px)\" data-reactid=\"241\"><li class=\"C(nrSectionHeading) nr-section-heading Fw(b) Fz(11px) Pt(15px) Pb(4px)\" data-reactid=\"242\">工具</li><li class=\"Py(8px)\" data-reactid=\"243\"><a class=\"nr-applet-nav-item Td(n) C(#fff) D(b)\" href=\"https://tw.help.yahoo.com/kb/helpcentral/\" title=\"服務中心\" data-reactid=\"244\"><!-- react-text: 245 -->服務中心<!-- /react-text --></a></li><li class=\"Py(8px)\" data-reactid=\"246\"><a class=\"nr-applet-nav-item Td(n) C(#fff) D(b)\" href=\"https://edit.yahoo.com/config/eval_profile?.intl=tw&amp;.lang=zh-Hant-TW&amp;.src=all\" title=\"帳號資料\" data-reactid=\"247\"><!-- react-text: 248 -->帳號資料<!-- /react-text --></a></li><li class=\"Py(8px)\" data-reactid=\"249\"><a class=\"nr-applet-nav-item Td(n) C(#fff) D(b)\" href=\"https://careers.yahoo.com/tw/lang/zh-TW/\" title=\"Yahoo奇摩徵才\" data-reactid=\"250\"><!-- react-text: 251 -->Yahoo奇摩徵才<!-- /react-text --></a></li><li class=\"Py(8px)\" data-reactid=\"252\"><a class=\"nr-applet-nav-item Td(n) C(#fff) D(b)\" href=\"https://www.verizonmedia.com/\" title=\"關於\" data-reactid=\"253\"><!-- react-text: 254 -->關於<!-- /react-text --></a></li></ul><div data-reactid=\"255\"><div class=\"Py(24px)\" data-reactid=\"256\"><div id=\"nr-footer\" class=\"Ta(c)\" data-reactid=\"257\"><div class=\"D(ib) Cur(p)\" style=\"vertical-align:middle;fill:#fff;stroke:#fff;stroke-width:0;width:100px;height:60px;\" data-icon=\"LogoYahoo2019\" data-reactid=\"258\"></div><br data-reactid=\"259\"/><span class=\"Fz(xs) C(#fff)\" data-reactid=\"260\"><a href=\"https://www.verizonmedia.com/policies/tw/zh-hant/verizonmedia/terms/otos/index.html\" class=\"C(#fff)\" data-reactid=\"261\"><span data-reactid=\"262\"><!-- react-text: 263 -->服務條款 (更新版)<!-- /react-text --></span></a><span data-reactid=\"264\"> &amp; </span><a href=\"https://www.verizonmedia.com/policies/tw/zh-hant/verizonmedia/privacy/index.html\" class=\"C(#fff)\" data-reactid=\"265\"><span data-reactid=\"266\"><!-- react-text: 267 -->隱私權保護政策 (更新版)<!-- /react-text --></span></a><div class=\"H(10px)\" data-reactid=\"268\"></div></span></div></div></div></nav></div></div></div></div><script>if (window.performance) {window.performance.mark && window.performance.mark('NavLite');window.performance.measure && window.performance.measure('NavLiteDone','PageStart','NavLite');}</script></div><div data-reactid=\"29\"><div id=\"mrt-node-Overlay-1-Lightbox\" data-locator=\"subtree-root\"><div id=\"Overlay-1-Lightbox-Proxy\" data-reactroot=\"\" data-reactid=\"1\" data-react-checksum=\"-1081629567\"><div id=\"Overlay-1-Lightbox\" class=\"lightbox\" data-reactid=\"2\"><div tabindex=\"-1\" class=\"lightbox-wrapper Ta(c) Pos(f) T(0) Start(0) H(100%) W(100%)  D(n)! Op(0)\" data-reactid=\"3\"><div id=\"myLightboxContainer\" class=\"Ta(start) Pos(r) Z(1) T(0) Maw(100%) P(0)  D(n)!\" aria-describedby=\"lightbox-container\" role=\"alertdialog\" data-reactid=\"4\"></div><b class=\"ModalShim\" data-reactid=\"5\"></b><b class=\"IEShim\" data-reactid=\"6\"></b></div></div></div></div><script>if (window.performance) {window.performance.mark && window.performance.mark('Overlay-1-Lightbox');window.performance.measure && window.performance.measure('Overlay-1-LightboxDone','PageStart','Overlay-1-Lightbox');}</script></div><div data-reactid=\"30\"><div id=\"mrt-node-Overlay-2-VideoModal\" data-locator=\"subtree-root\"><div id=\"Overlay-2-VideoModal-Proxy\" data-reactroot=\"\" data-reactid=\"1\" data-react-checksum=\"1197432800\"><div class=\"tdv2-applet-video-modal video-modal  H(100%) End(0) Bgc(tspr) Trs(vm) Bxz(bb) Bgc(#000) Start(0) Pos(f) Z(20) V(h) Op(0) T(100%) B(0)\" data-reactid=\"2\"><div class=\"T(0) Pos(a) Start(0) End(0) B(0)\" data-reactid=\"3\"></div></div></div></div><script>if (window.performance) {window.performance.mark && window.performance.mark('Overlay-2-VideoModal');window.performance.measure && window.performance.measure('Overlay-2-VideoModalDone','PageStart','Overlay-2-VideoModal');}</script></div></div></div></div></div></div></div><div class=\"render-target-viewer D(n)\" id=\"render-target-viewer\" data-reactid=\"31\"><span data-reactid=\"32\"></span></div></div></div><div><script type=\"text/javascript\">window._loadEvt = false; \n",
      "window._adPerfData = []; \n",
      "window._adPosMsg = []; \n",
      "window._perfMark = function _perfMark (name) {if (window.performance && window.performance.mark){try {if (window.performance.getEntriesByName(\"NAVIGATE_START\") && window.performance.getEntriesByName(\"NAVIGATE_START\")[0]) { name = \"CL_\" + name ;}window.performance.mark(name);} catch (e) {console.warn(name + ' could not be marked:',e);}};};\n",
      "window._perfMeasure = function _perfMeasure (name, start, end) {if (window.performance && window.performance.measure){try {if (window.performance.getEntriesByName(\"NAVIGATE_START\") && window.performance.getEntriesByName(\"NAVIGATE_START\")[0]) { start = \"CL_\" + start ;end = \"CL_\" + end ;name = \"CL_\" + name ;}window.performance.measure(name, start, end);} catch (e) {console.warn(name + ' could not be added:',e);}};};\n",
      "window._pushAdPerfMetric = function _pushAdPerfMetric(key) {if (window.performance && window.performance.now) {_adPerfData.push([key, Math.round(window.performance.now())]);}};\n",
      "window._fireAdPerfBeacon = function _fireAdPerfBeacon(eventName) {try {if (window && window.rapidInstance && window.performance) {var navClickMark = window.performance.getEntriesByName('NAVIGATE_START') &&window.performance.getEntriesByName('NAVIGATE_START').pop();var navClickTime = navClickMark && navClickMark.startTime || 0;var userTime = {};window.performance.getEntries().forEach(function forEachPerfTime (item) {if (item.name.search('DARLA_') > -1) {if (item.entryType === \"mark\") {userTime[item.name] = Math.round(item.startTime) - navClickTime;window.performance.clearMarks(item.name);} else if (item.entryType === \"measure\") {userTime[item.name] = Math.round(item.duration);window.performance.clearMeasures(item.name);}}});var perfData = {perf_usertime: {utm: userTime}};\n",
      "window.rapidInstance.beaconPerformanceData(perfData);}} catch (e) {console.warn('Could not send the beacon:',e);}};\n",
      "window.DARLA_CONFIG = {\"autoRotation\":10000,\"autoadrender\":false,\"darlaJsAtTop\":false,\"darlaAssetFetch\":false,\"cacheDarlaAsset\":false,\"events\":{\"AUTO\":{\"name\":\"AUTO\",\"autoStart\":1,\"autoMax\":25,\"autoRT\":10000,\"autoIV\":1,\"autoDDG\":1,\"ps\":{\"BTNA\":{\"autoIV\":1,\"autoMax\":25,\"autoRT\":\"35000\"},\"BTNB\":{\"autoIV\":1,\"autoMax\":25,\"autoRT\":\"35000\"},\"BTNC\":{\"autoIV\":1,\"autoMax\":25,\"autoRT\":\"35000\"},\"BTND\":{\"autoIV\":1,\"autoMax\":25,\"autoRT\":\"35000\"},\"LDRB\":{\"autoIV\":1,\"autoMax\":25,\"autoRT\":\"35000\"},\"LDRB-9\":{\"autoIV\":1,\"autoMax\":25,\"autoRT\":\"35000\"},\"LDRB2-1\":{\"autoIV\":1,\"autoMax\":25,\"autoRT\":\"35000\"},\"LDRB2-2\":{\"autoIV\":1,\"autoMax\":25,\"autoRT\":\"35000\"},\"LREC\":{\"autoIV\":1,\"autoMax\":25,\"autoRT\":\"35000\"},\"LREC-1\":{\"autoIV\":1,\"autoMax\":25,\"autoRT\":\"35000\"},\"LREC-9\":{\"autoIV\":1,\"autoMax\":25,\"autoRT\":\"35000\"},\"LREC2\":{\"autoIV\":1,\"autoMax\":25,\"autoRT\":\"35000\"},\"LREC2-1\":{\"autoIV\":1,\"autoMax\":25,\"autoRT\":\"35000\"},\"LREC2-4\":{\"autoIV\":1,\"autoMax\":25,\"autoRT\":\"35000\"},\"LREC2-5\":{\"autoIV\":1,\"autoMax\":25,\"autoRT\":\"35000\"},\"LREC2-6\":{\"autoIV\":1,\"autoMax\":25,\"autoRT\":\"35000\"},\"LREC2-7\":{\"autoIV\":1,\"autoMax\":25,\"autoRT\":\"35000\"},\"LREC2-8\":{\"autoIV\":1,\"autoMax\":25,\"autoRT\":\"35000\"},\"LREC2-9\":{\"autoIV\":1,\"autoMax\":25,\"autoRT\":\"35000\"},\"LREC3\":{\"autoIV\":1,\"autoMax\":25,\"autoRT\":\"35000\"},\"LREC3-4\":{\"autoIV\":1,\"autoMax\":25,\"autoRT\":\"35000\"},\"LREC3-5\":{\"autoIV\":1,\"autoMax\":25,\"autoRT\":\"35000\"},\"LREC3-6\":{\"autoIV\":1,\"autoMax\":25,\"autoRT\":\"35000\"},\"LREC3-7\":{\"autoIV\":1,\"autoMax\":25,\"autoRT\":\"35000\"},\"LREC3-8\":{\"autoIV\":1,\"autoMax\":25,\"autoRT\":\"35000\"},\"LREC3-9\":{\"autoIV\":1,\"autoMax\":25,\"autoRT\":\"35000\"},\"LREC4\":{\"autoIV\":1,\"autoMax\":25,\"autoRT\":\"35000\"},\"MAST\":{\"autoIV\":1,\"autoMax\":25,\"autoRT\":\"60000\"},\"MAST-9\":{\"autoIV\":1,\"autoMax\":25,\"autoRT\":\"60000\"},\"MON-1\":{\"autoIV\":1,\"autoMax\":25,\"autoRT\":\"35000\"},\"SPL\":{\"autoIV\":1,\"autoMax\":25,\"autoRT\":\"60000\"},\"SPL-2\":{\"autoIV\":1,\"autoMax\":25,\"autoRT\":\"60000\"},\"SPL2\":{\"autoIV\":1,\"autoMax\":25,\"autoRT\":\"60000\"},\"WIDGET\":{\"autoIV\":0}},\"sa\":\"wiki_topics=\\\"意大利;西班牙;世界卫生组织;西班牙銀行\\\" megamodal=true rs=\\\"lmsid:a0V0W00000HObw4UAD;revsp:ebc.net.tw;lpstaid:01490841-22c9-30c8-84c9-216bcff32bd5;pct:story;pt:content;site:news;ver:y20;pd:non_modal\\\" Y-BUCKET=\\\"news-TW-zh-Hant-TW-def\\\"\",\"ssl\":1,\"secure\":1,\"ult\":{\"pg\":{\"property\":\"news_zh-Hant-TW\",\"test\":\"news-TW-zh-Hant-TW-def\"}}},\"DEFAULT\":{\"clw\":{\"LREC\":{\"blocked_by\":\"MON-1\"},\"MON-1\":{\"blocked_by\":\"LREC\"},\"MAST-9\":{\"blocked_by\":\"SPL,LDRB-9\"},\"MAST\":{\"blocked_by\":\"SPL,LDRB\"},\"LDRB\":{\"blocked_by\":\"MAST,SPL\"},\"LDRB-9\":{\"blocked_by\":\"MAST-9,SPL\"},\"SPL\":{\"blocked_by\":\"MAST,LDRB\"}},\"sp\":\"958812180\",\"ssl\":1,\"secure\":1,\"ult\":{\"pg\":{\"property\":\"news_zh-Hant-TW\",\"test\":\"news-TW-zh-Hant-TW-def\"}}},\"adFetch\":{\"ps\":\"LREC,LREC2\",\"sp\":\"958812180\",\"sa\":\"wiki_topics=\\\"意大利;西班牙;世界卫生组织;西班牙銀行\\\" megamodal=true rs=\\\"lmsid:a0V0W00000HObw4UAD;revsp:ebc.net.tw;lpstaid:01490841-22c9-30c8-84c9-216bcff32bd5;pct:story;pt:content;site:news;ver:y20;pd:non_modal\\\" Y-BUCKET=\\\"news-TW-zh-Hant-TW-def\\\"\",\"optionalps\":\"\",\"site\":\"news\",\"ssl\":1,\"secure\":1,\"ult\":{\"pg\":{\"property\":\"news_zh-Hant-TW\",\"test\":\"news-TW-zh-Hant-TW-def\"}}},\"TD_AUTO\":{\"ps\":\"DEFAULT,BTNA,BTNB,BTNC,BTND,FOOT,FOOT9,FSRVY,LREC,LREC-1,LREC-2,LREC-9,LREC2-1,LREC2-2,LREC2-4,LREC2-5,LREC2-6,LREC2-7,LREC2-8,LREC2-9,LREC2,LREC3,LREC3-1,LREC3-4,LREC3-5,LREC3-6,LREC3-7,LREC3-8,LREC3-9,LREC4,LDRB,LDRB-1,LDRB-9,LDRB2-1,LDRB2-2,LDRP,MAST,MAST-9,MFPAD,MON,MON-1,MON2,MON-9,MOMENTS,NE1,SCREC,SPL,SPL-2,SPL2,SPRZ,SPON,TXTL,WFPAD,UBALDRB,UBALDRB-9,UBALDRB2-1,UBALDRB2-2,UBALREC,UBALREC-1,UBALREC-9,UBALREC2-9,UBALREC2,UBALREC3,UBALREC3-9,UBALREC4,AS6,WIDGET\",\"ssl\":1,\"secure\":1,\"ult\":{\"pg\":{\"property\":\"news_zh-Hant-TW\",\"test\":\"news-TW-zh-Hant-TW-def\"}}}},\"positions\":{\"DEFAULT\":{\"meta\":{\"stack\":\"ydc\",\"hostURL\":\"https://tw.news.yahoo.com/%E7%A2%BA%E8%A8%BA%E7%9B%B4%E8%BF%BD%E7%BE%A9%E5%A4%A7%E5%88%A9-%E8%A5%BF%E7%8F%AD%E7%89%9924%E5%B0%8F%E6%99%82%E6%9A%B4%E5%A2%9E2086%E4%BE%8B-022900167.html\"},\"clean\":\"defaultcleanDEFAULT\",\"dest\":\"defaultdestDEFAULT\",\"enable\":true,\"fallback\":null,\"metaSize\":false,\"id\":\"DEFAULT\",\"staticLayout\":false},\"BTNA\":{\"w\":120,\"h\":60,\"autoFetch\":false,\"clean\":\"defaultcleanBTNA\",\"dest\":\"defaultdestBTNA\",\"enable\":true,\"fallback\":null,\"metaSize\":false,\"id\":\"BTNA\",\"staticLayout\":false,\"meta\":{\"hostURL\":\"https://tw.news.yahoo.com/%E7%A2%BA%E8%A8%BA%E7%9B%B4%E8%BF%BD%E7%BE%A9%E5%A4%A7%E5%88%A9-%E8%A5%BF%E7%8F%AD%E7%89%9924%E5%B0%8F%E6%99%82%E6%9A%B4%E5%A2%9E2086%E4%BE%8B-022900167.html\"}},\"BTNB\":{\"w\":120,\"h\":60,\"autoFetch\":false,\"clean\":\"defaultcleanBTNB\",\"dest\":\"defaultdestBTNB\",\"enable\":true,\"fallback\":null,\"metaSize\":false,\"id\":\"BTNB\",\"staticLayout\":false,\"meta\":{\"hostURL\":\"https://tw.news.yahoo.com/%E7%A2%BA%E8%A8%BA%E7%9B%B4%E8%BF%BD%E7%BE%A9%E5%A4%A7%E5%88%A9-%E8%A5%BF%E7%8F%AD%E7%89%9924%E5%B0%8F%E6%99%82%E6%9A%B4%E5%A2%9E2086%E4%BE%8B-022900167.html\"}},\"BTNC\":{\"w\":120,\"h\":60,\"autoFetch\":false,\"clean\":\"defaultcleanBTNC\",\"dest\":\"defaultdestBTNC\",\"enable\":true,\"fallback\":null,\"metaSize\":false,\"id\":\"BTNC\",\"staticLayout\":false,\"meta\":{\"hostURL\":\"https://tw.news.yahoo.com/%E7%A2%BA%E8%A8%BA%E7%9B%B4%E8%BF%BD%E7%BE%A9%E5%A4%A7%E5%88%A9-%E8%A5%BF%E7%8F%AD%E7%89%9924%E5%B0%8F%E6%99%82%E6%9A%B4%E5%A2%9E2086%E4%BE%8B-022900167.html\"}},\"BTND\":{\"w\":120,\"h\":60,\"autoFetch\":false,\"clean\":\"defaultcleanBTND\",\"dest\":\"defaultdestBTND\",\"enable\":true,\"fallback\":null,\"metaSize\":false,\"id\":\"BTND\",\"staticLayout\":false,\"meta\":{\"hostURL\":\"https://tw.news.yahoo.com/%E7%A2%BA%E8%A8%BA%E7%9B%B4%E8%BF%BD%E7%BE%A9%E5%A4%A7%E5%88%A9-%E8%A5%BF%E7%8F%AD%E7%89%9924%E5%B0%8F%E6%99%82%E6%9A%B4%E5%A2%9E2086%E4%BE%8B-022900167.html\"}},\"FOOT\":{\"id\":\"FOOT\",\"enable\":true,\"fr\":\"expIfr_exp\",\"autoFetch\":false,\"supports\":{\"lyr\":1},\"clean\":\"defaultcleanFOOT\",\"dest\":\"defaultdestFOOT\",\"fallback\":null,\"metaSize\":false,\"staticLayout\":false,\"meta\":{\"hostURL\":\"https://tw.news.yahoo.com/%E7%A2%BA%E8%A8%BA%E7%9B%B4%E8%BF%BD%E7%BE%A9%E5%A4%A7%E5%88%A9-%E8%A5%BF%E7%8F%AD%E7%89%9924%E5%B0%8F%E6%99%82%E6%9A%B4%E5%A2%9E2086%E4%BE%8B-022900167.html\"}},\"FOOT9\":{\"id\":\"FOOT9\",\"enable\":true,\"fr\":\"expIfr_exp\",\"autoFetch\":false,\"supports\":{\"lyr\":1},\"clean\":\"defaultcleanFOOT9\",\"dest\":\"defaultdestFOOT9\",\"fallback\":null,\"metaSize\":false,\"staticLayout\":false,\"meta\":{\"hostURL\":\"https://tw.news.yahoo.com/%E7%A2%BA%E8%A8%BA%E7%9B%B4%E8%BF%BD%E7%BE%A9%E5%A4%A7%E5%88%A9-%E8%A5%BF%E7%8F%AD%E7%89%9924%E5%B0%8F%E6%99%82%E6%9A%B4%E5%A2%9E2086%E4%BE%8B-022900167.html\"}},\"FSRVY\":{\"id\":\"FSRVY\",\"enable\":true,\"fr\":\"expIfr_exp\",\"autoFetch\":false,\"supports\":{\"lyr\":1},\"clean\":\"defaultcleanFSRVY\",\"dest\":\"defaultdestFSRVY\",\"fallback\":null,\"metaSize\":false,\"staticLayout\":false,\"meta\":{\"hostURL\":\"https://tw.news.yahoo.com/%E7%A2%BA%E8%A8%BA%E7%9B%B4%E8%BF%BD%E7%BE%A9%E5%A4%A7%E5%88%A9-%E8%A5%BF%E7%8F%AD%E7%89%9924%E5%B0%8F%E6%99%82%E6%9A%B4%E5%A2%9E2086%E4%BE%8B-022900167.html\"}},\"LREC\":{\"id\":\"LREC\",\"w\":300,\"h\":250,\"fr\":\"expIfr_exp\",\"autoFetch\":false,\"supports\":{\"exp-ovr\":1,\"exp-push\":1},\"enable\":true,\"staticLayout\":true,\"fdb\":true,\"z\":3,\"clean\":\"defaultcleanLREC\",\"dest\":\"defaultdestLREC\",\"fallback\":null,\"metaSize\":false,\"meta\":{\"hostURL\":\"https://tw.news.yahoo.com/%E7%A2%BA%E8%A8%BA%E7%9B%B4%E8%BF%BD%E7%BE%A9%E5%A4%A7%E5%88%A9-%E8%A5%BF%E7%8F%AD%E7%89%9924%E5%B0%8F%E6%99%82%E6%9A%B4%E5%A2%9E2086%E4%BE%8B-022900167.html\"}},\"LREC-1\":{\"id\":\"LREC-1\",\"w\":300,\"h\":250,\"autoFetch\":false,\"fr\":\"expIfr_exp\",\"supports\":{\"exp-ovr\":1,\"exp-push\":1},\"enable\":true,\"staticLayout\":true,\"fdb\":true,\"z\":9,\"clean\":\"defaultcleanLREC-1\",\"dest\":\"defaultdestLREC-1\",\"fallback\":null,\"metaSize\":false,\"meta\":{\"hostURL\":\"https://tw.news.yahoo.com/%E7%A2%BA%E8%A8%BA%E7%9B%B4%E8%BF%BD%E7%BE%A9%E5%A4%A7%E5%88%A9-%E8%A5%BF%E7%8F%AD%E7%89%9924%E5%B0%8F%E6%99%82%E6%9A%B4%E5%A2%9E2086%E4%BE%8B-022900167.html\"}},\"LREC-2\":{\"id\":\"LREC-2\",\"w\":300,\"h\":250,\"autoFetch\":false,\"fr\":\"expIfr_exp\",\"supports\":{\"exp-ovr\":1,\"exp-push\":1},\"enable\":true,\"staticLayout\":true,\"fdb\":true,\"z\":9,\"clean\":\"defaultcleanLREC-2\",\"dest\":\"defaultdestLREC-2\",\"fallback\":null,\"metaSize\":false,\"meta\":{\"hostURL\":\"https://tw.news.yahoo.com/%E7%A2%BA%E8%A8%BA%E7%9B%B4%E8%BF%BD%E7%BE%A9%E5%A4%A7%E5%88%A9-%E8%A5%BF%E7%8F%AD%E7%89%9924%E5%B0%8F%E6%99%82%E6%9A%B4%E5%A2%9E2086%E4%BE%8B-022900167.html\"}},\"LREC-9\":{\"id\":\"LREC-9\",\"w\":300,\"h\":250,\"autoFetch\":false,\"fr\":\"expIfr_exp\",\"supports\":{\"exp-ovr\":1,\"exp-push\":1},\"enable\":true,\"staticLayout\":true,\"fdb\":true,\"z\":9,\"clean\":\"defaultcleanLREC-9\",\"dest\":\"defaultdestLREC-9\",\"fallback\":null,\"metaSize\":false,\"meta\":{\"hostURL\":\"https://tw.news.yahoo.com/%E7%A2%BA%E8%A8%BA%E7%9B%B4%E8%BF%BD%E7%BE%A9%E5%A4%A7%E5%88%A9-%E8%A5%BF%E7%8F%AD%E7%89%9924%E5%B0%8F%E6%99%82%E6%9A%B4%E5%A2%9E2086%E4%BE%8B-022900167.html\"}},\"LREC2-1\":{\"id\":\"LREC2-1\",\"w\":300,\"h\":250,\"autoFetch\":false,\"fr\":\"expIfr_exp\",\"supports\":{\"exp-ovr\":1,\"exp-push\":1},\"enable\":true,\"staticLayout\":true,\"fdb\":true,\"z\":9,\"clean\":\"defaultcleanLREC2-1\",\"dest\":\"defaultdestLREC2-1\",\"fallback\":null,\"metaSize\":false,\"meta\":{\"hostURL\":\"https://tw.news.yahoo.com/%E7%A2%BA%E8%A8%BA%E7%9B%B4%E8%BF%BD%E7%BE%A9%E5%A4%A7%E5%88%A9-%E8%A5%BF%E7%8F%AD%E7%89%9924%E5%B0%8F%E6%99%82%E6%9A%B4%E5%A2%9E2086%E4%BE%8B-022900167.html\"}},\"LREC2-2\":{\"id\":\"LREC2-2\",\"w\":300,\"h\":250,\"autoFetch\":false,\"fr\":\"expIfr_exp\",\"supports\":{\"exp-ovr\":1,\"exp-push\":1},\"enable\":true,\"staticLayout\":true,\"fdb\":true,\"z\":9,\"clean\":\"defaultcleanLREC2-2\",\"dest\":\"defaultdestLREC2-2\",\"fallback\":null,\"metaSize\":false,\"meta\":{\"hostURL\":\"https://tw.news.yahoo.com/%E7%A2%BA%E8%A8%BA%E7%9B%B4%E8%BF%BD%E7%BE%A9%E5%A4%A7%E5%88%A9-%E8%A5%BF%E7%8F%AD%E7%89%9924%E5%B0%8F%E6%99%82%E6%9A%B4%E5%A2%9E2086%E4%BE%8B-022900167.html\"}},\"LREC2-4\":{\"id\":\"LREC2-4\",\"w\":300,\"h\":250,\"autoFetch\":false,\"fr\":\"expIfr_exp\",\"supports\":{\"exp-ovr\":1,\"exp-push\":1},\"enable\":true,\"staticLayout\":true,\"fdb\":true,\"z\":9,\"clean\":\"defaultcleanLREC2-4\",\"dest\":\"defaultdestLREC2-4\",\"fallback\":null,\"metaSize\":false,\"meta\":{\"hostURL\":\"https://tw.news.yahoo.com/%E7%A2%BA%E8%A8%BA%E7%9B%B4%E8%BF%BD%E7%BE%A9%E5%A4%A7%E5%88%A9-%E8%A5%BF%E7%8F%AD%E7%89%9924%E5%B0%8F%E6%99%82%E6%9A%B4%E5%A2%9E2086%E4%BE%8B-022900167.html\"}},\"LREC2-5\":{\"id\":\"LREC2-5\",\"w\":300,\"h\":250,\"autoFetch\":false,\"fr\":\"expIfr_exp\",\"supports\":{\"exp-ovr\":1,\"exp-push\":1},\"enable\":true,\"staticLayout\":true,\"fdb\":true,\"z\":9,\"clean\":\"defaultcleanLREC2-5\",\"dest\":\"defaultdestLREC2-5\",\"fallback\":null,\"metaSize\":false,\"meta\":{\"hostURL\":\"https://tw.news.yahoo.com/%E7%A2%BA%E8%A8%BA%E7%9B%B4%E8%BF%BD%E7%BE%A9%E5%A4%A7%E5%88%A9-%E8%A5%BF%E7%8F%AD%E7%89%9924%E5%B0%8F%E6%99%82%E6%9A%B4%E5%A2%9E2086%E4%BE%8B-022900167.html\"}},\"LREC2-6\":{\"id\":\"LREC2-6\",\"w\":300,\"h\":250,\"autoFetch\":false,\"fr\":\"expIfr_exp\",\"supports\":{\"exp-ovr\":1,\"exp-push\":1},\"enable\":true,\"staticLayout\":true,\"fdb\":true,\"z\":9,\"clean\":\"defaultcleanLREC2-6\",\"dest\":\"defaultdestLREC2-6\",\"fallback\":null,\"metaSize\":false,\"meta\":{\"hostURL\":\"https://tw.news.yahoo.com/%E7%A2%BA%E8%A8%BA%E7%9B%B4%E8%BF%BD%E7%BE%A9%E5%A4%A7%E5%88%A9-%E8%A5%BF%E7%8F%AD%E7%89%9924%E5%B0%8F%E6%99%82%E6%9A%B4%E5%A2%9E2086%E4%BE%8B-022900167.html\"}},\"LREC2-7\":{\"id\":\"LREC2-7\",\"w\":300,\"h\":250,\"autoFetch\":false,\"fr\":\"expIfr_exp\",\"supports\":{\"exp-ovr\":1,\"exp-push\":1},\"enable\":true,\"staticLayout\":true,\"fdb\":true,\"z\":9,\"clean\":\"defaultcleanLREC2-7\",\"dest\":\"defaultdestLREC2-7\",\"fallback\":null,\"metaSize\":false,\"meta\":{\"hostURL\":\"https://tw.news.yahoo.com/%E7%A2%BA%E8%A8%BA%E7%9B%B4%E8%BF%BD%E7%BE%A9%E5%A4%A7%E5%88%A9-%E8%A5%BF%E7%8F%AD%E7%89%9924%E5%B0%8F%E6%99%82%E6%9A%B4%E5%A2%9E2086%E4%BE%8B-022900167.html\"}},\"LREC2-8\":{\"id\":\"LREC2-8\",\"w\":300,\"h\":250,\"autoFetch\":false,\"fr\":\"expIfr_exp\",\"supports\":{\"exp-ovr\":1,\"exp-push\":1},\"enable\":true,\"staticLayout\":true,\"fdb\":true,\"z\":9,\"clean\":\"defaultcleanLREC2-8\",\"dest\":\"defaultdestLREC2-8\",\"fallback\":null,\"metaSize\":false,\"meta\":{\"hostURL\":\"https://tw.news.yahoo.com/%E7%A2%BA%E8%A8%BA%E7%9B%B4%E8%BF%BD%E7%BE%A9%E5%A4%A7%E5%88%A9-%E8%A5%BF%E7%8F%AD%E7%89%9924%E5%B0%8F%E6%99%82%E6%9A%B4%E5%A2%9E2086%E4%BE%8B-022900167.html\"}},\"LREC2-9\":{\"id\":\"LREC2-9\",\"w\":300,\"h\":250,\"autoFetch\":false,\"fr\":\"expIfr_exp\",\"supports\":{\"exp-ovr\":1,\"exp-push\":1},\"enable\":true,\"staticLayout\":true,\"fdb\":true,\"z\":9,\"clean\":\"defaultcleanLREC2-9\",\"dest\":\"defaultdestLREC2-9\",\"fallback\":null,\"metaSize\":false,\"meta\":{\"hostURL\":\"https://tw.news.yahoo.com/%E7%A2%BA%E8%A8%BA%E7%9B%B4%E8%BF%BD%E7%BE%A9%E5%A4%A7%E5%88%A9-%E8%A5%BF%E7%8F%AD%E7%89%9924%E5%B0%8F%E6%99%82%E6%9A%B4%E5%A2%9E2086%E4%BE%8B-022900167.html\"}},\"LREC2\":{\"id\":\"LREC2\",\"w\":300,\"h\":250,\"autoFetch\":false,\"fr\":\"expIfr_exp\",\"supports\":{\"exp-ovr\":1,\"exp-push\":1},\"enable\":true,\"staticLayout\":true,\"fdb\":true,\"z\":9,\"failed\":true,\"clean\":\"defaultcleanLREC2\",\"dest\":\"defaultdestLREC2\",\"fallback\":null,\"metaSize\":false,\"meta\":{\"hostURL\":\"https://tw.news.yahoo.com/%E7%A2%BA%E8%A8%BA%E7%9B%B4%E8%BF%BD%E7%BE%A9%E5%A4%A7%E5%88%A9-%E8%A5%BF%E7%8F%AD%E7%89%9924%E5%B0%8F%E6%99%82%E6%9A%B4%E5%A2%9E2086%E4%BE%8B-022900167.html\"}},\"LREC3\":{\"id\":\"LREC3\",\"w\":300,\"h\":250,\"autoFetch\":false,\"fr\":\"expIfr_exp\",\"supports\":{\"exp-ovr\":1,\"exp-push\":1},\"enable\":true,\"staticLayout\":true,\"fdb\":true,\"z\":9,\"clean\":\"defaultcleanLREC3\",\"dest\":\"defaultdestLREC3\",\"fallback\":null,\"metaSize\":false,\"meta\":{\"hostURL\":\"https://tw.news.yahoo.com/%E7%A2%BA%E8%A8%BA%E7%9B%B4%E8%BF%BD%E7%BE%A9%E5%A4%A7%E5%88%A9-%E8%A5%BF%E7%8F%AD%E7%89%9924%E5%B0%8F%E6%99%82%E6%9A%B4%E5%A2%9E2086%E4%BE%8B-022900167.html\"}},\"LREC3-1\":{\"id\":\"LREC3-1\",\"w\":300,\"h\":250,\"autoFetch\":false,\"fr\":\"expIfr_exp\",\"supports\":{\"exp-ovr\":1,\"exp-push\":1},\"enable\":true,\"staticLayout\":true,\"fdb\":true,\"z\":9,\"clean\":\"defaultcleanLREC3-1\",\"dest\":\"defaultdestLREC3-1\",\"fallback\":null,\"metaSize\":false,\"meta\":{\"hostURL\":\"https://tw.news.yahoo.com/%E7%A2%BA%E8%A8%BA%E7%9B%B4%E8%BF%BD%E7%BE%A9%E5%A4%A7%E5%88%A9-%E8%A5%BF%E7%8F%AD%E7%89%9924%E5%B0%8F%E6%99%82%E6%9A%B4%E5%A2%9E2086%E4%BE%8B-022900167.html\"}},\"LREC3-4\":{\"id\":\"LREC3-4\",\"w\":300,\"h\":250,\"autoFetch\":false,\"fr\":\"expIfr_exp\",\"supports\":{\"exp-ovr\":1,\"exp-push\":1},\"enable\":true,\"staticLayout\":true,\"fdb\":true,\"z\":9,\"clean\":\"defaultcleanLREC3-4\",\"dest\":\"defaultdestLREC3-4\",\"fallback\":null,\"metaSize\":false,\"meta\":{\"hostURL\":\"https://tw.news.yahoo.com/%E7%A2%BA%E8%A8%BA%E7%9B%B4%E8%BF%BD%E7%BE%A9%E5%A4%A7%E5%88%A9-%E8%A5%BF%E7%8F%AD%E7%89%9924%E5%B0%8F%E6%99%82%E6%9A%B4%E5%A2%9E2086%E4%BE%8B-022900167.html\"}},\"LREC3-5\":{\"id\":\"LREC3-5\",\"w\":300,\"h\":250,\"autoFetch\":false,\"fr\":\"expIfr_exp\",\"supports\":{\"exp-ovr\":1,\"exp-push\":1},\"enable\":true,\"staticLayout\":true,\"fdb\":true,\"z\":9,\"clean\":\"defaultcleanLREC3-5\",\"dest\":\"defaultdestLREC3-5\",\"fallback\":null,\"metaSize\":false,\"meta\":{\"hostURL\":\"https://tw.news.yahoo.com/%E7%A2%BA%E8%A8%BA%E7%9B%B4%E8%BF%BD%E7%BE%A9%E5%A4%A7%E5%88%A9-%E8%A5%BF%E7%8F%AD%E7%89%9924%E5%B0%8F%E6%99%82%E6%9A%B4%E5%A2%9E2086%E4%BE%8B-022900167.html\"}},\"LREC3-6\":{\"id\":\"LREC3-6\",\"w\":300,\"h\":250,\"autoFetch\":false,\"fr\":\"expIfr_exp\",\"supports\":{\"exp-ovr\":1,\"exp-push\":1},\"enable\":true,\"staticLayout\":true,\"fdb\":true,\"z\":9,\"clean\":\"defaultcleanLREC3-6\",\"dest\":\"defaultdestLREC3-6\",\"fallback\":null,\"metaSize\":false,\"meta\":{\"hostURL\":\"https://tw.news.yahoo.com/%E7%A2%BA%E8%A8%BA%E7%9B%B4%E8%BF%BD%E7%BE%A9%E5%A4%A7%E5%88%A9-%E8%A5%BF%E7%8F%AD%E7%89%9924%E5%B0%8F%E6%99%82%E6%9A%B4%E5%A2%9E2086%E4%BE%8B-022900167.html\"}},\"LREC3-7\":{\"id\":\"LREC3-7\",\"w\":300,\"h\":250,\"autoFetch\":false,\"fr\":\"expIfr_exp\",\"supports\":{\"exp-ovr\":1,\"exp-push\":1},\"enable\":true,\"staticLayout\":true,\"fdb\":true,\"z\":9,\"clean\":\"defaultcleanLREC3-7\",\"dest\":\"defaultdestLREC3-7\",\"fallback\":null,\"metaSize\":false,\"meta\":{\"hostURL\":\"https://tw.news.yahoo.com/%E7%A2%BA%E8%A8%BA%E7%9B%B4%E8%BF%BD%E7%BE%A9%E5%A4%A7%E5%88%A9-%E8%A5%BF%E7%8F%AD%E7%89%9924%E5%B0%8F%E6%99%82%E6%9A%B4%E5%A2%9E2086%E4%BE%8B-022900167.html\"}},\"LREC3-8\":{\"id\":\"LREC3-8\",\"w\":300,\"h\":250,\"autoFetch\":false,\"fr\":\"expIfr_exp\",\"supports\":{\"exp-ovr\":1,\"exp-push\":1},\"enable\":true,\"staticLayout\":true,\"fdb\":true,\"z\":9,\"clean\":\"defaultcleanLREC3-8\",\"dest\":\"defaultdestLREC3-8\",\"fallback\":null,\"metaSize\":false,\"meta\":{\"hostURL\":\"https://tw.news.yahoo.com/%E7%A2%BA%E8%A8%BA%E7%9B%B4%E8%BF%BD%E7%BE%A9%E5%A4%A7%E5%88%A9-%E8%A5%BF%E7%8F%AD%E7%89%9924%E5%B0%8F%E6%99%82%E6%9A%B4%E5%A2%9E2086%E4%BE%8B-022900167.html\"}},\"LREC3-9\":{\"id\":\"LREC3-9\",\"w\":300,\"h\":250,\"autoFetch\":false,\"fr\":\"expIfr_exp\",\"supports\":{\"exp-ovr\":1,\"exp-push\":1},\"enable\":true,\"staticLayout\":true,\"fdb\":true,\"z\":9,\"clean\":\"defaultcleanLREC3-9\",\"dest\":\"defaultdestLREC3-9\",\"fallback\":null,\"metaSize\":false,\"meta\":{\"hostURL\":\"https://tw.news.yahoo.com/%E7%A2%BA%E8%A8%BA%E7%9B%B4%E8%BF%BD%E7%BE%A9%E5%A4%A7%E5%88%A9-%E8%A5%BF%E7%8F%AD%E7%89%9924%E5%B0%8F%E6%99%82%E6%9A%B4%E5%A2%9E2086%E4%BE%8B-022900167.html\"}},\"LREC4\":{\"id\":\"LREC4\",\"w\":300,\"h\":250,\"autoFetch\":false,\"fr\":\"expIfr_exp\",\"supports\":{\"exp-ovr\":1,\"exp-push\":1},\"enable\":true,\"metaSize\":true,\"staticLayout\":true,\"fdb\":true,\"z\":9,\"clean\":\"defaultcleanLREC4\",\"dest\":\"defaultdestLREC4\",\"fallback\":null,\"meta\":{\"hostURL\":\"https://tw.news.yahoo.com/%E7%A2%BA%E8%A8%BA%E7%9B%B4%E8%BF%BD%E7%BE%A9%E5%A4%A7%E5%88%A9-%E8%A5%BF%E7%8F%AD%E7%89%9924%E5%B0%8F%E6%99%82%E6%9A%B4%E5%A2%9E2086%E4%BE%8B-022900167.html\"}},\"LDRB\":{\"id\":\"LDRB\",\"w\":728,\"h\":90,\"autoFetch\":false,\"fr\":\"expIfr_exp\",\"supports\":{\"exp-ovr\":1,\"exp-push\":1},\"enable\":true,\"staticLayout\":true,\"fdb\":true,\"clean\":\"defaultcleanLDRB\",\"dest\":\"defaultdestLDRB\",\"fallback\":null,\"metaSize\":false,\"meta\":{\"hostURL\":\"https://tw.news.yahoo.com/%E7%A2%BA%E8%A8%BA%E7%9B%B4%E8%BF%BD%E7%BE%A9%E5%A4%A7%E5%88%A9-%E8%A5%BF%E7%8F%AD%E7%89%9924%E5%B0%8F%E6%99%82%E6%9A%B4%E5%A2%9E2086%E4%BE%8B-022900167.html\"}},\"LDRB-1\":{\"id\":\"LDRB-1\",\"w\":728,\"h\":90,\"autoFetch\":false,\"fr\":\"expIfr_exp\",\"supports\":{\"exp-ovr\":1,\"exp-push\":1},\"enable\":true,\"staticLayout\":true,\"fdb\":true,\"clean\":\"defaultcleanLDRB-1\",\"dest\":\"defaultdestLDRB-1\",\"fallback\":null,\"metaSize\":false,\"meta\":{\"hostURL\":\"https://tw.news.yahoo.com/%E7%A2%BA%E8%A8%BA%E7%9B%B4%E8%BF%BD%E7%BE%A9%E5%A4%A7%E5%88%A9-%E8%A5%BF%E7%8F%AD%E7%89%9924%E5%B0%8F%E6%99%82%E6%9A%B4%E5%A2%9E2086%E4%BE%8B-022900167.html\"}},\"LDRB-9\":{\"id\":\"LDRB-9\",\"w\":728,\"h\":90,\"autoFetch\":false,\"fr\":\"expIfr_exp\",\"supports\":{\"exp-ovr\":1,\"exp-push\":1},\"enable\":true,\"staticLayout\":true,\"fdb\":true,\"clean\":\"defaultcleanLDRB-9\",\"dest\":\"defaultdestLDRB-9\",\"fallback\":null,\"metaSize\":false,\"meta\":{\"hostURL\":\"https://tw.news.yahoo.com/%E7%A2%BA%E8%A8%BA%E7%9B%B4%E8%BF%BD%E7%BE%A9%E5%A4%A7%E5%88%A9-%E8%A5%BF%E7%8F%AD%E7%89%9924%E5%B0%8F%E6%99%82%E6%9A%B4%E5%A2%9E2086%E4%BE%8B-022900167.html\"}},\"LDRB2-1\":{\"id\":\"LDRB2-1\",\"w\":728,\"h\":90,\"autoFetch\":false,\"fr\":\"expIfr_exp\",\"supports\":{\"exp-ovr\":1,\"exp-push\":1},\"enable\":true,\"staticLayout\":true,\"fdb\":true,\"clean\":\"defaultcleanLDRB2-1\",\"dest\":\"defaultdestLDRB2-1\",\"fallback\":null,\"metaSize\":false,\"meta\":{\"hostURL\":\"https://tw.news.yahoo.com/%E7%A2%BA%E8%A8%BA%E7%9B%B4%E8%BF%BD%E7%BE%A9%E5%A4%A7%E5%88%A9-%E8%A5%BF%E7%8F%AD%E7%89%9924%E5%B0%8F%E6%99%82%E6%9A%B4%E5%A2%9E2086%E4%BE%8B-022900167.html\"}},\"LDRB2-2\":{\"id\":\"LDRB2-2\",\"w\":728,\"h\":90,\"autoFetch\":false,\"fr\":\"expIfr_exp\",\"supports\":{\"exp-ovr\":1,\"exp-push\":1},\"enable\":true,\"staticLayout\":true,\"fdb\":true,\"clean\":\"defaultcleanLDRB2-2\",\"dest\":\"defaultdestLDRB2-2\",\"fallback\":null,\"metaSize\":false,\"meta\":{\"hostURL\":\"https://tw.news.yahoo.com/%E7%A2%BA%E8%A8%BA%E7%9B%B4%E8%BF%BD%E7%BE%A9%E5%A4%A7%E5%88%A9-%E8%A5%BF%E7%8F%AD%E7%89%9924%E5%B0%8F%E6%99%82%E6%9A%B4%E5%A2%9E2086%E4%BE%8B-022900167.html\"}},\"LDRP\":{\"id\":\"LDRP\",\"w\":320,\"h\":50,\"autoFetch\":false,\"fr\":\"expIfr_exp\",\"supports\":{\"exp-ovr\":1,\"exp-push\":1,\"lyr\":1},\"enable\":true,\"metaSize\":true,\"staticLayout\":true,\"fdb\":true,\"clean\":\"defaultcleanLDRP\",\"dest\":\"defaultdestLDRP\",\"fallback\":null,\"meta\":{\"hostURL\":\"https://tw.news.yahoo.com/%E7%A2%BA%E8%A8%BA%E7%9B%B4%E8%BF%BD%E7%BE%A9%E5%A4%A7%E5%88%A9-%E8%A5%BF%E7%8F%AD%E7%89%9924%E5%B0%8F%E6%99%82%E6%9A%B4%E5%A2%9E2086%E4%BE%8B-022900167.html\"}},\"MAST\":{\"id\":\"MAST\",\"w\":970,\"h\":250,\"autoFetch\":false,\"fr\":\"expIfr_exp\",\"supports\":{\"exp-ovr\":1,\"exp-push\":1,\"resize-to\":1},\"enable\":true,\"staticLayout\":false,\"fclose\":2,\"fdb\":{\"on\":1,\"where\":\"inside\"},\"closeBtn\":{\"adc\":0,\"mode\":2,\"useShow\":1},\"metaSize\":true,\"clean\":\"defaultcleanMAST\",\"dest\":\"defaultdestMAST\",\"fallback\":null,\"meta\":{\"hostURL\":\"https://tw.news.yahoo.com/%E7%A2%BA%E8%A8%BA%E7%9B%B4%E8%BF%BD%E7%BE%A9%E5%A4%A7%E5%88%A9-%E8%A5%BF%E7%8F%AD%E7%89%9924%E5%B0%8F%E6%99%82%E6%9A%B4%E5%A2%9E2086%E4%BE%8B-022900167.html\"}},\"MAST-9\":{\"id\":\"MAST-9\",\"w\":970,\"h\":250,\"autoFetch\":false,\"fr\":\"expIfr_exp\",\"supports\":{\"exp-ovr\":1,\"exp-push\":1,\"resize-to\":1},\"enable\":true,\"staticLayout\":false,\"fclose\":2,\"fdb\":{\"on\":1,\"where\":\"inside\"},\"closeBtn\":{\"adc\":0,\"mode\":2,\"useShow\":1},\"metaSize\":true,\"clean\":\"defaultcleanMAST-9\",\"dest\":\"defaultdestMAST-9\",\"fallback\":null,\"meta\":{\"hostURL\":\"https://tw.news.yahoo.com/%E7%A2%BA%E8%A8%BA%E7%9B%B4%E8%BF%BD%E7%BE%A9%E5%A4%A7%E5%88%A9-%E8%A5%BF%E7%8F%AD%E7%89%9924%E5%B0%8F%E6%99%82%E6%9A%B4%E5%A2%9E2086%E4%BE%8B-022900167.html\"}},\"MFPAD\":{\"id\":\"MFPAD\",\"w\":720,\"h\":90,\"autoFetch\":false,\"enable\":true,\"fr\":\"expIfr_exp\",\"supports\":{\"exp-ovr\":1,\"exp-push\":1},\"metaSize\":true,\"staticLayout\":false,\"fdb\":false,\"clean\":\"defaultcleanMFPAD\",\"dest\":\"defaultdestMFPAD\",\"fallback\":null,\"meta\":{\"hostURL\":\"https://tw.news.yahoo.com/%E7%A2%BA%E8%A8%BA%E7%9B%B4%E8%BF%BD%E7%BE%A9%E5%A4%A7%E5%88%A9-%E8%A5%BF%E7%8F%AD%E7%89%9924%E5%B0%8F%E6%99%82%E6%9A%B4%E5%A2%9E2086%E4%BE%8B-022900167.html\"}},\"MON\":{\"id\":\"MON\",\"w\":300,\"h\":600,\"dest\":\"defaultdestMON\",\"fr\":\"expIfr_exp\",\"autoFetch\":false,\"supports\":{\"resize-to\":1,\"exp-ovr\":1,\"exp-push\":1},\"enable\":true,\"staticLayout\":true,\"fdb\":true,\"z\":3,\"clean\":\"defaultcleanMON\",\"fallback\":null,\"metaSize\":false,\"meta\":{\"hostURL\":\"https://tw.news.yahoo.com/%E7%A2%BA%E8%A8%BA%E7%9B%B4%E8%BF%BD%E7%BE%A9%E5%A4%A7%E5%88%A9-%E8%A5%BF%E7%8F%AD%E7%89%9924%E5%B0%8F%E6%99%82%E6%9A%B4%E5%A2%9E2086%E4%BE%8B-022900167.html\"}},\"MON-1\":{\"id\":\"MON-1\",\"w\":300,\"h\":600,\"fr\":\"expIfr_exp\",\"autoFetch\":false,\"supports\":{\"resize-to\":1,\"exp-ovr\":1,\"exp-push\":1},\"enable\":true,\"staticLayout\":true,\"fdb\":true,\"z\":3,\"clean\":\"defaultcleanMON-1\",\"dest\":\"defaultdestMON-1\",\"fallback\":null,\"metaSize\":false,\"meta\":{\"hostURL\":\"https://tw.news.yahoo.com/%E7%A2%BA%E8%A8%BA%E7%9B%B4%E8%BF%BD%E7%BE%A9%E5%A4%A7%E5%88%A9-%E8%A5%BF%E7%8F%AD%E7%89%9924%E5%B0%8F%E6%99%82%E6%9A%B4%E5%A2%9E2086%E4%BE%8B-022900167.html\"}},\"MON2\":{\"id\":\"MON2\",\"w\":300,\"h\":600,\"fr\":\"expIfr_exp\",\"autoFetch\":false,\"supports\":{\"resize-to\":1,\"exp-ovr\":1,\"exp-push\":1},\"enable\":true,\"staticLayout\":true,\"fdb\":true,\"z\":3,\"clean\":\"defaultcleanMON2\",\"dest\":\"defaultdestMON2\",\"fallback\":null,\"metaSize\":false,\"meta\":{\"hostURL\":\"https://tw.news.yahoo.com/%E7%A2%BA%E8%A8%BA%E7%9B%B4%E8%BF%BD%E7%BE%A9%E5%A4%A7%E5%88%A9-%E8%A5%BF%E7%8F%AD%E7%89%9924%E5%B0%8F%E6%99%82%E6%9A%B4%E5%A2%9E2086%E4%BE%8B-022900167.html\"}},\"MON-9\":{\"id\":\"MON-9\",\"w\":300,\"h\":600,\"fr\":\"expIfr_exp\",\"autoFetch\":false,\"supports\":{\"resize-to\":1,\"exp-ovr\":1,\"exp-push\":1},\"enable\":true,\"staticLayout\":true,\"fdb\":true,\"z\":3,\"clean\":\"defaultcleanMON-9\",\"dest\":\"defaultdestMON-9\",\"fallback\":null,\"metaSize\":false,\"meta\":{\"hostURL\":\"https://tw.news.yahoo.com/%E7%A2%BA%E8%A8%BA%E7%9B%B4%E8%BF%BD%E7%BE%A9%E5%A4%A7%E5%88%A9-%E8%A5%BF%E7%8F%AD%E7%89%9924%E5%B0%8F%E6%99%82%E6%9A%B4%E5%A2%9E2086%E4%BE%8B-022900167.html\"}},\"MOMENTS\":{\"id\":\"MOMENTS\",\"w\":375,\"h\":667,\"flex\":{\"ratio\":\"1x1.78\",\"w\":{\"min\":320},\"h\":{\"min\":568}},\"fr\":\"expIfr_exp\",\"autoFetch\":false,\"supports\":{\"exp-ovr\":1,\"exp-push\":1,\"resize-to\":1},\"enable\":true,\"staticLayout\":true,\"fdb\":true,\"z\":3,\"clean\":\"defaultcleanMOMENTS\",\"dest\":\"defaultdestMOMENTS\",\"fallback\":null,\"metaSize\":false,\"meta\":{\"hostURL\":\"https://tw.news.yahoo.com/%E7%A2%BA%E8%A8%BA%E7%9B%B4%E8%BF%BD%E7%BE%A9%E5%A4%A7%E5%88%A9-%E8%A5%BF%E7%8F%AD%E7%89%9924%E5%B0%8F%E6%99%82%E6%9A%B4%E5%A2%9E2086%E4%BE%8B-022900167.html\"}},\"NE1\":{\"id\":\"NE1\",\"w\":970,\"h\":60,\"autoFetch\":false,\"fr\":\"expIfr_exp\",\"supports\":{\"exp-ovr\":1,\"exp-push\":1,\"lyr\":1,\"bg\":1},\"enable\":true,\"staticLayout\":true,\"metaSize\":true,\"z\":2000,\"clean\":\"defaultcleanNE1\",\"dest\":\"defaultdestNE1\",\"fallback\":null,\"meta\":{\"hostURL\":\"https://tw.news.yahoo.com/%E7%A2%BA%E8%A8%BA%E7%9B%B4%E8%BF%BD%E7%BE%A9%E5%A4%A7%E5%88%A9-%E8%A5%BF%E7%8F%AD%E7%89%9924%E5%B0%8F%E6%99%82%E6%9A%B4%E5%A2%9E2086%E4%BE%8B-022900167.html\"}},\"SCREC\":{\"id\":\"SCREC\",\"w\":300,\"h\":65,\"pos\":\"SCREC\",\"autoFetch\":false,\"enable\":true,\"staticLayout\":true,\"fdb\":true,\"z\":3,\"clean\":\"defaultcleanSCREC\",\"dest\":\"defaultdestSCREC\",\"fallback\":null,\"metaSize\":false,\"meta\":{\"hostURL\":\"https://tw.news.yahoo.com/%E7%A2%BA%E8%A8%BA%E7%9B%B4%E8%BF%BD%E7%BE%A9%E5%A4%A7%E5%88%A9-%E8%A5%BF%E7%8F%AD%E7%89%9924%E5%B0%8F%E6%99%82%E6%9A%B4%E5%A2%9E2086%E4%BE%8B-022900167.html\"}},\"SPL\":{\"id\":\"SPL\",\"flex\":\"both\",\"enable\":true,\"autoFetch\":false,\"staticLayout\":false,\"fclose\":2,\"fdb\":{\"on\":1,\"where\":\"inside\"},\"supports\":{\"cmsg\":1},\"uhslot\":\".YDC-UH\",\"meta\":{\"type\":\"stream\",\"hostURL\":\"https://tw.news.yahoo.com/%E7%A2%BA%E8%A8%BA%E7%9B%B4%E8%BF%BD%E7%BE%A9%E5%A4%A7%E5%88%A9-%E8%A5%BF%E7%8F%AD%E7%89%9924%E5%B0%8F%E6%99%82%E6%9A%B4%E5%A2%9E2086%E4%BE%8B-022900167.html\"},\"css\":\".Mags-FontA{font-family:'Helvetica Neue',Helvetica,Arial,sans-serif;font-weight:300}.Mags-FontA.Size1{font-size:13px}.Mags-FontA.Size2{font-size:16px}.Mags-FontA.Size3{font-size:20px}.Mags-FontA.Size4{font-size:22px}.Mags-FontA.Size5{font-size:33px}.Mags-FontA.Size6{font-size:35px}.Mags-FontA.Size7{font-size:58px}.Mags-FontA.Size8{font-size:70px}.Mags-FontA.Size9{font-size:100px}.Mags-FontB{font-family:Georgia,Times,serif;font-weight:400}.Mags-FontB.Size1{font-size:18px}.Mags-FontC{font-family:'Helvetica Neue',Helvetica,Arial,sans-serif;font-weight:400}.Mags-FontC.Size1{font-size:11px}.Mags-FontC.Size2{font-size:14px}.Mags-FontC.Size3{font-size:16px}.Mags-FontC.Size4{font-size:20px}.Mags-FontC.Size5{font-size:30px}.Mags-FontC.Size6{font-size:32px}.Mags-FontC.Size7{font-size:52px}\",\"clean\":\"defaultcleanSPL\",\"dest\":\"defaultdestSPL\",\"fallback\":null,\"metaSize\":false},\"SPL-2\":{\"id\":\"SPL-2\",\"flex\":\"both\",\"enable\":true,\"autoFetch\":false,\"staticLayout\":false,\"fclose\":2,\"fdb\":{\"on\":1,\"where\":\"inside\"},\"supports\":{\"cmsg\":1},\"uhslot\":\".YDC-UH\",\"meta\":{\"type\":\"stream\",\"hostURL\":\"https://tw.news.yahoo.com/%E7%A2%BA%E8%A8%BA%E7%9B%B4%E8%BF%BD%E7%BE%A9%E5%A4%A7%E5%88%A9-%E8%A5%BF%E7%8F%AD%E7%89%9924%E5%B0%8F%E6%99%82%E6%9A%B4%E5%A2%9E2086%E4%BE%8B-022900167.html\"},\"css\":\".Mags-FontA{font-family:'Helvetica Neue',Helvetica,Arial,sans-serif;font-weight:300}.Mags-FontA.Size1{font-size:13px}.Mags-FontA.Size2{font-size:16px}.Mags-FontA.Size3{font-size:20px}.Mags-FontA.Size4{font-size:22px}.Mags-FontA.Size5{font-size:33px}.Mags-FontA.Size6{font-size:35px}.Mags-FontA.Size7{font-size:58px}.Mags-FontA.Size8{font-size:70px}.Mags-FontA.Size9{font-size:100px}.Mags-FontB{font-family:Georgia,Times,serif;font-weight:400}.Mags-FontB.Size1{font-size:18px}.Mags-FontC{font-family:'Helvetica Neue',Helvetica,Arial,sans-serif;font-weight:400}.Mags-FontC.Size1{font-size:11px}.Mags-FontC.Size2{font-size:14px}.Mags-FontC.Size3{font-size:16px}.Mags-FontC.Size4{font-size:20px}.Mags-FontC.Size5{font-size:30px}.Mags-FontC.Size6{font-size:32px}.Mags-FontC.Size7{font-size:52px}\",\"clean\":\"defaultcleanSPL-2\",\"dest\":\"defaultdestSPL-2\",\"fallback\":null,\"metaSize\":false},\"SPL2\":{\"id\":\"SPL2\",\"autoFetch\":false,\"flex\":\"both\",\"enable\":true,\"staticLayout\":false,\"fclose\":2,\"fdb\":{\"on\":1,\"where\":\"inside\"},\"supports\":{\"cmsg\":1},\"uhslot\":\".YDC-UH\",\"meta\":{\"stack\":\"ydc\",\"type\":\"stream\",\"hostURL\":\"https://tw.news.yahoo.com/%E7%A2%BA%E8%A8%BA%E7%9B%B4%E8%BF%BD%E7%BE%A9%E5%A4%A7%E5%88%A9-%E8%A5%BF%E7%8F%AD%E7%89%9924%E5%B0%8F%E6%99%82%E6%9A%B4%E5%A2%9E2086%E4%BE%8B-022900167.html\"},\"css\":\".Mags-FontA{font-family:'Helvetica Neue',Helvetica,Arial,sans-serif;font-weight:300}.Mags-FontA.Size1{font-size:13px}.Mags-FontA.Size2{font-size:16px}.Mags-FontA.Size3{font-size:20px}.Mags-FontA.Size4{font-size:22px}.Mags-FontA.Size5{font-size:33px}.Mags-FontA.Size6{font-size:35px}.Mags-FontA.Size7{font-size:58px}.Mags-FontA.Size8{font-size:70px}.Mags-FontA.Size9{font-size:100px}.Mags-FontB{font-family:Georgia,Times,serif;font-weight:400}.Mags-FontB.Size1{font-size:18px}.Mags-FontC{font-family:'Helvetica Neue',Helvetica,Arial,sans-serif;font-weight:400}.Mags-FontC.Size1{font-size:11px}.Mags-FontC.Size2{font-size:14px}.Mags-FontC.Size3{font-size:16px}.Mags-FontC.Size4{font-size:20px}.Mags-FontC.Size5{font-size:30px}.Mags-FontC.Size6{font-size:32px}.Mags-FontC.Size7{font-size:52px}\",\"clean\":\"defaultcleanSPL2\",\"dest\":\"defaultdestSPL2\",\"fallback\":null,\"metaSize\":false},\"SPRZ\":{\"id\":\"SPRZ\",\"autoFetch\":false,\"flex\":\"both\",\"enable\":true,\"staticLayout\":false,\"fdb\":false,\"supports\":{\"cmsg\":1},\"uhslot\":\".YDC-UH\",\"clean\":\"defaultcleanSPRZ\",\"dest\":\"defaultdestSPRZ\",\"fallback\":null,\"metaSize\":false,\"meta\":{\"hostURL\":\"https://tw.news.yahoo.com/%E7%A2%BA%E8%A8%BA%E7%9B%B4%E8%BF%BD%E7%BE%A9%E5%A4%A7%E5%88%A9-%E8%A5%BF%E7%8F%AD%E7%89%9924%E5%B0%8F%E6%99%82%E6%9A%B4%E5%A2%9E2086%E4%BE%8B-022900167.html\"}},\"SPON\":{\"pos\":\"SPON\",\"h\":1,\"id\":\"SPON\",\"w\":1,\"autoFetch\":false,\"clean\":\"defaultcleanSPON\",\"dest\":\"defaultdestSPON\",\"enable\":true,\"fallback\":null,\"metaSize\":false,\"staticLayout\":false,\"meta\":{\"hostURL\":\"https://tw.news.yahoo.com/%E7%A2%BA%E8%A8%BA%E7%9B%B4%E8%BF%BD%E7%BE%A9%E5%A4%A7%E5%88%A9-%E8%A5%BF%E7%8F%AD%E7%89%9924%E5%B0%8F%E6%99%82%E6%9A%B4%E5%A2%9E2086%E4%BE%8B-022900167.html\"}},\"TXTL\":{\"id\":\"TXTL\",\"w\":120,\"h\":170,\"css\":\"#fc_align a,#tl1_slug{font-family:'Helvetica Neue',Helvetica,Arial,sans-serif;font-size:11px}.ad-tl2b{overflow:hidden;text-align:left}p{margin:0}a{color:#020e65}a:hover{color:#0078ff}.y-fp-pg-controls{margin-top:5px;margin-bottom:5px}#tl1_slug{color:#999}a:link{text-decoration:none}\",\"autoFetch\":false,\"clean\":\"defaultcleanTXTL\",\"dest\":\"defaultdestTXTL\",\"enable\":true,\"fallback\":null,\"metaSize\":false,\"staticLayout\":false,\"meta\":{\"hostURL\":\"https://tw.news.yahoo.com/%E7%A2%BA%E8%A8%BA%E7%9B%B4%E8%BF%BD%E7%BE%A9%E5%A4%A7%E5%88%A9-%E8%A5%BF%E7%8F%AD%E7%89%9924%E5%B0%8F%E6%99%82%E6%9A%B4%E5%A2%9E2086%E4%BE%8B-022900167.html\"}},\"WFPAD\":{\"id\":\"WFPAD\",\"w\":320,\"h\":50,\"autoFetch\":false,\"enable\":true,\"fr\":\"expIfr_exp\",\"supports\":{\"exp-ovr\":1,\"exp-push\":1,\"lyr\":1,\"resize-to\":1},\"metaSize\":true,\"staticLayout\":false,\"fdb\":false,\"clean\":\"defaultcleanWFPAD\",\"dest\":\"defaultdestWFPAD\",\"fallback\":null,\"meta\":{\"hostURL\":\"https://tw.news.yahoo.com/%E7%A2%BA%E8%A8%BA%E7%9B%B4%E8%BF%BD%E7%BE%A9%E5%A4%A7%E5%88%A9-%E8%A5%BF%E7%8F%AD%E7%89%9924%E5%B0%8F%E6%99%82%E6%9A%B4%E5%A2%9E2086%E4%BE%8B-022900167.html\"}},\"UBALDRB\":{\"id\":\"UBALDRB\",\"w\":728,\"h\":90,\"autoFetch\":false,\"fr\":\"expIfr_exp\",\"supports\":{\"exp-ovr\":1,\"exp-push\":1},\"enable\":true,\"staticLayout\":true,\"fdb\":true,\"clean\":\"defaultcleanUBALDRB\",\"dest\":\"defaultdestUBALDRB\",\"fallback\":null,\"metaSize\":false,\"meta\":{\"hostURL\":\"https://tw.news.yahoo.com/%E7%A2%BA%E8%A8%BA%E7%9B%B4%E8%BF%BD%E7%BE%A9%E5%A4%A7%E5%88%A9-%E8%A5%BF%E7%8F%AD%E7%89%9924%E5%B0%8F%E6%99%82%E6%9A%B4%E5%A2%9E2086%E4%BE%8B-022900167.html\"}},\"UBALDRB-9\":{\"id\":\"UBALDRB-9\",\"w\":728,\"h\":90,\"autoFetch\":false,\"fr\":\"expIfr_exp\",\"supports\":{\"exp-ovr\":1,\"exp-push\":1},\"enable\":true,\"staticLayout\":true,\"fdb\":true,\"clean\":\"defaultcleanUBALDRB-9\",\"dest\":\"defaultdestUBALDRB-9\",\"fallback\":null,\"metaSize\":false,\"meta\":{\"hostURL\":\"https://tw.news.yahoo.com/%E7%A2%BA%E8%A8%BA%E7%9B%B4%E8%BF%BD%E7%BE%A9%E5%A4%A7%E5%88%A9-%E8%A5%BF%E7%8F%AD%E7%89%9924%E5%B0%8F%E6%99%82%E6%9A%B4%E5%A2%9E2086%E4%BE%8B-022900167.html\"}},\"UBALDRB2-1\":{\"id\":\"UBALDRB2-1\",\"w\":728,\"h\":90,\"autoFetch\":false,\"fr\":\"expIfr_exp\",\"supports\":{\"exp-ovr\":1,\"exp-push\":1},\"enable\":true,\"staticLayout\":true,\"fdb\":true,\"clean\":\"defaultcleanUBALDRB2-1\",\"dest\":\"defaultdestUBALDRB2-1\",\"fallback\":null,\"metaSize\":false,\"meta\":{\"hostURL\":\"https://tw.news.yahoo.com/%E7%A2%BA%E8%A8%BA%E7%9B%B4%E8%BF%BD%E7%BE%A9%E5%A4%A7%E5%88%A9-%E8%A5%BF%E7%8F%AD%E7%89%9924%E5%B0%8F%E6%99%82%E6%9A%B4%E5%A2%9E2086%E4%BE%8B-022900167.html\"}},\"UBALDRB2-2\":{\"id\":\"UBALDRB2-2\",\"w\":728,\"h\":90,\"autoFetch\":false,\"fr\":\"expIfr_exp\",\"supports\":{\"exp-ovr\":1,\"exp-push\":1},\"enable\":true,\"staticLayout\":true,\"fdb\":true,\"clean\":\"defaultcleanUBALDRB2-2\",\"dest\":\"defaultdestUBALDRB2-2\",\"fallback\":null,\"metaSize\":false,\"meta\":{\"hostURL\":\"https://tw.news.yahoo.com/%E7%A2%BA%E8%A8%BA%E7%9B%B4%E8%BF%BD%E7%BE%A9%E5%A4%A7%E5%88%A9-%E8%A5%BF%E7%8F%AD%E7%89%9924%E5%B0%8F%E6%99%82%E6%9A%B4%E5%A2%9E2086%E4%BE%8B-022900167.html\"}},\"UBALREC\":{\"id\":\"UBALREC\",\"w\":300,\"h\":250,\"fr\":\"expIfr_exp\",\"autoFetch\":false,\"supports\":{\"exp-ovr\":1,\"exp-push\":1},\"enable\":true,\"staticLayout\":true,\"fdb\":true,\"z\":3,\"clean\":\"defaultcleanUBALREC\",\"dest\":\"defaultdestUBALREC\",\"fallback\":null,\"metaSize\":false,\"meta\":{\"hostURL\":\"https://tw.news.yahoo.com/%E7%A2%BA%E8%A8%BA%E7%9B%B4%E8%BF%BD%E7%BE%A9%E5%A4%A7%E5%88%A9-%E8%A5%BF%E7%8F%AD%E7%89%9924%E5%B0%8F%E6%99%82%E6%9A%B4%E5%A2%9E2086%E4%BE%8B-022900167.html\"}},\"UBALREC-1\":{\"id\":\"UBALREC-1\",\"w\":300,\"h\":250,\"fr\":\"expIfr_exp\",\"autoFetch\":false,\"supports\":{\"exp-ovr\":1,\"exp-push\":1},\"enable\":true,\"staticLayout\":true,\"fdb\":true,\"z\":3,\"clean\":\"defaultcleanUBALREC-1\",\"dest\":\"defaultdestUBALREC-1\",\"fallback\":null,\"metaSize\":false,\"meta\":{\"hostURL\":\"https://tw.news.yahoo.com/%E7%A2%BA%E8%A8%BA%E7%9B%B4%E8%BF%BD%E7%BE%A9%E5%A4%A7%E5%88%A9-%E8%A5%BF%E7%8F%AD%E7%89%9924%E5%B0%8F%E6%99%82%E6%9A%B4%E5%A2%9E2086%E4%BE%8B-022900167.html\"}},\"UBALREC-9\":{\"id\":\"UBALREC-9\",\"w\":300,\"h\":250,\"fr\":\"expIfr_exp\",\"autoFetch\":false,\"supports\":{\"exp-ovr\":1,\"exp-push\":1},\"enable\":true,\"staticLayout\":true,\"fdb\":true,\"z\":3,\"clean\":\"defaultcleanUBALREC-9\",\"dest\":\"defaultdestUBALREC-9\",\"fallback\":null,\"metaSize\":false,\"meta\":{\"hostURL\":\"https://tw.news.yahoo.com/%E7%A2%BA%E8%A8%BA%E7%9B%B4%E8%BF%BD%E7%BE%A9%E5%A4%A7%E5%88%A9-%E8%A5%BF%E7%8F%AD%E7%89%9924%E5%B0%8F%E6%99%82%E6%9A%B4%E5%A2%9E2086%E4%BE%8B-022900167.html\"}},\"UBALREC2-9\":{\"id\":\"UBALREC2-9\",\"w\":300,\"h\":250,\"autoFetch\":false,\"fr\":\"expIfr_exp\",\"supports\":{\"exp-ovr\":1,\"exp-push\":1},\"enable\":true,\"staticLayout\":true,\"fdb\":true,\"z\":9,\"clean\":\"defaultcleanUBALREC2-9\",\"dest\":\"defaultdestUBALREC2-9\",\"fallback\":null,\"metaSize\":false,\"meta\":{\"hostURL\":\"https://tw.news.yahoo.com/%E7%A2%BA%E8%A8%BA%E7%9B%B4%E8%BF%BD%E7%BE%A9%E5%A4%A7%E5%88%A9-%E8%A5%BF%E7%8F%AD%E7%89%9924%E5%B0%8F%E6%99%82%E6%9A%B4%E5%A2%9E2086%E4%BE%8B-022900167.html\"}},\"UBALREC2\":{\"id\":\"UBALREC2\",\"w\":300,\"h\":250,\"autoFetch\":false,\"fr\":\"expIfr_exp\",\"supports\":{\"exp-ovr\":1,\"exp-push\":1},\"enable\":true,\"staticLayout\":true,\"fdb\":true,\"z\":9,\"clean\":\"defaultcleanUBALREC2\",\"dest\":\"defaultdestUBALREC2\",\"fallback\":null,\"metaSize\":false,\"meta\":{\"hostURL\":\"https://tw.news.yahoo.com/%E7%A2%BA%E8%A8%BA%E7%9B%B4%E8%BF%BD%E7%BE%A9%E5%A4%A7%E5%88%A9-%E8%A5%BF%E7%8F%AD%E7%89%9924%E5%B0%8F%E6%99%82%E6%9A%B4%E5%A2%9E2086%E4%BE%8B-022900167.html\"}},\"UBALREC3\":{\"id\":\"UBALREC3\",\"w\":300,\"h\":250,\"autoFetch\":false,\"fr\":\"expIfr_exp\",\"supports\":{\"exp-ovr\":1,\"exp-push\":1},\"enable\":true,\"staticLayout\":true,\"fdb\":true,\"z\":9,\"clean\":\"defaultcleanUBALREC3\",\"dest\":\"defaultdestUBALREC3\",\"fallback\":null,\"metaSize\":false,\"meta\":{\"hostURL\":\"https://tw.news.yahoo.com/%E7%A2%BA%E8%A8%BA%E7%9B%B4%E8%BF%BD%E7%BE%A9%E5%A4%A7%E5%88%A9-%E8%A5%BF%E7%8F%AD%E7%89%9924%E5%B0%8F%E6%99%82%E6%9A%B4%E5%A2%9E2086%E4%BE%8B-022900167.html\"}},\"UBALREC3-9\":{\"id\":\"UBALREC3-9\",\"w\":300,\"h\":250,\"autoFetch\":false,\"fr\":\"expIfr_exp\",\"supports\":{\"exp-ovr\":1,\"exp-push\":1},\"enable\":true,\"staticLayout\":true,\"fdb\":true,\"z\":9,\"clean\":\"defaultcleanUBALREC3-9\",\"dest\":\"defaultdestUBALREC3-9\",\"fallback\":null,\"metaSize\":false,\"meta\":{\"hostURL\":\"https://tw.news.yahoo.com/%E7%A2%BA%E8%A8%BA%E7%9B%B4%E8%BF%BD%E7%BE%A9%E5%A4%A7%E5%88%A9-%E8%A5%BF%E7%8F%AD%E7%89%9924%E5%B0%8F%E6%99%82%E6%9A%B4%E5%A2%9E2086%E4%BE%8B-022900167.html\"}},\"UBALREC4\":{\"id\":\"UBALREC4\",\"w\":300,\"h\":250,\"autoFetch\":false,\"fr\":\"expIfr_exp\",\"supports\":{\"exp-ovr\":1,\"exp-push\":1},\"enable\":true,\"staticLayout\":true,\"fdb\":true,\"z\":9,\"clean\":\"defaultcleanUBALREC4\",\"dest\":\"defaultdestUBALREC4\",\"fallback\":null,\"metaSize\":false,\"meta\":{\"hostURL\":\"https://tw.news.yahoo.com/%E7%A2%BA%E8%A8%BA%E7%9B%B4%E8%BF%BD%E7%BE%A9%E5%A4%A7%E5%88%A9-%E8%A5%BF%E7%8F%AD%E7%89%9924%E5%B0%8F%E6%99%82%E6%9A%B4%E5%A2%9E2086%E4%BE%8B-022900167.html\"}},\"AS6\":{\"id\":\"AS6\",\"w\":850,\"h\":173,\"autoFetch\":false,\"fr\":\"expIfr_exp\",\"supports\":{\"exp-ovr\":1,\"exp-push\":1},\"enable\":true,\"staticLayout\":false,\"metaSize\":false,\"z\":9,\"clean\":\"defaultcleanAS6\",\"dest\":\"defaultdestAS6\",\"fallback\":null,\"meta\":{\"hostURL\":\"https://tw.news.yahoo.com/%E7%A2%BA%E8%A8%BA%E7%9B%B4%E8%BF%BD%E7%BE%A9%E5%A4%A7%E5%88%A9-%E8%A5%BF%E7%8F%AD%E7%89%9924%E5%B0%8F%E6%99%82%E6%9A%B4%E5%A2%9E2086%E4%BE%8B-022900167.html\"}},\"WIDGET\":{\"id\":\"WIDGET\",\"clean\":\"defaultcleanWIDGET\",\"dest\":\"defaultdestWIDGET\",\"metaSize\":false,\"w\":600,\"h\":635,\"flex\":{\"w\":{\"min\":600,\"max\":800}},\"enable\":true,\"fallback\":null,\"staticLayout\":false,\"meta\":{\"hostURL\":\"https://tw.news.yahoo.com/%E7%A2%BA%E8%A8%BA%E7%9B%B4%E8%BF%BD%E7%BE%A9%E5%A4%A7%E5%88%A9-%E8%A5%BF%E7%8F%AD%E7%89%9924%E5%B0%8F%E6%99%82%E6%9A%B4%E5%A2%9E2086%E4%BE%8B-022900167.html\"}}},\"rotationTimingDisabled\":false,\"contentTypeAdPosModifier\":{\"slideshow\":[\"LREC-1\"],\"inlineSlideshow\":[]},\"lang\":\"zh-Hant-TW\",\"auto_render\":true}\n",
      "window.DARLA_CONFIG.servicePath = window.location.protocol + \"//fc.yahoo.com/sdarla/php/fc.php\";window.DARLA_CONFIG.dm = 1;window.DARLA_CONFIG.onStartRequest = function() {window._perfMark('DARLA_REQSTART');};\n",
      "window.DARLA_CONFIG.onFinishRequest = function() {window._perfMark('DARLA_REQEND');};\n",
      "window.DARLA_CONFIG.onStartParse = function() {window._perfMark('DARLA_PSTART');};\n",
      "window.DARLA_CONFIG.onSuccess = function(eventName) {if (eventName === 'AUTO') {return;}if (window._DarlaEvents) {window._DarlaEvents.emit(\"success\", {eventName: eventName});}window._perfMark('DARLA_DONE_' + eventName);window._darlaSuccessEvt = eventName;if (window._loadEvt) {window._fireAdPerfBeacon(eventName);}};\n",
      "window.DARLA_CONFIG.onStartPosRender = function(posItem) {var posId = posItem && posItem.pos;window._perfMark('DARLA_ADSTART_' + posId);if (window._pushAdPerfMetric) {window._pushAdPerfMetric(\"DARLA_ADSTART_\" + posId);}};\n",
      "window.DARLA_CONFIG.onFinishPosRender = function(posId, reqList, posItem) {var ltime;window._perfMark('DARLA_ADEND_' + posId);window._perfMeasure('DARLA_RENDERTIME_' + posId, 'DARLA_ADSTART_'+posId, 'DARLA_ADEND_'+posId);if(window._DarlaEvents) {window._DarlaEvents.emit(\"finishrender\", {pos:posId, list:reqList, item:posItem});}var aboveFoldPositions = [\"MAST\",\"LDRB\",\"SPRZ\",\"SPL\",\"SPL-2\",\"LREC\",\"MON-1\"];if (window._pushAdPerfMetric) {if (window.performance && window.performance.now) {ltime = window.performance.now();}window._pushAdPerfMetric(\"ADEND_\"+posId);var adModDiv = posItem.conf.dest.replace(\"dest\", \"\") + \"-sizer\";setTimeout(function () {if (window.performance && window.YAFT !== undefined &&window.YAFT.isInitialized() && -1 !== aboveFoldPositions.indexOf(posId)) {window.YAFT.triggerCustomTiming(adModDiv, \"\", ltime);}}, 300);}};\n",
      "window.DARLA_CONFIG.onBeforePosMsg = function(msg, posId) {var maxWidth = 970, maxHeight = 600;var newWidth, newHeight, pos;if (\"MAST\" !== posId) {return;}if (msg === \"resize-to\") {newWidth = arguments[2];newHeight = arguments[3];} else if (msg === \"exp-push\" || msg === \"exp-ovr\") {pos = $sf.host.get(\"MAST\");newWidth = pos.conf.w + arguments[6] + arguments[7];newHeight = pos.conf.h + arguments[5] + arguments[8];}if (newWidth > maxWidth || newHeight > maxHeight) {return true;}};\n",
      "window.DARLA_CONFIG.onFinishParse = function(eventName, response) {try {window._perfMark('DARLA_PEND');if (eventName === \"prefetch\") {setTimeout(function() {if (DARLA.prefetched()) {DARLA.render();}else {DARLA.event(\"adFetch\", {\"ps\":\"LREC,LREC2\",\"sp\":\"958812180\",\"sa\":\"wiki_topics=\\\"意大利;西班牙;世界卫生组织;西班牙銀行\\\" megamodal=true rs=\\\"lmsid:a0V0W00000HObw4UAD;revsp:ebc.net.tw;lpstaid:01490841-22c9-30c8-84c9-216bcff32bd5;pct:story;pt:content;site:news;ver:y20;pd:non_modal\\\" Y-BUCKET=\\\"news-TW-zh-Hant-TW-def\\\"\"});}}, 10);}if (window._DarlaEvents) {window._DarlaEvents.emit(\"finishparse\", {response: response,eventName: eventName});}} catch (e) {console.error(e);throw e;}if (eventName === \"AUTO\") {var adPositionList = response.ps();var groupAdsList = [];for (var i = 0; i < groupAdsList.length; i++) {if (adPositionList.indexOf(groupAdsList[i]) >= 0) {var adPosItem = response.item(groupAdsList[i]);if (!adPosItem.hasErr && adPosItem.size + \"\" !== \"1x1\" && (adPosItem.meta && adPosItem.meta.y && adPosItem.meta.y.size && adPosItem.meta.y.size + \"\" !== \"1x1\")) {var adNode = document.getElementById(\"default\" + groupAdsList[i] + \"-sizer\");if (adNode && adNode.classList) {adNode.classList.remove(\"D(n)\");adNode.classList.remove(\"D-n\");}}}}}\n",
      "};\n",
      "window.DARLA_CONFIG.onStartPrefetchRequest = function(eventName) {window._perfMark('DARLA_PFSTART');};\n",
      "window.DARLA_CONFIG.onFinishPrefetchRequest = function(eventName, status) {window._perfMark('DARLA_PFEND');try {window._DarlaEvents.emit('finishprefetch', {status: status,eventName: eventName});} catch (e) {console.error(e);throw e;}\n",
      "};\n",
      "window.DARLA_CONFIG.onPosMsg = function(cmd, pos, msg) {try {if (window._DarlaEvents && cmd === \"cmsg\") {var posmsg = {pos: pos,msg: msg};window._DarlaEvents.emit(\"splashmsg\", posmsg);if (window._adPosMsg) {window._adPosMsg[window._adPosMsg.length] = posmsg;}}if (window._DarlaEvents && (cmd === \"ui-fclose-show\" || cmd === \"ui-fclose-close\")) {setTimeout(function _emitAdResize(){window._DarlaEvents.emit(\"adresize\", {pos: pos})}, 0);}} catch (e) {console.error(e);throw e;}\n",
      "};\n",
      "(function () {var _onloadEvt = function _onloadEvtHandler() {window._loadEvt = true;if (window._darlaSuccessEvt) {window._fireAdPerfBeacon(window._darlaSuccessEvt);}};if (window.addEventListener) {window.addEventListener(\"load\", _onloadEvt);} else if (window.attachEvent) {window.attachEvent(\"onload\", _onloadEvt);}function _onDarlaError (type) {return function _darlaErrHandler(evName) {try {if (window._DarlaEvents) {window._DarlaEvents.emit(\"darlaerror\" + evName);window._DarlaEvents.emit(\"darlaerror\", {type: type,eventName: evName,error: true});}} catch (e) {console.error(e);throw e;}};};window.DARLA_CONFIG.onRequestTimeout = _onDarlaError(\"requestTimeout\");window.DARLA_CONFIG.onRenderTimeout = _onDarlaError(\"renderTimeout\");window.DARLA_CONFIG.onFailure = _onDarlaError(\"failure\");window.DARLA_CONFIG.onIdle = function onDarlaIdle () {    try {        window._DarlaEvents && window._DarlaEvents.emit(\"onIdle\");    } catch (e) {        console.error(e);        throw e;    }};})();\n",
      "window.$sf = window.sf = {};\n",
      "window.$sf.host = {onReady: function (autorender, deferrender, firstRenderPos, deferRenderDelay) {window._perfMark('DARLA_ONREADY');window._perfMeasure('DARLA_ONREADY');window.sfready = true;if (window._DarlaEvents && !autorender) {window._DarlaEvents.emit(\"darlaboot\");} else if (autorender){window._perfMark('DARLA_RSTART');if (typeof DARLA !== \"undefined\" && DARLA) {if (deferrender && firstRenderPos) {var firstBatchPos = [];var prefetchedPos = DARLA.prefetched();if (prefetchedPos.length <= 0) {return;}var firstRender = firstRenderPos.split(',');if (firstRender && firstRender.length > 0) {for (var i = 0; i < firstRender.length; i++) {var position = firstRender[i];var index = prefetchedPos.indexOf(position);if (index >= 0) {firstBatchPos = firstBatchPos.concat(prefetchedPos.splice(index, 1));}};}if (firstBatchPos.length > 0) {var renderWithRetry = function(pos) {if (DARLA.inProgress()) {var waittime = 600, maxwait = 100, deferRetry = 0, interval;interval = setInterval(function() {deferRetry ++;if (!DARLA.inProgress()){clearInterval(interval);DARLA.render(pos);}if (deferRetry > maxwait){clearInterval(interval);}}, waittime);} else {DARLA.render(pos);}};renderWithRetry(firstBatchPos);setTimeout(renderWithRetry, deferRenderDelay, prefetchedPos);} else {DARLA.render();}} else {DARLA.render();}}}}\n",
      "};\n",
      "window.sf_host = window.$sf.host;\n",
      "document.onreadystatechange = function () {if (document.readyState == \"interactive\") {window._perfMark('DOM_INTERACTIVE');}};(function() {var handleBackfill = function(ev) {if (ev.data) {var c2Event;try {c2Event = typeof ev.data === \"string\" ? JSON.parse(ev.data) || null : ev.data;} catch (e) {}if (c2Event && c2Event.msg) {if ((c2Event.msg === \"rmx:no-ad\" || c2Event.msg === \"sidekicktv:no-ad\") &&c2Event.ad !== \"\") {var lrecPositions = [\"LREC\"];for (var i in lrecPositions) {if (lrecPositions.hasOwnProperty(i)) {var adDiv = document.getElementById(\"default\" + lrecPositions[i] + \"-sizer\");if (adDiv) {adDiv.style.display = \"none\";}}}}}}};if (window.attachEvent) {window.attachEvent(\"onmessage\", handleBackfill);} else if (window.addEventListener) {window.addEventListener(\"message\", handleBackfill);}})();</script>\n",
      "<script type=\"text/x-safeframe\" id=\"fc\" _ver=\"3-24-0\">{\"positions\":[{\"id\":\"LREC\",\"html\":\"<!-- SpaceID=0 robot -->\\n\",\"lowHTML\":\"\",\"meta\":{\"y\":{\"pos\":\"LREC\",\"cscHTML\":false,\"cscURI\":\"\",\"behavior\":\"non_exp\",\"adID\":\"#19\",\"matchID\":\"#19\",\"bookID\":false,\"slotID\":false,\"serveType\":false,\"ttl\":-1,\"err\":\"robot\",\"hasExternal\":false,\"supp_ugc\":false,\"placementID\":-1,\"fdb\":null,\"serveTime\":-1,\"impID\":\"\",\"creativeID\":-1,\"adc\":\"{\\\"label\\\":\\\"AdChoices\\\",\\\"url\\\":\\\"https:\\\\\\/\\\\\\/info.yahoo.com\\\\\\/privacy\\\\\\/tw\\\\\\/yahoo\\\\\\/relevantads.html?soc_src=mail&soc_trk=ma\\\",\\\"close\\\":\\\"\\\\u95dc\\\\u9589\\\",\\\"closeAd\\\":\\\"\\\\u95dc\\\\u9589\\\\u5ee3\\\\u544a\\\",\\\"collapse\\\":\\\"\\\\u6536\\\\u8d77\\\",\\\"fdb\\\":\\\"\\\\u6211\\\\u4e0d\\\\u559c\\\\u6b61\\\\u9019\\\\u500b\\\\u5ee3\\\\u544a\\\",\\\"showAd\\\":\\\"\\\\u5c55\\\\u958b\\\\u5ee3\\\\u544a\\\",\\\"code\\\":\\\"zh-hant-tw\\\"}\",\"is3rd\":1,\"facStatus\":{},\"userProvidedData\":{},\"facRotation\":{},\"slotData\":{}}}},{\"id\":\"LREC2\",\"html\":\"<!-- SpaceID=0 robot -->\\n\",\"lowHTML\":\"\",\"meta\":{\"y\":{\"pos\":\"LREC2\",\"cscHTML\":false,\"cscURI\":\"\",\"behavior\":\"non_exp\",\"adID\":\"#19\",\"matchID\":\"#19\",\"bookID\":false,\"slotID\":false,\"serveType\":false,\"ttl\":-1,\"err\":\"robot\",\"hasExternal\":false,\"supp_ugc\":false,\"placementID\":-1,\"fdb\":null,\"serveTime\":-1,\"impID\":\"\",\"creativeID\":-1,\"adc\":\"{\\\"label\\\":\\\"AdChoices\\\",\\\"url\\\":\\\"https:\\\\\\/\\\\\\/info.yahoo.com\\\\\\/privacy\\\\\\/tw\\\\\\/yahoo\\\\\\/relevantads.html?soc_src=mail&soc_trk=ma\\\",\\\"close\\\":\\\"\\\\u95dc\\\\u9589\\\",\\\"closeAd\\\":\\\"\\\\u95dc\\\\u9589\\\\u5ee3\\\\u544a\\\",\\\"collapse\\\":\\\"\\\\u6536\\\\u8d77\\\",\\\"fdb\\\":\\\"\\\\u6211\\\\u4e0d\\\\u559c\\\\u6b61\\\\u9019\\\\u500b\\\\u5ee3\\\\u544a\\\",\\\"showAd\\\":\\\"\\\\u5c55\\\\u958b\\\\u5ee3\\\\u544a\\\",\\\"code\\\":\\\"zh-hant-tw\\\"}\",\"is3rd\":1,\"facStatus\":{},\"userProvidedData\":{},\"facRotation\":{},\"slotData\":{}}}}],\"conf\":{\"useYAC\":0,\"usePE\":1,\"servicePath\":\"\",\"xservicePath\":\"\",\"beaconPath\":\"\",\"renderPath\":\"\",\"allowFiF\":false,\"srenderPath\":\"https:\\/\\/s.yimg.com\\/rq\\/darla\\/3-24-0\\/html\\/r-sf.html\",\"renderFile\":\"https:\\/\\/s.yimg.com\\/rq\\/darla\\/3-24-0\\/html\\/r-sf.html\",\"sfbrenderPath\":\"https:\\/\\/s.yimg.com\\/rq\\/darla\\/3-24-0\\/html\\/r-sf.html\",\"msgPath\":\"https:\\/\\/fc.yahoo.com\\/unsupported-1946.html\",\"cscPath\":\"https:\\/\\/s.yimg.com\\/rq\\/darla\\/3-24-0\\/html\\/r-csc.html\",\"root\":\"sdarla\",\"edgeRoot\":\"https:\\/\\/s.yimg.com\\/rq\\/darla\\/3-24-0\",\"sedgeRoot\":\"https:\\/\\/s.yimg.com\\/rq\\/darla\\/3-24-0\",\"version\":\"3-24-0\",\"tpbURI\":\"\",\"hostFile\":\"https:\\/\\/s.yimg.com\\/rq\\/darla\\/3-24-0\\/js\\/g-r-min.js\",\"property\":\"news_zh-Hant-TW\",\"fdb_locale\":\"\\u60a8\\u70ba\\u4ec0\\u9ebc\\u4e0d\\u559c\\u6b61\\u9019\\u5247\\u5ee3\\u544a\\uff1f|\\u5ee3\\u544a\\u5167\\u5bb9\\u4ee4\\u4eba\\u53cd\\u611f|\\u5176\\u4ed6|\\u611f\\u8b1d\\u60a8\\u5354\\u52a9\\u6211\\u5011\\u6539\\u5584\\u60a8\\u7684 Yahoo\\u5947\\u6469\\u9ad4\\u9a57|\\u5ee3\\u544a\\u5167\\u5bb9\\u8207\\u6211\\u6c92\\u4ec0\\u9ebc\\u95dc\\u806f|\\u4f7f\\u4eba\\u5206\\u5fc3|\\u6211\\u4e0d\\u559c\\u6b61\\u9019\\u652f\\u5ee3\\u544a|\\u9001\\u51fa|\\u5b8c\\u6210|\\u70ba\\u4ec0\\u9ebc\\u6211\\u6703\\u770b\\u898b\\u5ee3\\u544a\\uff1f|\\u9032\\u4e00\\u6b65\\u4e86\\u89e3\\u60a8\\u7684\\u610f\\u898b\\u3002|\\u60f3\\u8981\\u4f7f\\u7528\\u7121\\u5ee3\\u544a\\u6536\\u4ef6\\u5323\\u55ce\\uff1f\\u5feb\\u4f86\\u5347\\u7d1a Yahoo Mail Pro\\uff01|\\u7acb\\u5373\\u5347\\u7d1a\",\"positions\":{\"LREC\":{\"dest\":\"destLREC\",\"asz\":\"300x250\",\"id\":\"LREC\",\"w\":\"300\",\"h\":\"250\"},\"LREC2\":{\"dest\":\"destLREC2\",\"asz\":\"300x250\",\"id\":\"LREC2\",\"w\":\"300\",\"h\":\"250\"}},\"events\":{\"DEFAULT\":{\"ult\":{\"pg\":{\"property\":\"news_zh-Hant-TW\",\"test\":\"news-TW-zh-Hant-TW-def\"}},\"clw\":{\"LREC\":{\"blocked_by\":\"MON-1\"},\"MON-1\":{\"blocked_by\":\"LREC\"},\"MAST\":{\"blocked_by\":\"SPL,LDRB\"},\"LDRB\":{\"blocked_by\":\"MAST,SPL\"},\"SPL\":{\"blocked_by\":\"MAST,LDRB\"}}}},\"lang\":\"zh-Hant-TW\",\"spaceID\":\"958812180\",\"debug\":false,\"asString\":\"{\\\"useYAC\\\":0,\\\"usePE\\\":1,\\\"servicePath\\\":\\\"\\\",\\\"xservicePath\\\":\\\"\\\",\\\"beaconPath\\\":\\\"\\\",\\\"renderPath\\\":\\\"\\\",\\\"allowFiF\\\":false,\\\"srenderPath\\\":\\\"https:\\\\\\/\\\\\\/s.yimg.com\\\\\\/rq\\\\\\/darla\\\\\\/3-24-0\\\\\\/html\\\\\\/r-sf.html\\\",\\\"renderFile\\\":\\\"https:\\\\\\/\\\\\\/s.yimg.com\\\\\\/rq\\\\\\/darla\\\\\\/3-24-0\\\\\\/html\\\\\\/r-sf.html\\\",\\\"sfbrenderPath\\\":\\\"https:\\\\\\/\\\\\\/s.yimg.com\\\\\\/rq\\\\\\/darla\\\\\\/3-24-0\\\\\\/html\\\\\\/r-sf.html\\\",\\\"msgPath\\\":\\\"https:\\\\\\/\\\\\\/fc.yahoo.com\\\\\\/unsupported-1946.html\\\",\\\"cscPath\\\":\\\"https:\\\\\\/\\\\\\/s.yimg.com\\\\\\/rq\\\\\\/darla\\\\\\/3-24-0\\\\\\/html\\\\\\/r-csc.html\\\",\\\"root\\\":\\\"sdarla\\\",\\\"edgeRoot\\\":\\\"https:\\\\\\/\\\\\\/s.yimg.com\\\\\\/rq\\\\\\/darla\\\\\\/3-24-0\\\",\\\"sedgeRoot\\\":\\\"https:\\\\\\/\\\\\\/s.yimg.com\\\\\\/rq\\\\\\/darla\\\\\\/3-24-0\\\",\\\"version\\\":\\\"3-24-0\\\",\\\"tpbURI\\\":\\\"\\\",\\\"hostFile\\\":\\\"https:\\\\\\/\\\\\\/s.yimg.com\\\\\\/rq\\\\\\/darla\\\\\\/3-24-0\\\\\\/js\\\\\\/g-r-min.js\\\",\\\"property\\\":\\\"news_zh-Hant-TW\\\",\\\"fdb_locale\\\":\\\"\\\\u60a8\\\\u70ba\\\\u4ec0\\\\u9ebc\\\\u4e0d\\\\u559c\\\\u6b61\\\\u9019\\\\u5247\\\\u5ee3\\\\u544a\\\\uff1f|\\\\u5ee3\\\\u544a\\\\u5167\\\\u5bb9\\\\u4ee4\\\\u4eba\\\\u53cd\\\\u611f|\\\\u5176\\\\u4ed6|\\\\u611f\\\\u8b1d\\\\u60a8\\\\u5354\\\\u52a9\\\\u6211\\\\u5011\\\\u6539\\\\u5584\\\\u60a8\\\\u7684 Yahoo\\\\u5947\\\\u6469\\\\u9ad4\\\\u9a57|\\\\u5ee3\\\\u544a\\\\u5167\\\\u5bb9\\\\u8207\\\\u6211\\\\u6c92\\\\u4ec0\\\\u9ebc\\\\u95dc\\\\u806f|\\\\u4f7f\\\\u4eba\\\\u5206\\\\u5fc3|\\\\u6211\\\\u4e0d\\\\u559c\\\\u6b61\\\\u9019\\\\u652f\\\\u5ee3\\\\u544a|\\\\u9001\\\\u51fa|\\\\u5b8c\\\\u6210|\\\\u70ba\\\\u4ec0\\\\u9ebc\\\\u6211\\\\u6703\\\\u770b\\\\u898b\\\\u5ee3\\\\u544a\\\\uff1f|\\\\u9032\\\\u4e00\\\\u6b65\\\\u4e86\\\\u89e3\\\\u60a8\\\\u7684\\\\u610f\\\\u898b\\\\u3002|\\\\u60f3\\\\u8981\\\\u4f7f\\\\u7528\\\\u7121\\\\u5ee3\\\\u544a\\\\u6536\\\\u4ef6\\\\u5323\\\\u55ce\\\\uff1f\\\\u5feb\\\\u4f86\\\\u5347\\\\u7d1a Yahoo Mail Pro\\\\uff01|\\\\u7acb\\\\u5373\\\\u5347\\\\u7d1a\\\",\\\"positions\\\":{\\\"LREC\\\":{\\\"dest\\\":\\\"destLREC\\\",\\\"asz\\\":\\\"300x250\\\",\\\"id\\\":\\\"LREC\\\",\\\"w\\\":\\\"300\\\",\\\"h\\\":\\\"250\\\"},\\\"LREC2\\\":{\\\"dest\\\":\\\"destLREC2\\\",\\\"asz\\\":\\\"300x250\\\",\\\"id\\\":\\\"LREC2\\\",\\\"w\\\":\\\"300\\\",\\\"h\\\":\\\"250\\\"}},\\\"events\\\":{\\\"DEFAULT\\\":{\\\"ult\\\":{\\\"pg\\\":{\\\"property\\\":\\\"news_zh-Hant-TW\\\",\\\"test\\\":\\\"news-TW-zh-Hant-TW-def\\\"}},\\\"clw\\\":{\\\"LREC\\\":{\\\"blocked_by\\\":\\\"MON-1\\\"},\\\"MON-1\\\":{\\\"blocked_by\\\":\\\"LREC\\\"},\\\"MAST\\\":{\\\"blocked_by\\\":\\\"SPL,LDRB\\\"},\\\"LDRB\\\":{\\\"blocked_by\\\":\\\"MAST,SPL\\\"},\\\"SPL\\\":{\\\"blocked_by\\\":\\\"MAST,LDRB\\\"}}}},\\\"lang\\\":\\\"zh-Hant-TW\\\",\\\"spaceID\\\":\\\"958812180\\\",\\\"debug\\\":false}\"},\"meta\":{\"y\":{\"pageEndHTML\":false,\"pos_list\":[\"LREC\",\"LREC2\"],\"transID\":\"darla_prefetch_1584351295099_295999388_3\",\"k2_uri\":\"\",\"fac_rt\":-1,\"ttl\":-1,\"spaceID\":\"958812180\",\"lookupTime\":2,\"procTime\":2,\"npv\":0,\"pvid\":\"2VhDyjk4LjGxN2YiYfTrMQFVNTkuMQAAAACIJH1u\",\"serveTime\":-1,\"ep\":{\"site-attribute\":\"wiki_topics=\\\"\\u610f\\u5927\\u5229;\\u897f\\u73ed\\u7259;\\u4e16\\u754c\\u536b\\u751f\\u7ec4\\u7ec7;\\u897f\\u73ed\\u7259\\u9280\\u884c\\\" megamodal=true rs=\\\"lmsid:a0V0W00000HObw4UAD;revsp:ebc.net.tw;lpstaid:01490841-22c9-30c8-84c9-216bcff32bd5;pct:story;pt:content;site:news;ver:y20;pd:non_modal\\\" Y-BUCKET=\\\"news-TW-zh-Hant-TW-def\\\"\",\"tgt\":\"_blank\",\"secure\":true,\"ref\":\"https:\\/\\/tw.news.yahoo.com\\/%E7%A2%BA%E8%A8%BA%E7%9B%B4%E8%BF%BD%E7%BE%A9%E5%A4%A7%E5%88%A9-%E8%A5%BF%E7%8F%AD%E7%89%9924%E5%B0%8F%E6%99%82%E6%9A%B4%E5%A2%9E2086%E4%BE%8B-022900167.html\",\"ult\":{\"pg\":{\"property\":\"news_zh-Hant-TW\",\"test\":\"news-TW-zh-Hant-TW-def\"}},\"clw\":{\"LREC\":{\"blocked_by\":\"MON-1\"},\"MON-1\":{\"blocked_by\":\"LREC\"},\"MAST\":{\"blocked_by\":\"SPL,LDRB\"},\"LDRB\":{\"blocked_by\":\"MAST,SPL\"},\"SPL\":{\"blocked_by\":\"MAST,LDRB\"}},\"lang\":\"zh-Hant-TW\",\"filter\":\"no_expandable;exp_iframe_expandable;\",\"darlaID\":\"darla_instance_1584351295099_1479452160_2\"},\"pym\":{\".\":\"v0.0.9;;-;\"},\"host\":\"\",\"filtered\":[],\"pe\":\"\"}}}</script><meta itemprop=\"metadata/x-safeframe\" content=\"eyJwb3NpdGlvbnMiOlt7ImlkIjoiTFJFQyIsImxvd0hUTUwiOiIiLCJtZXRhIjp7InkiOnsicG9zIjoiTFJFQyIsImJlaGF2aW9yIjoibm9uX2V4cCIsImFkSUQiOiIjMTkiLCJtYXRjaElEIjoiIzE5IiwiYm9va0lEIjpmYWxzZSwic2xvdElEIjpmYWxzZSwic2VydmVUeXBlIjpmYWxzZSwidHRsIjotMSwiZXJyIjoicm9ib3QiLCJoYXNFeHRlcm5hbCI6ZmFsc2UsInN1cHBfdWdjIjoiIiwicGxhY2VtZW50SUQiOi0xLCJmZGIiOm51bGwsInNlcnZlVGltZSI6LTEsImltcElEIjoiIiwiY3JlYXRpdmVJRCI6LTEsImFkYyI6IntcImxhYmVsXCI6XCJBZENob2ljZXNcIixcInVybFwiOlwiaHR0cHM6XFxcL1xcXC9pbmZvLnlhaG9vLmNvbVxcXC9wcml2YWN5XFxcL3R3XFxcL3lhaG9vXFxcL3JlbGV2YW50YWRzLmh0bWw/c29jX3NyYz1tYWlsJnNvY190cms9bWFcIixcImNsb3NlXCI6XCJcXHU5NWRjXFx1OTU4OVwiLFwiY2xvc2VBZFwiOlwiXFx1OTVkY1xcdTk1ODlcXHU1ZWUzXFx1NTQ0YVwiLFwiY29sbGFwc2VcIjpcIlxcdTY1MzZcXHU4ZDc3XCIsXCJmZGJcIjpcIlxcdTYyMTFcXHU0ZTBkXFx1NTU5Y1xcdTZiNjFcXHU5MDE5XFx1NTAwYlxcdTVlZTNcXHU1NDRhXCIsXCJzaG93QWRcIjpcIlxcdTVjNTVcXHU5NThiXFx1NWVlM1xcdTU0NGFcIixcImNvZGVcIjpcInpoLWhhbnQtdHdcIn0iLCJpczNyZCI6MSwiZmFjU3RhdHVzIjp7fSwidXNlclByb3ZpZGVkRGF0YSI6e30sImZhY1JvdGF0aW9uIjp7fSwic2xvdERhdGEiOnt9fX19LHsiaWQiOiJMUkVDMiIsImxvd0hUTUwiOiIiLCJtZXRhIjp7InkiOnsicG9zIjoiTFJFQzIiLCJiZWhhdmlvciI6Im5vbl9leHAiLCJhZElEIjoiIzE5IiwibWF0Y2hJRCI6IiMxOSIsImJvb2tJRCI6ZmFsc2UsInNsb3RJRCI6ZmFsc2UsInNlcnZlVHlwZSI6ZmFsc2UsInR0bCI6LTEsImVyciI6InJvYm90IiwiaGFzRXh0ZXJuYWwiOmZhbHNlLCJzdXBwX3VnYyI6IiIsInBsYWNlbWVudElEIjotMSwiZmRiIjpudWxsLCJzZXJ2ZVRpbWUiOi0xLCJpbXBJRCI6IiIsImNyZWF0aXZlSUQiOi0xLCJhZGMiOiJ7XCJsYWJlbFwiOlwiQWRDaG9pY2VzXCIsXCJ1cmxcIjpcImh0dHBzOlxcXC9cXFwvaW5mby55YWhvby5jb21cXFwvcHJpdmFjeVxcXC90d1xcXC95YWhvb1xcXC9yZWxldmFudGFkcy5odG1sP3NvY19zcmM9bWFpbCZzb2NfdHJrPW1hXCIsXCJjbG9zZVwiOlwiXFx1OTVkY1xcdTk1ODlcIixcImNsb3NlQWRcIjpcIlxcdTk1ZGNcXHU5NTg5XFx1NWVlM1xcdTU0NGFcIixcImNvbGxhcHNlXCI6XCJcXHU2NTM2XFx1OGQ3N1wiLFwiZmRiXCI6XCJcXHU2MjExXFx1NGUwZFxcdTU1OWNcXHU2YjYxXFx1OTAxOVxcdTUwMGJcXHU1ZWUzXFx1NTQ0YVwiLFwic2hvd0FkXCI6XCJcXHU1YzU1XFx1OTU4YlxcdTVlZTNcXHU1NDRhXCIsXCJjb2RlXCI6XCJ6aC1oYW50LXR3XCJ9IiwiaXMzcmQiOjEsImZhY1N0YXR1cyI6e30sInVzZXJQcm92aWRlZERhdGEiOnt9LCJmYWNSb3RhdGlvbiI6e30sInNsb3REYXRhIjp7fX19fV0sImNvbmYiOm51bGwsIm1ldGEiOnsieSI6eyJwb3NfbGlzdCI6WyJMUkVDIiwiTFJFQzIiXSwidHJhbnNJRCI6ImRhcmxhX3ByZWZldGNoXzE1ODQzNTEyOTUwOTlfMjk1OTk5Mzg4XzMiLCJrMl91cmkiOiIiLCJmYWNfcnQiOi0xLCJ0dGwiOi0xLCJzcGFjZUlEIjoiOTU4ODEyMTgwIiwibG9va3VwVGltZSI6MiwicHJvY1RpbWUiOjIsIm5wdiI6MCwicHZpZCI6IjJWaER5ams0TGpHeE4yWWlZZlRyTVFGVk5Ua3VNUUFBQUFDSUpIMXUiLCJzZXJ2ZVRpbWUiOi0xLCJlcCI6eyJzaXRlLWF0dHJpYnV0ZSI6Indpa2lfdG9waWNzPVwiXHU2MTBmXHU1OTI3XHU1MjI5O1x1ODk3Zlx1NzNlZFx1NzI1OTtcdTRlMTZcdTc1NGNcdTUzNmJcdTc1MWZcdTdlYzRcdTdlYzc7XHU4OTdmXHU3M2VkXHU3MjU5XHU5MjgwXHU4ODRjXCIgbWVnYW1vZGFsPXRydWUgcnM9XCJsbXNpZDphMFYwVzAwMDAwSE9idzRVQUQ7cmV2c3A6ZWJjLm5ldC50dztscHN0YWlkOjAxNDkwODQxLTIyYzktMzBjOC04NGM5LTIxNmJjZmYzMmJkNTtwY3Q6c3Rvcnk7cHQ6Y29udGVudDtzaXRlOm5ld3M7dmVyOnkyMDtwZDpub25fbW9kYWxcIiBZLUJVQ0tFVD1cIm5ld3MtVFctemgtSGFudC1UVy1kZWZcIiIsInRndCI6Il9ibGFuayIsInNlY3VyZSI6dHJ1ZSwicmVmIjoiaHR0cHM6XC9cL3R3Lm5ld3MueWFob28uY29tXC8lRTclQTIlQkElRTglQTglQkElRTclOUIlQjQlRTglQkYlQkQlRTclQkUlQTklRTUlQTQlQTclRTUlODglQTktJUU4JUE1JUJGJUU3JThGJUFEJUU3JTg5JTk5MjQlRTUlQjAlOEYlRTYlOTklODIlRTYlOUElQjQlRTUlQTIlOUUyMDg2JUU0JUJFJThCLTAyMjkwMDE2Ny5odG1sIiwidWx0Ijp7InBnIjp7InByb3BlcnR5IjoibmV3c196aC1IYW50LVRXIiwidGVzdCI6Im5ld3MtVFctemgtSGFudC1UVy1kZWYifX0sImNsdyI6eyJMUkVDIjp7ImJsb2NrZWRfYnkiOiJNT04tMSJ9LCJNT04tMSI6eyJibG9ja2VkX2J5IjoiTFJFQyJ9LCJNQVNUIjp7ImJsb2NrZWRfYnkiOiJTUEwsTERSQiJ9LCJMRFJCIjp7ImJsb2NrZWRfYnkiOiJNQVNULFNQTCJ9LCJTUEwiOnsiYmxvY2tlZF9ieSI6Ik1BU1QsTERSQiJ9fSwibGFuZyI6InpoLUhhbnQtVFciLCJmaWx0ZXIiOiJub19leHBhbmRhYmxlO2V4cF9pZnJhbWVfZXhwYW5kYWJsZTsiLCJkYXJsYUlEIjoiZGFybGFfaW5zdGFuY2VfMTU4NDM1MTI5NTA5OV8xNDc5NDUyMTYwXzIifSwicHltIjp7Ii4iOiJ2MC4wLjk7Oy07In0sImhvc3QiOiIiLCJmaWx0ZXJlZCI6W119fX0=\"><script type=\"text/javascript\" src=\"https://s.yimg.com/rq/darla/boot.js\"></script>\n",
      "\n",
      "<!-- gq1-sdarlaws-015.adx.gq1.yahoo.com Mon Mar 16 09:34:55 UTC 2020 -->\n",
      "</div><script>\n",
      "(function (root) {\n",
      "/* -- Data -- */\n",
      "root.App || (root.App = {});\n",
      "root.App.now = 1584351295054;\n",
      "root.App.main = {\"i13nConfig\":{\"initComscore\":true,\"initRapid\":true,\"enablePartnerPixel\":true,\"enablePartneradobeBeacon\":false,\"adobeProp53\":\"\",\"enableNielsenBeacon\":false,\"partnerAdobeJSFile\":\"\",\"rapid\":{\"keys\":{\"ver\":\"y20\",\"navtype\":\"server\",\"layout\":\"y20stream\",\"pd\":\"non_modal\",\"pt\":\"content\",\"p_cpos\":1,\"p_hosted\":\"hosted\",\"pcp\":\"EBC東森新聞\",\"pct\":\"story\",\"pstaid\":\"01490841-22c9-30c8-84c9-216bcff32bd5\",\"ss_cid\":\"\",\"mrkt\":\"tw\",\"site\":\"news\",\"lang\":\"zh-Hant-TW\",\"colo\":\"gq1\",\"_yrid\":\"72phm0hf6ui1v\",\"_rid\":\"72phm0hf6ui1v\",\"abk\":\"\"},\"compr_type\":\"deflate\",\"tracked_mods_viewability\":{\"UH-0-MobileHeader-Proxy\":\"uh\",\"Overlay-0-NavLite-Proxy\":\"navrail\",\"Overlay-1-Lightbox-Proxy\":\"Overlay-1-Lightbox\",\"Overlay-2-VideoModal-Proxy\":\"Overlay-2-VideoModal\",\"Hero-0-FeatureBar-smartphone-Proxy\":\"Hero-0-FeatureBar-smartphone\",\"Lead-0-CommonSlotComposite-Proxy\":\"Lead-0-CommonSlotComposite\",\"SideTop-0-HeadComponentTitle-Proxy\":\"SideTop-0-HeadComponentTitle\",\"SideTop-1-HeadComponentAttribution-Proxy\":\"hl-viewer\",\"Col1-0-CaasContent-Proxy\":\"Col1-0-CaasContent\",\"Bottom-0-Ad-Proxy\":\"Bottom-0-Ad\",\"Bottom-1-CaasSidekickLoader-Proxy\":\"Bottom-1-CaasSidekickLoader\"},\"test_id\":\"news-TW-zh-Hant-TW-def\",\"webworker_file\":\"\\u002Flib\\u002Fmetro\\u002Fg\\u002Fmyy\\u002Frapidworker_1_2_0.0.2.js\",\"client_only\":1,\"track_right_click\":true,\"pageview_on_init\":true,\"viewability\":true,\"dwell_on\":true,\"spaceid\":\"958812180\"},\"rootModelData\":{},\"navigationPageview\":{\"enable\":true},\"serverPageview\":{\"enable\":true,\"type\":\"nonClassified\"},\"enableConsentData\":true,\"comscore\":{\"c1\":\"2\",\"c2\":\"7241469\",\"c5\":\"958812180\",\"c14\":-1,\"ns_c\":\"UTF-8\"}}};\n",
      "}(this));\n",
      "</script><script src=\"https://s.yimg.com/ss/rapid-3.53.3.js\"></script>\n",
      "<script src=\"https://s.yimg.com/os/yaft/yaft-0.3.22.min.js\" defer></script>\n",
      "<script src=\"https://s.yimg.com/os/yaft/yaft-plugin-aftnoad-0.1.3.min.js\" defer></script>\n",
      "<script src=\"https://s.yimg.com/aaq/yc/js/main-lightweight.c8e7f048eccf102faa70.lightweight.js\" defer></script>\n",
      "<script src=\"https://s.yimg.com/aaq/c/a992638.caas-default.min.js\"></script>\n",
      "<script>\"use strict\";!function(){function e(e,n,t){var o=new RegExp(\"([?&])\"+n+\"=.*?(&|$)\",\"i\"),a=-1!==e.indexOf(\"?\")?\"&\":\"?\";return o.test(e)?e.replace(o,\"$1\"+n+\"=\"+t+\"$2\"):e+a+n+\"=\"+t}function n(n){return r&&(n=e(n,\".tsrc\",\"ylite\"),n=e(n,\"apptype\",\"pwa\")),n}function t(){var e=new Image,n=\"https://sb.scorecardresearch.com/p?c7=\"+encodeURIComponent(document.location.href)+\"&ns__t=\"+(new Date).getTime();Object.keys(i).forEach(function(e){n+=\"&\"+e+\"=\"+encodeURIComponent(i[e])}),window&&window.__cmp?window.__cmp(\"getVendorConsents\",null,function(t,o){o&&t&&t.gdprApplies&&t.vendorConsents&&(n+=\"&cs_ucfr=\"+(t.vendorConsents[77]?1:0)),e.src=n}):e.src=n}function o(){for(var e=0;e<m.length;e++)m[e].addEventListener(\"click\",function(){var e=this.parentNode;e.parentNode.removeChild(e)},!1)}var a=function(e,n){return e.reduce(function(e,n){return e&&e[n]?e[n]:null},n)}([\"App\",\"main\",\"i13nConfig\"],window)||{},i=a.comscore||{},c=a.rapid&&a.rapid.keys||{},d=a.partnerAdobeJSFile||\"\",s=a.enablePartneradobeBeacon||!1,r=function(){return\"standalone\"in window.navigator&&window.navigator.standalone||void 0!==window.matchMedia&&window.matchMedia(\"(display-mode: standalone)\").matches||void 0!==window.msMatchMedia&&window.msMatchMedia(\"(display-mode: standalone)\").matches}();t(),s&&d&&function(e){var n=document.createElement(\"script\");n.type=\"text/javascript\",n.id=\"partnerAdobeBeacon\",n.onload=n.onreadystatechange=function(){n.readyState&&\"loaded\"!==n.readyState&&\"complete\"!==n.readyState||(setTimeout(function(){var e=window.s;e&&(e.t(),e.clearVars())},0),n.onload=n.onreadystatechange=null)},n.src=e,document.getElementsByTagName(\"head\")[0].appendChild(n)}(d),\"undefined\"!=typeof window&&function(){var e=(document.getElementsByClassName(\"caas-body\")||[])[0],n=(document.getElementsByClassName(\"caas\")||[])[0],t=n&&n.getAttribute(\"id\"),o=t&&t.replace(\"caas-art-\",\"\");window.c2s_event&&o&&(window.c2s_event(\"init\"),window.c2s_event(\"intent\",{articleId:o}),window.c2s_event(\"ready\",{articleId:o,contentRootNode:e}),window.c2s_event(\"display\",{articleId:o}))}(),window.caasY20=function(){var e={};if(window&&void 0!==window.CAAS){var o=window.navigator&&window.navigator.userAgent,a=o&&o.indexOf(\"FBAN\")>-1||o.indexOf(\"FBAV\")>-1||!1;e.caasInstance=new window.CAAS.BASE({container:\"YDC-Col1\",i13nEntities:c}),e.caasInstance.on(\"link:clicked\",function(e){var t=!a&&e.href&&window.open(\"\",e.target||\"_blank\")||e.href&&window,o=e.href;\"_blank\"!==e.target&&(o=n(o)),window.rapidInstance?window.rapidInstance.beaconClick(e.sec,e.slk,e.pos||0,e.params||{},e.outcm||null,function(){t&&(t.location.href=o)}):t&&(t.location.href=o)}),e.caasInstance.on(\"slideshow:slideChange\",function(){if(window.rapidInstance){var e={pct:\"slideshow\",pt:\"content\"};window.rapidInstance.beaconPageview(Object.assign({},c,e)),t()}}),e.caasInstance.on(\"newsroomEmbed:rendered\",function(e){if(window.rapidInstance&&e){var n=e.ylk;window.rapidInstance.beaconEvent(n._E,Object.assign({},c),n.outcm)}}),window.CAAS.LOADER({callback:function(t,o){t||o.base&&(o.base.on(\"link:clicked\",function(e){var t=!a&&e.href&&window.open(\"\",e.target||\"_blank\")||e.href&&window,o=e.href;\"_blank\"!==e.target&&(o=n(o)),window.rapidInstance?window.rapidInstance.beaconClick(e.sec,e.slk,e.pos||0,e.params||{},e.outcm||null,function(){t&&(t.location.href=o)}):t&&(t.location.href=o)}),o.module&&o.module.on&&(o.module.on(\"mounted\",function(){e.caasInstance.sync()}),o.module.on(\"updated\",function(){e.caasInstance.sync()})))}})}return e}();var l=document.getElementById(\"caascommtbar-anchor\"),w=document.getElementById(\"community-bar\"),u=!1,m=document.getElementsByClassName(\"featureBtn_close\")||[],p=null,f=(l&&l.getElementsByClassName(\"caas-no-reactions\")||[])[0],g=(l&&l.getElementsByClassName(\"caas-reactions\")||[])[0],y=(g&&g.getElementsByClassName(\"caas-reactions-count\")||[])[0],v=document.getElementById(\"uh-back\")||document.getElementById(\"header-back-button\"),h=v&&v.getAttribute(\"href\");h=h&&n(h);var b=\"\",k=document.querySelector(\"#Feedback-dogfood button\"),E=(document.getElementsByClassName(\"eprivacy-close\")||[])[0],C=0,I=0,B=/^https?\\:\\/\\/([^\\/\\?]+\\.)*yahoo.com(\\/|$)/;l&&l.addEventListener(\"click\",function(e){e.preventDefault(),e.stopPropagation(),window&&window.rapidInstance&&window.rapidInstance.beaconClick(\"cmmts\",\"Reaction\",0,{g:b,elm:\"cmmt_open\",itc:0},null),w&&w.contentWindow.postMessage(\"canvass:expand\",\"*\")}),v&&v.addEventListener(\"click\",function(e){if(!window)return!1;if(e.preventDefault(),e.stopPropagation(),p)return clearTimeout(p),p=null,void(window.location=h);window.rapidInstance&&window.rapidInstance.beaconClick(\"uh\",\"back\",1,{elm:\"itm\",itc:0,subsec:\"back\"},null);var n=!1,t=document&&document.referrer;t&&(n=!B.test(document.referrer)),!t||n?window.location=h:(history.back(),p=setTimeout(function(){window.location=h},6e3))}),window.addEventListener(\"popstate\",function(e){e&&e.state&&setTimeout(function(){window.location.reload()},0)}),window.addEventListener(\"DOMContentLoaded\",o,!1),w&&window.addEventListener(\"message\",function(e){var n=e&&e.data;if(\"string\"==typeof n&&w){try{n=JSON.parse(n)}catch(e){}if(n&&n.isCanvass&&e.origin.match(B)){if(n.initialized){var t=n.height;if(t){var o=\"100%\"===t,a=o?\"comments\":c.pct,i=window&&window.rapidInstance;w.parentNode.style.height=t,w.style.height=t,u!==o&&(o?(Object.assign(document.body.style,{position:\"fixed\",overflow:\"hidden\",top:\"-\"+window.scrollY+\"px\",width:\"100%\"}),C=window.scrollX,I=window.scrollY):(Object.assign(document.body.style,{position:\"\",overflow:\"\",top:\"\",width:\"\"}),window.scrollTo(C,I)),i&&(i.beaconClick(\"rapidDwell\",\"\",0,{},\"\",null,{dwell:\"stop\"}),i.setRapidAttribute({keys:{pct:a}}),i.beaconClick(\"rapidDwell\",\"\",0,{},\"\",null,{dwell:\"start\"}),o||window.focus())),u=o}g&&f&&(n.count&&y?(y.innerHTML=\" (\"+n.count+\")\",f.style.display=\"none\",g.style.display=\"initial\"):(f.style.display=\"initial\",g.style.display=\"none\")),n.context&&(b=n.context)}n.loginUrl&&n.loginUrl.match(B)&&(window.location.href=n.loginUrl)}}}),k&&k.addEventListener(\"click\",function(e){document.getElementById(\"Feedback-dogfood\").style.display=\"none\"}),E&&E.addEventListener(\"click\",function(e){var n=(document.getElementsByClassName(\"tdv2-applet-nagbar\")||[])[0];n&&(n.style.display=\"none\");!function(){for(var e,n=document.cookie,t=/; */,o=n.split(t),a=0;a<o.length;a++){var i=o[a];if(\"ucs=\"===i.substr(0,\"ucs=\".length)){e=i;break}}if(!(e&&e.indexOf(\"eup=2\")>-1)){e?e+=\"&eup=2\":e=\"ucs=eup=2\";e+=\"; Expires=\"+new Date((new Date).setYear((new Date).getFullYear()+1)).toUTCString(),e+=\"; Domain=yahoo.com\",e+=\"; Path=/\",document.cookie=e}}()})}();</script>\n",
      "<script>window.webpackPublicPath='https://s.yimg.com/aaq/yc/js/';</script></body></html>\n"
     ]
    }
   ],
   "source": [
    "## request module ***** 超重要 ******\n",
    "import requests\n",
    "\n",
    "url = \"https://tw.news.yahoo.com/%E7%A2%BA%E8%A8%BA%E7%9B%B4%E8%BF%BD%E7%BE%A9%E5%A4%A7%E5%88%A9-%E8%A5%BF%E7%8F%AD%E7%89%9924%E5%B0%8F%E6%99%82%E6%9A%B4%E5%A2%9E2086%E4%BE%8B-022900167.html\"\n",
    "\n",
    "response =requests.get(url)\n",
    "\n",
    "print(response.text)"
   ]
  },
  {
   "cell_type": "markdown",
   "metadata": {},
   "source": [
    "# 小試身手 #3-1\n"
   ]
  },
  {
   "cell_type": "code",
   "execution_count": 8,
   "metadata": {},
   "outputs": [
    {
     "name": "stdout",
     "output_type": "stream",
     "text": [
      "Please input 1st value50\n",
      "Please input 2nd value30\n",
      "sum= 80.0 \n",
      "Average= 40.0\n"
     ]
    }
   ],
   "source": [
    "#(1)\n",
    "# define a function. Let the function could input 2 float point values and then calculating the sum and average\n",
    "\n",
    "def mycalculater():\n",
    "    x1 = float(input(\"Please input 1st value\"))\n",
    "    x2 = float(input(\"Please input 2nd value\"))\n",
    "    x_list = [x1,x2]\n",
    "    return [sum(x_list), sum(x_list)/len(x_list)]\n",
    "\n",
    "result = mycalculater()\n",
    "print(\"sum= {} \\nAverage= {}\".format(result[0],result[1]))"
   ]
  },
  {
   "cell_type": "code",
   "execution_count": 9,
   "metadata": {},
   "outputs": [
    {
     "name": "stdout",
     "output_type": "stream",
     "text": [
      "4950\n"
     ]
    }
   ],
   "source": [
    "#(2)\n",
    "# f(n) = 1+2+3+...+n\n",
    "# 不想限定 n 為 int\n",
    "def mynatureseries(n):\n",
    "    if type(n) == int:\n",
    "        if n == 0:\n",
    "            print(\"[mynatureseries] Please input a non-Zero integer!\\n\")\n",
    "            return None\n",
    "        elif n<0:\n",
    "            print(\"[mynatureseries] Please input a positive and non-Zero integer!\\n\")\n",
    "            return None\n",
    "        elif n>0:\n",
    "#             ## (A) for-loop solution:\n",
    "#             result =0\n",
    "#             for i in range(1,n+1):\n",
    "#                 result = result+i\n",
    "#             return result\n",
    "             ## (B) build-in func. range example: 一行搞定!\n",
    "             return sum(range(1,n+1))\n",
    "    elif type(n) == str:\n",
    "        print(\"[mynatureseries] Please input a non-String value...\\n\")\n",
    "        return None\n",
    "    elif type(n) == float:\n",
    "        print(\"[mynatureseries] Please input a non-float value...\\n\")\n",
    "        return None\n",
    "    else:\n",
    "        return None\n",
    "\n",
    "result = mynatureseries(99)\n",
    "print(result)"
   ]
  },
  {
   "cell_type": "code",
   "execution_count": 2,
   "metadata": {},
   "outputs": [
    {
     "data": {
      "text/plain": [
       "'!dlrow olleh'"
      ]
     },
     "execution_count": 2,
     "metadata": {},
     "output_type": "execute_result"
    }
   ],
   "source": [
    "#(3)\n",
    "# input: word [str]\n",
    "# msg: [*] word must be str\n",
    "# return: a reversed input string.\n",
    "\n",
    "def myword(word):\n",
    "    if type(word) == str:\n",
    "        result=\"\"\n",
    "        ## (A) my version reversed iteration loop\n",
    "#         j=len(word)\n",
    "#         for i in range(-1,-j-1,-1):\n",
    "#             result = result+word[i]\n",
    "# #         print(result)\n",
    "        # return result\n",
    "        #(B) string adding operation\n",
    "        for w in word:\n",
    "            result = w + result\n",
    "        return result\n",
    "        #(C) reversed index \n",
    "            \n",
    "        return word[::-1]\n",
    "            \n",
    "    else:\n",
    "        print(\"[*] {} must be str\\n\".format(word))\n",
    "        return None\n",
    "\n",
    "myword(\"hello world!\")"
   ]
  },
  {
   "cell_type": "code",
   "execution_count": 11,
   "metadata": {},
   "outputs": [
    {
     "name": "stdout",
     "output_type": "stream",
     "text": [
      "[1, 1, 2, 3]\n",
      "[1, 1, 2, 3, 5]\n",
      "[1, 1, 2, 3, 5, 8]\n",
      "[1, 1, 2, 3, 5, 8, 13]\n",
      "[1, 1, 2, 3, 5, 8, 13, 21]\n",
      "[1, 1, 2, 3, 5, 8, 13, 21, 34]\n",
      "[1, 1, 2, 3, 5, 8, 13, 21, 34, 55]\n",
      "[1, 1, 2, 3, 5, 8, 13, 21, 34, 55, 89]\n",
      "[1, 1, 2, 3, 5, 8, 13, 21, 34, 55, 89, 144]\n",
      "[1, 1, 2, 3, 5, 8, 13, 21, 34, 55, 89, 144, 233]\n",
      "[1, 1, 2, 3, 5, 8, 13, 21, 34, 55, 89, 144, 233, 377]\n",
      "[1, 1, 2, 3, 5, 8, 13, 21, 34, 55, 89, 144, 233, 377, 610]\n",
      "[1, 1, 2, 3, 5, 8, 13, 21, 34, 55, 89, 144, 233, 377, 610, 987]\n",
      "[1, 1, 2, 3, 5, 8, 13, 21, 34, 55, 89, 144, 233, 377, 610, 987, 1597]\n",
      "[1, 1, 2, 3, 5, 8, 13, 21, 34, 55, 89, 144, 233, 377, 610, 987, 1597, 2584]\n",
      "[1, 1, 2, 3, 5, 8, 13, 21, 34, 55, 89, 144, 233, 377, 610, 987, 1597, 2584, 4181]\n"
     ]
    },
    {
     "data": {
      "text/plain": [
       "4181"
      ]
     },
     "execution_count": 11,
     "metadata": {},
     "output_type": "execute_result"
    }
   ],
   "source": [
    "## (5) 費氏數列\n",
    "\n",
    "def fabonaci(n):\n",
    "    n1=1\n",
    "    n2=1\n",
    "    n3=n2+n1\n",
    "    result=0\n",
    "    temp=[n1, n2, n3]\n",
    "    if n <= 3:\n",
    "        return temp[n-1]\n",
    "    else:\n",
    "        nitem = 3\n",
    "        while True:\n",
    "            result = temp[nitem-1]+temp[nitem-2]\n",
    "            temp.append(result)\n",
    "            print(temp)\n",
    "            nitem=nitem+1\n",
    "            if nitem >= n:\n",
    "                break\n",
    "        return result        \n",
    "\n",
    "fabonaci(19)"
   ]
  },
  {
   "cell_type": "code",
   "execution_count": 4,
   "metadata": {},
   "outputs": [
    {
     "name": "stdout",
     "output_type": "stream",
     "text": [
      "1 item : 1\n",
      "2 item : 1\n",
      "3 item : 2\n",
      "4 item : 3\n",
      "5 item : 5\n",
      "6 item : 8\n",
      "7 item : 13\n",
      "8 item : 21\n",
      "9 item : 34\n",
      "10 item : 55\n"
     ]
    }
   ],
   "source": [
    "## (4) 費氏數列2\n",
    "##  1, 1, 2 ,3 ,5 ,8 ,13, 21, 34, 55,....\n",
    "##  r2 r1 a\n",
    "##     r2 r1 a\n",
    "##        r2 r1 a ....\n",
    "##\n",
    "def fibonaci2(n):\n",
    "    if n ==1 or n==2:\n",
    "        return 1\n",
    "    else:\n",
    "        r1 = 1\n",
    "        r2 = 1\n",
    "        a = 0\n",
    "        for i in range(n-2):\n",
    "            a = r1 + r2\n",
    "            ## 1st: update r2\n",
    "            r2 = r1\n",
    "            ## 2nd: update r1\n",
    "            r1 = a\n",
    "        return a\n",
    "\n",
    "    \n",
    "    \n",
    "## main\n",
    "# result = fibonaci2(5)\n",
    "# print(result)\n",
    "for i in range(1,11):\n",
    "    print(\"{} item : {}\".format(i,fibonaci2(i)))"
   ]
  },
  {
   "cell_type": "code",
   "execution_count": null,
   "metadata": {},
   "outputs": [],
   "source": [
    "## 如果是 recursive function:?\n"
   ]
  },
  {
   "cell_type": "code",
   "execution_count": null,
   "metadata": {},
   "outputs": [],
   "source": []
  }
 ],
 "metadata": {
  "kernelspec": {
   "display_name": "Python 3",
   "language": "python",
   "name": "python3"
  },
  "language_info": {
   "codemirror_mode": {
    "name": "ipython",
    "version": 3
   },
   "file_extension": ".py",
   "mimetype": "text/x-python",
   "name": "python",
   "nbconvert_exporter": "python",
   "pygments_lexer": "ipython3",
   "version": "3.7.6"
  }
 },
 "nbformat": 4,
 "nbformat_minor": 4
}
