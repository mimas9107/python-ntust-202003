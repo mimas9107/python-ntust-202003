{
 "cells": [
  {
   "cell_type": "code",
   "execution_count": null,
   "metadata": {},
   "outputs": [],
   "source": [
    "## crawler 01\n"
   ]
  },
  {
   "cell_type": "code",
   "execution_count": null,
   "metadata": {},
   "outputs": [],
   "source": [
    "import requests\n",
    "url = \"https://www.nownews.com/cat/column\"\n",
    "headers ={\n",
    "    \"User-Agent\":\"Mozilla/5.0 (Windows NT 10.0; Win64; x64; rv:74.0) Gecko/20100101 Firefox/74.0\"\n",
    "}\n",
    "# 模擬 browser 作 get動作\n",
    "res = requests.get(url, headers=headers)\n",
    "print(res.text)"
   ]
  },
  {
   "cell_type": "code",
   "execution_count": null,
   "metadata": {},
   "outputs": [],
   "source": [
    "from bs4 import BeautifulSoup as bs"
   ]
  },
  {
   "cell_type": "code",
   "execution_count": null,
   "metadata": {},
   "outputs": [],
   "source": [
    "soup = bs(res.text,\"lxml\")\n",
    "print(soup)"
   ]
  },
  {
   "cell_type": "code",
   "execution_count": null,
   "metadata": {},
   "outputs": [],
   "source": [
    "soup.select(\"div.td-animation-stack\") ## 幫我抓 div物件中 class為 td-animation-stack"
   ]
  },
  {
   "cell_type": "code",
   "execution_count": null,
   "metadata": {},
   "outputs": [],
   "source": [
    "# print(soup.select(\"a\"))\n",
    "# for ele in soup.select(\"a\"):\n",
    "#     print(ele)\n",
    "\n",
    "for ele in soup.select(\"h3\"):\n",
    "    print(ele)"
   ]
  },
  {
   "cell_type": "code",
   "execution_count": null,
   "metadata": {},
   "outputs": [],
   "source": [
    "for ele in soup.select(\"h3 a\"):\n",
    "    print(ele)\n"
   ]
  },
  {
   "cell_type": "code",
   "execution_count": null,
   "metadata": {},
   "outputs": [],
   "source": [
    "## parsing html source code:\n",
    "h3_tags = soup.select(\"h3\")\n",
    "# print(h3_tags)\n",
    "# print(type(h3_tags))\n",
    "\n",
    "element = h3_tags[0]\n",
    "print(element)"
   ]
  },
  {
   "cell_type": "code",
   "execution_count": null,
   "metadata": {},
   "outputs": [],
   "source": [
    "# print(soup.select(\"div.td-module-meta-info span time\"))\n",
    "for ele in soup.select(\"div.td-module-meta-info span time\"):\n",
    "    print(ele)"
   ]
  },
  {
   "cell_type": "code",
   "execution_count": null,
   "metadata": {},
   "outputs": [],
   "source": [
    "aTags = soup.select(\"div.td-module-meta-info a\")\n",
    "for ele in aTags:\n",
    "    print(ele)\n",
    "timeTags = soup.select(\"div.td-module-meta-info time\")\n",
    "for ele2 in timeTags:\n",
    "    print(ele2)"
   ]
  },
  {
   "cell_type": "code",
   "execution_count": null,
   "metadata": {},
   "outputs": [],
   "source": [
    "print(soup.select(\"#menu-item-2895786\"))"
   ]
  },
  {
   "cell_type": "code",
   "execution_count": null,
   "metadata": {},
   "outputs": [],
   "source": [
    "print(soup.select(\"div.td-container li#menu-item-2895786\"))"
   ]
  },
  {
   "cell_type": "code",
   "execution_count": null,
   "metadata": {},
   "outputs": [],
   "source": [
    "url=\"https://petsmao.nownews.com/\"\n",
    "res = requests.get(url)\n",
    "soup = bs(res.text,\"lxml\")\n",
    "\n",
    "print(soup)\n",
    "\n"
   ]
  },
  {
   "cell_type": "code",
   "execution_count": null,
   "metadata": {},
   "outputs": [],
   "source": [
    "print(soup.select(\"div.eltd-vertical-menu-area-inner li.menu-item-type-custom.menu-item-object-custom\"))"
   ]
  },
  {
   "cell_type": "code",
   "execution_count": null,
   "metadata": {},
   "outputs": [],
   "source": [
    "data = soup.select(\"li[data-nav-item-type='custom']\")\n",
    "print(data[0])"
   ]
  },
  {
   "cell_type": "code",
   "execution_count": null,
   "metadata": {},
   "outputs": [],
   "source": [
    "print(soup.select(\"a[target='_blank']\"))"
   ]
  },
  {
   "cell_type": "code",
   "execution_count": null,
   "metadata": {},
   "outputs": [],
   "source": [
    "soup.select(\"span.item_text\")"
   ]
  },
  {
   "cell_type": "code",
   "execution_count": null,
   "metadata": {},
   "outputs": [],
   "source": [
    "url = \"https://www.nownews.com/cat/column\"\n",
    "headers ={\n",
    "    \"User-Agent\":\"Mozilla/5.0 (Windows NT 10.0; Win64; x64; rv:74.0) Gecko/20100101 Firefox/74.0\"\n",
    "}\n",
    "# 模擬 browser 作 get動作\n",
    "res = requests.get(url, headers=headers)\n",
    "\n",
    "data=soup.select(\"div.td-fix-index div.td-animation-stack\")\n",
    "# print(data)\n",
    "# len(data)\n",
    "\n",
    "data=soup.select(\"div.tdb_module_loop.td_module_wrap.td-animation-stack\")\n",
    "ele = data[0]\n",
    "aTag = ele.select(\"h3 a\")[0]\n",
    "\n",
    "print(aTag)\n",
    "print(aTag[\"href\"])\n",
    "print(aTag[\"title\"])\n",
    "\n",
    "timeTag = ele.select(\"time\")[0]\n",
    "print(timeTag)\n",
    "print(timeTag[\"datetime\"])\n",
    "print(timeTag.text)"
   ]
  },
  {
   "cell_type": "code",
   "execution_count": null,
   "metadata": {},
   "outputs": [],
   "source": [
    "import requests\n",
    "from bs4 import BeautifulSoup as bs\n",
    "url = \"https://www.nownews.com/cat/column\"\n",
    "headers ={\n",
    "    \"User-Agent\":\"Mozilla/5.0 (Windows NT 10.0; Win64; x64; rv:74.0) Gecko/20100101 Firefox/74.0\"\n",
    "}\n",
    "# 模擬 browser 作 get動作\n",
    "res = requests.get(url, headers=headers)\n",
    "soup = bs(res.text,\"lxml\")\n"
   ]
  },
  {
   "cell_type": "code",
   "execution_count": null,
   "metadata": {},
   "outputs": [],
   "source": [
    "## 抓出 div物件底下 有 class=.td-animation-stack的資料\n",
    "data = soup.select(\"div.td-animation-stack\")\n",
    "# print(data[0])\n",
    "links = []\n",
    "for ele in data: \n",
    "    aTag = ele.select(\"h3 a\")[0]    ## 挑出 <h3> <a> Tag的資料\n",
    "#     print(aTag)\n",
    "    urls = aTag[\"href\"]             ## 將 <a href 連結資料取出\n",
    "    links.append(urls)              ## 丟進 list\n",
    "#     print(aTag)\n",
    "#     print(aTag['href'])\n",
    "for l in links:\n",
    "    print(l)"
   ]
  },
  {
   "cell_type": "code",
   "execution_count": null,
   "metadata": {},
   "outputs": [],
   "source": [
    "url2 = links[0]\n",
    "res2 = requests.get(url2,headers=headers)\n",
    "soup2=bs(res2.text,\"lxml\")\n"
   ]
  },
  {
   "cell_type": "code",
   "execution_count": null,
   "metadata": {},
   "outputs": [],
   "source": [
    "# print(soup2.select(\"div.td-crumb-container div.entry-crumbs\")[0].text.replace(\" \",\">\"))\n",
    "category = soup2.select(\"div.td-crumb-container div.entry-crumbs\")[0].text.replace(\" \",\">\")\n",
    "print(\"category= \",category)\n",
    "title = soup2.select(\"header.td-post-title h1.entry-title\")[0].text\n",
    "print(\"Title= \",title)\n",
    "time = soup2.select(\"header.td-post-title time\")[0].text\n",
    "print(\"time= \",time)\n",
    "\n",
    "print(\"url= \",url2)\n",
    "\n",
    "## content\n",
    "# print(soup2.select(\"div.td-post-content span[itemprop='articleBody'] p\"))\n",
    "content = \"\"\n",
    "p_tags = soup2.select(\"div.td-post-content span[itemprop='articleBody'] p\")\n",
    "for ele in p_tags:\n",
    "#     print(ele.text)\n",
    "    content += ele.text\n",
    "print(\"content= \", content)"
   ]
  },
  {
   "cell_type": "code",
   "execution_count": null,
   "metadata": {},
   "outputs": [],
   "source": [
    "data = {\n",
    "    \"category\": category,\n",
    "    \"title\": title,\n",
    "    \"time\" : time,\n",
    "    \"url\"  : url2,\n",
    "    \"content\" : content\n",
    "}\n",
    "print(data)"
   ]
  },
  {
   "cell_type": "code",
   "execution_count": null,
   "metadata": {},
   "outputs": [],
   "source": [
    "import time\n",
    "def parsing_data(soup,url):\n",
    "    # do action:\n",
    "    category = soup.select(\"div.td-crumb-container div.entry-crumbs\")[0].text.replace(\" \",\">\")\n",
    "# print(\"category= \",category)\n",
    "    title = soup.select(\"header.td-post-title h1.entry-title\")[0].text\n",
    "# print(\"Title= \",title)\n",
    "    time = soup.select(\"header.td-post-title time\")[0].text\n",
    "# print(\"time= \",time)\n",
    "\n",
    "# print(\"url= \",url2)\n",
    "\n",
    "## content\n",
    "# print(soup2.select(\"div.td-post-content span[itemprop='articleBody'] p\"))\n",
    "    content = \"\"\n",
    "    p_tags = soup.select(\"div.td-post-content span[itemprop='articleBody'] p\")\n",
    "    for ele in p_tags:\n",
    "#     print(ele.text)\n",
    "        content += ele.text\n",
    "    \n",
    "    data = {\n",
    "    \"category\": category,\n",
    "    \"title\": title,\n",
    "    \"time\" : time,\n",
    "    \"url\"  : url,\n",
    "    \"content\" : content\n",
    "    }\n",
    "    return data\n",
    "\n",
    "def get_page_source_code(link):\n",
    "    \n",
    "    headers ={\n",
    "    \"User-Agent\":\"Mozilla/5.0 (Windows NT 10.0; Win64; x64; rv:74.0) Gecko/20100101 Firefox/74.0\"\n",
    "    }\n",
    "    res = requests.get(link,headers=headers)\n",
    "    soup=bs(res.text,\"lxml\")\n",
    "    \n",
    "    return soup\n",
    "\n",
    "## main\n",
    "\n",
    "# url = links[1]\n",
    "\n",
    "# soup = get_page_source_code(url)\n",
    "# data = parsing_data(soup.url)\n",
    "\n",
    "# print(data)\n",
    "dataList=[]\n",
    "for url in links:\n",
    "    soup = get_page_source_code(url)\n",
    "    time.sleep(1)\n",
    "    data = parsing_data(soup,url)\n",
    "    \n",
    "    dataList.append(data)\n",
    "\n",
    "print(\"done!\")"
   ]
  },
  {
   "cell_type": "code",
   "execution_count": null,
   "metadata": {},
   "outputs": [],
   "source": [
    "\n",
    "\n"
   ]
  },
  {
   "cell_type": "code",
   "execution_count": null,
   "metadata": {},
   "outputs": [],
   "source": [
    "for data in dataList:\n",
    "    file_name = data[\"title\"]\n",
    "    with open(\"sample/{}.txt\".format(file_name),\"w\") as out_file:\n",
    "        record =\"\"\n",
    "        for key in data:\n",
    "            record += \"{}: {}\\n\".format(key,data[key])\n",
    "        out_file.write(record)"
   ]
  },
  {
   "cell_type": "code",
   "execution_count": null,
   "metadata": {},
   "outputs": [],
   "source": []
  },
  {
   "cell_type": "code",
   "execution_count": null,
   "metadata": {},
   "outputs": [],
   "source": []
  },
  {
   "cell_type": "code",
   "execution_count": null,
   "metadata": {},
   "outputs": [],
   "source": []
  }
 ],
 "metadata": {
  "kernelspec": {
   "display_name": "Python 3",
   "language": "python",
   "name": "python3"
  },
  "language_info": {
   "codemirror_mode": {
    "name": "ipython",
    "version": 3
   },
   "file_extension": ".py",
   "mimetype": "text/x-python",
   "name": "python",
   "nbconvert_exporter": "python",
   "pygments_lexer": "ipython3",
   "version": "3.7.6"
  }
 },
 "nbformat": 4,
 "nbformat_minor": 4
}
