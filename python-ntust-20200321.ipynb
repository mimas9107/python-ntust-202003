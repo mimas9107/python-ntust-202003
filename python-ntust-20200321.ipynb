{
 "cells": [
  {
   "cell_type": "code",
   "execution_count": null,
   "metadata": {},
   "outputs": [],
   "source": [
    "## crawler 01\n"
   ]
  },
  {
   "cell_type": "code",
   "execution_count": null,
   "metadata": {},
   "outputs": [],
   "source": [
    "import requests\n",
    "url = \"https://www.nownews.com/cat/column\"\n",
    "headers ={\n",
    "    \"User-Agent\":\"Mozilla/5.0 (Windows NT 10.0; Win64; x64; rv:74.0) Gecko/20100101 Firefox/74.0\"\n",
    "}\n",
    "# 模擬 browser 作 get動作\n",
    "res = requests.get(url, headers=headers)\n",
    "print(res.text)"
   ]
  },
  {
   "cell_type": "code",
   "execution_count": null,
   "metadata": {},
   "outputs": [],
   "source": [
    "from bs4 import BeautifulSoup as bs"
   ]
  },
  {
   "cell_type": "code",
   "execution_count": null,
   "metadata": {},
   "outputs": [],
   "source": [
    "soup = bs(res.text,\"lxml\")\n",
    "print(soup)"
   ]
  },
  {
   "cell_type": "code",
   "execution_count": null,
   "metadata": {},
   "outputs": [],
   "source": [
    "soup.select(\"div.td-animation-stack\") ## 幫我抓 div物件中 class為 td-animation-stack"
   ]
  },
  {
   "cell_type": "code",
   "execution_count": null,
   "metadata": {},
   "outputs": [],
   "source": [
    "# print(soup.select(\"a\"))\n",
    "# for ele in soup.select(\"a\"):\n",
    "#     print(ele)\n",
    "\n",
    "for ele in soup.select(\"h3\"):\n",
    "    print(ele)"
   ]
  },
  {
   "cell_type": "code",
   "execution_count": null,
   "metadata": {},
   "outputs": [],
   "source": [
    "for ele in soup.select(\"h3 a\"):\n",
    "    print(ele)\n"
   ]
  },
  {
   "cell_type": "code",
   "execution_count": null,
   "metadata": {},
   "outputs": [],
   "source": [
    "## parsing html source code:\n",
    "h3_tags = soup.select(\"h3\")\n",
    "# print(h3_tags)\n",
    "# print(type(h3_tags))\n",
    "\n",
    "element = h3_tags[0]\n",
    "print(element)"
   ]
  },
  {
   "cell_type": "code",
   "execution_count": null,
   "metadata": {},
   "outputs": [],
   "source": [
    "# print(soup.select(\"div.td-module-meta-info span time\"))\n",
    "for ele in soup.select(\"div.td-module-meta-info span time\"):\n",
    "    print(ele)"
   ]
  },
  {
   "cell_type": "code",
   "execution_count": null,
   "metadata": {},
   "outputs": [],
   "source": [
    "aTags = soup.select(\"div.td-module-meta-info a\")\n",
    "for ele in aTags:\n",
    "    print(ele)\n",
    "timeTags = soup.select(\"div.td-module-meta-info time\")\n",
    "for ele2 in timeTags:\n",
    "    print(ele2)"
   ]
  },
  {
   "cell_type": "code",
   "execution_count": null,
   "metadata": {},
   "outputs": [],
   "source": [
    "print(soup.select(\"#menu-item-2895786\"))"
   ]
  },
  {
   "cell_type": "code",
   "execution_count": null,
   "metadata": {},
   "outputs": [],
   "source": [
    "print(soup.select(\"div.td-container li#menu-item-2895786\"))"
   ]
  },
  {
   "cell_type": "code",
   "execution_count": null,
   "metadata": {},
   "outputs": [],
   "source": [
    "url=\"https://petsmao.nownews.com/\"\n",
    "res = requests.get(url)\n",
    "soup = bs(res.text,\"lxml\")\n",
    "\n",
    "print(soup)\n",
    "\n"
   ]
  },
  {
   "cell_type": "code",
   "execution_count": null,
   "metadata": {},
   "outputs": [],
   "source": [
    "print(soup.select(\"div.eltd-vertical-menu-area-inner li.menu-item-type-custom.menu-item-object-custom\"))"
   ]
  },
  {
   "cell_type": "code",
   "execution_count": null,
   "metadata": {},
   "outputs": [],
   "source": [
    "data = soup.select(\"li[data-nav-item-type='custom']\")\n",
    "print(data[0])"
   ]
  },
  {
   "cell_type": "code",
   "execution_count": null,
   "metadata": {},
   "outputs": [],
   "source": [
    "print(soup.select(\"a[target='_blank']\"))"
   ]
  },
  {
   "cell_type": "code",
   "execution_count": null,
   "metadata": {},
   "outputs": [],
   "source": [
    "soup.select(\"span.item_text\")"
   ]
  },
  {
   "cell_type": "code",
   "execution_count": null,
   "metadata": {},
   "outputs": [],
   "source": [
    "url = \"https://www.nownews.com/cat/column\"\n",
    "headers ={\n",
    "    \"User-Agent\":\"Mozilla/5.0 (Windows NT 10.0; Win64; x64; rv:74.0) Gecko/20100101 Firefox/74.0\"\n",
    "}\n",
    "# 模擬 browser 作 get動作\n",
    "res = requests.get(url, headers=headers)\n",
    "\n",
    "data=soup.select(\"div.td-fix-index div.td-animation-stack\")\n",
    "# print(data)\n",
    "# len(data)\n",
    "\n",
    "data=soup.select(\"div.tdb_module_loop.td_module_wrap.td-animation-stack\")\n",
    "ele = data[0]\n",
    "aTag = ele.select(\"h3 a\")[0]\n",
    "\n",
    "print(aTag)\n",
    "print(aTag[\"href\"])\n",
    "print(aTag[\"title\"])\n",
    "\n",
    "timeTag = ele.select(\"time\")[0]\n",
    "print(timeTag)\n",
    "print(timeTag[\"datetime\"])\n",
    "print(timeTag.text)"
   ]
  },
  {
   "cell_type": "code",
   "execution_count": 1,
   "metadata": {},
   "outputs": [],
   "source": [
    "import requests\n",
    "from bs4 import BeautifulSoup as bs\n",
    "url = \"https://www.nownews.com/cat/column\"\n",
    "headers ={\n",
    "    \"User-Agent\":\"Mozilla/5.0 (Windows NT 10.0; Win64; x64; rv:74.0) Gecko/20100101 Firefox/74.0\"\n",
    "}\n",
    "# 模擬 browser 作 get動作\n",
    "res = requests.get(url, headers=headers)\n",
    "soup = bs(res.text,\"lxml\")\n"
   ]
  },
  {
   "cell_type": "code",
   "execution_count": 2,
   "metadata": {},
   "outputs": [
    {
     "name": "stdout",
     "output_type": "stream",
     "text": [
      "https://www.nownews.com/news/20200328/4008977/\n",
      "https://www.nownews.com/news/20200328/4008879/\n",
      "https://www.nownews.com/news/20200328/4008958/\n",
      "https://www.nownews.com/news/20200328/4008949/\n",
      "https://www.nownews.com/news/20200328/4008912/\n",
      "https://www.nownews.com/news/20200327/4008900/\n",
      "https://www.nownews.com/news/20200327/4008867/\n",
      "https://www.nownews.com/news/20200327/4008815/\n",
      "https://www.nownews.com/news/20200327/4008852/\n",
      "https://www.nownews.com/news/20200327/4007609/\n",
      "https://www.nownews.com/news/20200327/4008798/\n",
      "https://www.nownews.com/news/20200327/4008626/\n",
      "https://www.nownews.com/news/20200327/4008701/\n",
      "https://www.nownews.com/news/20200327/4008658/\n",
      "https://www.nownews.com/news/20200327/4008529/\n",
      "https://www.nownews.com/news/20200327/4008668/\n"
     ]
    }
   ],
   "source": [
    "## 抓出 div物件底下 有 class=.td-animation-stack的資料\n",
    "data = soup.select(\"div.td-animation-stack\")\n",
    "# print(data[0])\n",
    "links = []\n",
    "for ele in data: \n",
    "    aTag = ele.select(\"h3 a\")[0]    ## 挑出 <h3> <a> Tag的資料\n",
    "#     print(aTag)\n",
    "    urls = aTag[\"href\"]             ## 將 <a href 連結資料取出\n",
    "    links.append(urls)              ## 丟進 list\n",
    "#     print(aTag)\n",
    "#     print(aTag['href'])\n",
    "for l in links:\n",
    "    print(l)"
   ]
  },
  {
   "cell_type": "code",
   "execution_count": 3,
   "metadata": {},
   "outputs": [],
   "source": [
    "url2 = links[0]\n",
    "res2 = requests.get(url2,headers=headers)\n",
    "soup2=bs(res2.text,\"lxml\")\n"
   ]
  },
  {
   "cell_type": "code",
   "execution_count": 4,
   "metadata": {},
   "outputs": [
    {
     "name": "stdout",
     "output_type": "stream",
     "text": [
      "category=  NOWnews>>國際\n",
      "Title=  美新冠肺炎破10萬！川普簽2.2兆美元紓困案、增產呼吸器\n",
      "time=  2020-03-28 08:11:41\n",
      "url=  https://www.nownews.com/news/20200328/4008977/\n",
      "content=  「 2019 新型冠狀病毒 COVID-19 」（簡稱新冠肺炎）肆虐美國，截至台灣時間 28 日清晨 7 點 30 分，全美已有至少 101657 人感染、 1581 人因此死亡，成為目前全球確診病例最多的國家。為了因應疫情帶來的經濟衝擊，美國總統川普於美國時間 27 日下午簽署高達 2.2 兆美元（約新台幣 67 兆元）的紓困法案「 CARES Act 」，為美國史上規模最大。I just signed the CARES Act, the single biggest economic relief package in American History – twice as large as any relief bill ever enacted. At $2.2 Trillion Dollars, this bill will deliver urgently-needed relief for our nation’s families, workers, and businesses. #CARESAct🇺🇸 https://t.co/0WnTNFZPZD— Donald J. Trump (@realDonaldTrump) March 27, 2020 綜合外媒報導，繼美國聯邦參議院後，眾議院也於 27 日通過規模達 2.2 兆美元的新冠肺炎第三波因應法案，內容包含用於補助遭疫情重擊的產業( 5000 億美元）、補貼美國數百萬因肺炎受到經濟威脅的家庭( 5000 億美元），中小企業貸款（ 3500 億美元）、失業援助（ 2500 億美元）、醫療及公衛體系補助（ 1000 億美元）、開發疫苗與購買重要物資、並有編列預算供聯邦緊急事務管理署局（FEMA）運用等等。眾院通過法案後過了幾小時，川普便於白宮橢圓辦公室正式簽署；在此之前，川普聲稱美國經濟雖遭遇了重擊，但感謝國會與朝野政黨的全力合作，相信美國經濟將重新繁榮，「我們將會獲得巨大反彈」。此外，由於疫情迅速擴散，許多地區的醫療資源都不敷使用，其中又以治療新冠肺炎主要的呼吸器為大宗，包含紐約州長古莫（ Andrew Cuomo ）在內的地方首長，都曾呼籲聯邦政府提供呼吸器支援，對此川普也於 27 日簽署了備忘錄，引用「國防生產法」（ Defense Production Act ），下令通用汽車（ GM ）加入增產呼吸器的行業。川普並表示，除了民間企業投入增產呼吸器以外，波音公司也已在生產適合醫療人員使用的塑膠面罩，還承諾會提供 3 架貨機遞送醫療器材到各地，政府與民間通力支援，相信能度過此波危機。※【NOWnews 今日新聞】提醒您：因應新冠肺炎疫情，疾管署持續加強疫情監測與邊境管制措施，國外入境後如有發燒、咳嗽等不適症狀，請撥打「1922」專線，或「0800-001922」，並依指示配戴口罩儘速就醫，同時主動告知醫師旅遊史及接觸史，以利及時診斷及通報。\n"
     ]
    }
   ],
   "source": [
    "# print(soup2.select(\"div.td-crumb-container div.entry-crumbs\")[0].text.replace(\" \",\">\"))\n",
    "category = soup2.select(\"div.td-crumb-container div.entry-crumbs\")[0].text.replace(\" \",\">\")\n",
    "print(\"category= \",category)\n",
    "title = soup2.select(\"header.td-post-title h1.entry-title\")[0].text\n",
    "print(\"Title= \",title)\n",
    "time = soup2.select(\"header.td-post-title time\")[0].text\n",
    "print(\"time= \",time)\n",
    "\n",
    "print(\"url= \",url2)\n",
    "\n",
    "## content\n",
    "# print(soup2.select(\"div.td-post-content span[itemprop='articleBody'] p\"))\n",
    "content = \"\"\n",
    "p_tags = soup2.select(\"div.td-post-content span[itemprop='articleBody'] p\")\n",
    "for ele in p_tags:\n",
    "#     print(ele.text)\n",
    "    content += ele.text\n",
    "print(\"content= \", content)"
   ]
  },
  {
   "cell_type": "code",
   "execution_count": 5,
   "metadata": {},
   "outputs": [
    {
     "name": "stdout",
     "output_type": "stream",
     "text": [
      "{'category': 'NOWnews>>國際', 'title': '美新冠肺炎破10萬！川普簽2.2兆美元紓困案、增產呼吸器', 'time': '2020-03-28 08:11:41', 'url': 'https://www.nownews.com/news/20200328/4008977/', 'content': '「 2019 新型冠狀病毒 COVID-19 」（簡稱新冠肺炎）肆虐美國，截至台灣時間 28 日清晨 7 點 30 分，全美已有至少 101657 人感染、 1581 人因此死亡，成為目前全球確診病例最多的國家。為了因應疫情帶來的經濟衝擊，美國總統川普於美國時間 27 日下午簽署高達 2.2 兆美元（約新台幣 67 兆元）的紓困法案「 CARES Act 」，為美國史上規模最大。I just signed the CARES Act, the single biggest economic relief package in American History – twice as large as any relief bill ever enacted. At $2.2 Trillion Dollars, this bill will deliver urgently-needed relief for our nation’s families, workers, and businesses. #CARESAct🇺🇸 https://t.co/0WnTNFZPZD— Donald J. Trump (@realDonaldTrump) March 27, 2020 綜合外媒報導，繼美國聯邦參議院後，眾議院也於 27 日通過規模達 2.2 兆美元的新冠肺炎第三波因應法案，內容包含用於補助遭疫情重擊的產業( 5000 億美元）、補貼美國數百萬因肺炎受到經濟威脅的家庭( 5000 億美元），中小企業貸款（ 3500 億美元）、失業援助（ 2500 億美元）、醫療及公衛體系補助（ 1000 億美元）、開發疫苗與購買重要物資、並有編列預算供聯邦緊急事務管理署局（FEMA）運用等等。眾院通過法案後過了幾小時，川普便於白宮橢圓辦公室正式簽署；在此之前，川普聲稱美國經濟雖遭遇了重擊，但感謝國會與朝野政黨的全力合作，相信美國經濟將重新繁榮，「我們將會獲得巨大反彈」。此外，由於疫情迅速擴散，許多地區的醫療資源都不敷使用，其中又以治療新冠肺炎主要的呼吸器為大宗，包含紐約州長古莫（ Andrew Cuomo ）在內的地方首長，都曾呼籲聯邦政府提供呼吸器支援，對此川普也於 27 日簽署了備忘錄，引用「國防生產法」（ Defense Production Act ），下令通用汽車（ GM ）加入增產呼吸器的行業。川普並表示，除了民間企業投入增產呼吸器以外，波音公司也已在生產適合醫療人員使用的塑膠面罩，還承諾會提供 3 架貨機遞送醫療器材到各地，政府與民間通力支援，相信能度過此波危機。※【NOWnews 今日新聞】提醒您：因應新冠肺炎疫情，疾管署持續加強疫情監測與邊境管制措施，國外入境後如有發燒、咳嗽等不適症狀，請撥打「1922」專線，或「0800-001922」，並依指示配戴口罩儘速就醫，同時主動告知醫師旅遊史及接觸史，以利及時診斷及通報。'}\n"
     ]
    }
   ],
   "source": [
    "data = {\n",
    "    \"category\": category,\n",
    "    \"title\": title,\n",
    "    \"time\" : time,\n",
    "    \"url\"  : url2,\n",
    "    \"content\" : content\n",
    "}\n",
    "print(data)"
   ]
  },
  {
   "cell_type": "code",
   "execution_count": 6,
   "metadata": {},
   "outputs": [
    {
     "name": "stdout",
     "output_type": "stream",
     "text": [
      "done!\n"
     ]
    }
   ],
   "source": [
    "import time\n",
    "def parsing_data(soup,url):\n",
    "    # do action:\n",
    "    category = soup.select(\"div.td-crumb-container div.entry-crumbs\")[0].text.replace(\" \",\">\")\n",
    "# print(\"category= \",category)\n",
    "    title = soup.select(\"header.td-post-title h1.entry-title\")[0].text\n",
    "# print(\"Title= \",title)\n",
    "    time = soup.select(\"header.td-post-title time\")[0].text\n",
    "# print(\"time= \",time)\n",
    "\n",
    "# print(\"url= \",url2)\n",
    "\n",
    "## content\n",
    "# print(soup2.select(\"div.td-post-content span[itemprop='articleBody'] p\"))\n",
    "    content = \"\"\n",
    "    p_tags = soup.select(\"div.td-post-content span[itemprop='articleBody'] p\")\n",
    "    for ele in p_tags:\n",
    "#     print(ele.text)\n",
    "        content += ele.text\n",
    "    \n",
    "    data = {\n",
    "    \"category\": category,\n",
    "    \"title\": title,\n",
    "    \"time\" : time,\n",
    "    \"url\"  : url,\n",
    "    \"content\" : content\n",
    "    }\n",
    "    return data\n",
    "\n",
    "def get_page_source_code(link):\n",
    "    \n",
    "    headers ={\n",
    "    \"User-Agent\":\"Mozilla/5.0 (Windows NT 10.0; Win64; x64; rv:74.0) Gecko/20100101 Firefox/74.0\"\n",
    "    }\n",
    "    res = requests.get(link,headers=headers)\n",
    "    soup=bs(res.text,\"lxml\")\n",
    "    \n",
    "    return soup\n",
    "\n",
    "## main\n",
    "\n",
    "# url = links[1]\n",
    "\n",
    "# soup = get_page_source_code(url)\n",
    "# data = parsing_data(soup.url)\n",
    "\n",
    "# print(data)\n",
    "dataList=[]\n",
    "for url in links:\n",
    "    soup = get_page_source_code(url)\n",
    "    time.sleep(1)\n",
    "    data = parsing_data(soup,url)\n",
    "    \n",
    "    dataList.append(data)\n",
    "\n",
    "print(\"done!\")"
   ]
  },
  {
   "cell_type": "code",
   "execution_count": null,
   "metadata": {},
   "outputs": [],
   "source": [
    "\n",
    "\n"
   ]
  },
  {
   "cell_type": "code",
   "execution_count": 9,
   "metadata": {},
   "outputs": [],
   "source": [
    "for data in dataList:\n",
    "    file_name = data[\"title\"]\n",
    "    with open(\"sample/{}.txt\".format(file_name),\"w\",encoding='utf8') as out_file:\n",
    "        record =\"\"\n",
    "        for key in data:\n",
    "            record += \"{}: {}\\n\".format(key,data[key])\n",
    "        out_file.write(record)"
   ]
  },
  {
   "cell_type": "code",
   "execution_count": null,
   "metadata": {},
   "outputs": [],
   "source": []
  },
  {
   "cell_type": "code",
   "execution_count": null,
   "metadata": {},
   "outputs": [],
   "source": []
  },
  {
   "cell_type": "code",
   "execution_count": null,
   "metadata": {},
   "outputs": [],
   "source": []
  }
 ],
 "metadata": {
  "kernelspec": {
   "display_name": "Python 3",
   "language": "python",
   "name": "python3"
  },
  "language_info": {
   "codemirror_mode": {
    "name": "ipython",
    "version": 3
   },
   "file_extension": ".py",
   "mimetype": "text/x-python",
   "name": "python",
   "nbconvert_exporter": "python",
   "pygments_lexer": "ipython3",
   "version": "3.7.6"
  }
 },
 "nbformat": 4,
 "nbformat_minor": 4
}
