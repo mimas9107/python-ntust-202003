{
 "cells": [
  {
   "cell_type": "markdown",
   "metadata": {},
   "source": [
    "# 台科大python excel 網路爬蟲課程\n",
    "# 2020 / 3 / 7\n"
   ]
  },
  {
   "cell_type": "code",
   "execution_count": 16,
   "metadata": {},
   "outputs": [
    {
     "name": "stdout",
     "output_type": "stream",
     "text": [
      "hello world!!!\n",
      "\n"
     ]
    }
   ],
   "source": [
    "print(\"hell world!!!\\n\")"
   ]
  },
  {
   "cell_type": "code",
   "execution_count": 93,
   "metadata": {},
   "outputs": [],
   "source": [
    "import numpy as np\n",
    "import matplotlib.pyplot as plt\n",
    "from random import randint\n",
    "\n"
   ]
  },
  {
   "cell_type": "code",
   "execution_count": 12,
   "metadata": {},
   "outputs": [],
   "source": [
    "x=np.array(list(range(0,500)))"
   ]
  },
  {
   "cell_type": "code",
   "execution_count": 21,
   "metadata": {},
   "outputs": [],
   "source": [
    "y=np.sin(0.01*x)\n"
   ]
  },
  {
   "cell_type": "code",
   "execution_count": 22,
   "metadata": {},
   "outputs": [
    {
     "data": {
      "text/plain": [
       "[<matplotlib.lines.Line2D at 0x25d15cac7c8>]"
      ]
     },
     "execution_count": 22,
     "metadata": {},
     "output_type": "execute_result"
    },
    {
     "data": {
      "image/png": "[encoded data removed]",
      "text/plain": [
       "<Figure size 432x288 with 1 Axes>"
      ]
     },
     "metadata": {
      "needs_background": "light"
     },
     "output_type": "display_data"
    }
   ],
   "source": [
    "plt.plot(x,y)"
   ]
  },
  {
   "cell_type": "code",
   "execution_count": 23,
   "metadata": {},
   "outputs": [],
   "source": [
    "## 字串型別"
   ]
  },
  {
   "cell_type": "code",
   "execution_count": 30,
   "metadata": {},
   "outputs": [
    {
     "name": "stdout",
     "output_type": "stream",
     "text": [
      "Justin Bonju~~~\n",
      "我是分隔線我是分隔線我是分隔線我是分隔線我是分隔線我是分隔線我是分隔線我是分隔線\n",
      "J\n",
      "u\n",
      "s\n",
      "Bonju~~~\n",
      "Bonj\n"
     ]
    }
   ],
   "source": [
    "name2 = \"Justin\"\n",
    "msg2 = \"Bonju~~~\"\n",
    "\n",
    "print(name2,msg2)\n",
    "\n",
    "#\n",
    "print(\"我是分隔線\"*8)\n",
    "## index operation\n",
    "\n",
    "print( name2[0])\n",
    "print( name2[1])\n",
    "print( name2[2])\n",
    "\n",
    "print( msg2[0:])\n",
    "print( msg2[0:4])"
   ]
  },
  {
   "cell_type": "markdown",
   "metadata": {},
   "source": [
    "# String operation\n",
    "# \n",
    "# frequently using functions:\n",
    "# (1)\n",
    "# .format  :    \" {} , xxyyzz {} \".format(arg1, arg2)\n",
    "#        it will show : \" arg1 , xxyyzz arg2 \"\n"
   ]
  },
  {
   "cell_type": "code",
   "execution_count": 32,
   "metadata": {},
   "outputs": [
    {
     "name": "stdout",
     "output_type": "stream",
     "text": [
      "--------------------------------------------------------------------------------\n",
      "template test Hello World justin\n",
      "\n",
      "template test Hello World justin\n",
      "\n",
      "template test Hello World justin\n",
      "\n",
      "template test Hello World justin\n",
      "\n",
      "template test Hello World justin\n",
      "\n",
      "template test Hello World justin\n",
      "\n",
      "template test Hello World justin\n",
      "\n",
      "template test Hello World justin\n",
      "\n",
      "template test Hello World justin\n",
      "\n",
      "template test Hello World justin\n",
      "\n"
     ]
    }
   ],
   "source": [
    "str_op_test1 =\"template test {} {} {}\\n\"\n",
    "str_op_test2 = \"Hello\"\n",
    "str_op_test3 = \"World\"\n",
    "str_op_test4 = \"justin\"\n",
    "\n",
    "print(\"-\"*80)\n",
    "for i in range(0,10):\n",
    "    print(str_op_test1.format(str_op_test2,str_op_test3,str_op_test4))\n"
   ]
  },
  {
   "cell_type": "markdown",
   "metadata": {},
   "source": [
    "# (2)\n",
    "# string[ : ]\n",
    "#    index number is [ begin=0 : end=length )\n",
    "#    python 3.x 中文與英文字符 index 計數相同\n",
    "#  ex: str=\"我是justin\" , str[1]=\"是\"\n",
    "#\n",
    "\n",
    "# \n",
    "\n"
   ]
  },
  {
   "cell_type": "code",
   "execution_count": 45,
   "metadata": {},
   "outputs": [
    {
     "name": "stdout",
     "output_type": "stream",
     "text": [
      "\n",
      "t\n",
      "te\n",
      "tem\n",
      "temp\n",
      "templ\n",
      "templa\n",
      "templat\n",
      "template\n",
      "template \n",
      "template t\n",
      "template te\n",
      "template tes\n",
      "template test\n",
      "template test \n",
      "template test {\n",
      "template test {}\n",
      "template test {} \n",
      "template test {} {\n",
      "template test {} {}\n",
      "template test {} {} \n",
      "template test {} {} {\n",
      "template test {} {} {}\n",
      "哇 三角形!\n"
     ]
    }
   ],
   "source": [
    "for i in range(0,len(str_op_test1)):\n",
    "    print(str_op_test1[0:int(i)])\n",
    "print(\"哇 三角形!\")\n"
   ]
  },
  {
   "cell_type": "markdown",
   "metadata": {},
   "source": [
    "# (3) .split : 切割 / 以分割符號字元做分隔 \n",
    "#       string.split(\",\") or string.split(\";\") .......\n",
    "#          result = list[]\n",
    "#\n"
   ]
  },
  {
   "cell_type": "code",
   "execution_count": 38,
   "metadata": {},
   "outputs": [
    {
     "data": {
      "text/plain": [
       "['template', 'test', '{}', '{}', '{}\\n']"
      ]
     },
     "execution_count": 38,
     "metadata": {},
     "output_type": "execute_result"
    }
   ],
   "source": [
    "str_op_test1.split(\" \")"
   ]
  },
  {
   "cell_type": "markdown",
   "metadata": {},
   "source": [
    "## (4) .join : 字串接合\n",
    "#       splited result is a list []\n",
    "#       re-join the string list into a subtituded string.\n",
    "#       \"%\".join( string.split(\" \") )\n",
    "\n"
   ]
  },
  {
   "cell_type": "code",
   "execution_count": 44,
   "metadata": {},
   "outputs": [
    {
     "name": "stdout",
     "output_type": "stream",
     "text": [
      "template%test%Hello%World%justin\n",
      "\n",
      "鬼看得懂阿...\n"
     ]
    }
   ],
   "source": [
    "print(\"%\".join(str_op_test1.split(\" \")).format(str_op_test2,str_op_test3,str_op_test4))\n",
    "print(\"鬼看得懂阿...\")"
   ]
  },
  {
   "cell_type": "markdown",
   "metadata": {},
   "source": [
    "# (6) .startswith() 比對是否以特定文字開頭開始比對.\n",
    "# \n",
    "# (7) .replace() 把arg1用傳入的字串arg2 蓋掉.\n",
    "# \n",
    "# (8) .find() 搜尋字元回傳第一個index.\n",
    "# "
   ]
  },
  {
   "cell_type": "code",
   "execution_count": 47,
   "metadata": {},
   "outputs": [
    {
     "data": {
      "text/plain": [
       "True"
      ]
     },
     "execution_count": 47,
     "metadata": {},
     "output_type": "execute_result"
    }
   ],
   "source": [
    "str_op_test1.startswith(\"template\")"
   ]
  },
  {
   "cell_type": "code",
   "execution_count": 48,
   "metadata": {},
   "outputs": [
    {
     "data": {
      "text/plain": [
       "'template test Hello Hello Hello\\n'"
      ]
     },
     "execution_count": 48,
     "metadata": {},
     "output_type": "execute_result"
    }
   ],
   "source": [
    "str_op_test1.replace(\"{}\",str_op_test2)"
   ]
  },
  {
   "cell_type": "code",
   "execution_count": 49,
   "metadata": {},
   "outputs": [
    {
     "data": {
      "text/plain": [
       "5"
      ]
     },
     "execution_count": 49,
     "metadata": {},
     "output_type": "execute_result"
    }
   ],
   "source": [
    "str_op_test1.find(\"a\")"
   ]
  },
  {
   "cell_type": "code",
   "execution_count": 54,
   "metadata": {},
   "outputs": [
    {
     "data": {
      "text/plain": [
       "'template test Hhaha  Hhaha  Hhaha \\n'"
      ]
     },
     "execution_count": 54,
     "metadata": {},
     "output_type": "execute_result"
    }
   ],
   "source": [
    "# replace 連續技!\n",
    "str_op_test1.replace(\"{}\",str_op_test2).replace(\"o\",\" \").replace(\"ell\",\"haha\")"
   ]
  },
  {
   "cell_type": "markdown",
   "metadata": {},
   "source": [
    "# (5) .strip : 去頭去尾的空白"
   ]
  },
  {
   "cell_type": "code",
   "execution_count": 57,
   "metadata": {},
   "outputs": [
    {
     "name": "stdout",
     "output_type": "stream",
     "text": [
      "   _show me the money___   !  \n",
      "30\n",
      "_show me the money___   !\n",
      "25\n"
     ]
    }
   ],
   "source": [
    "str_op_test5 =\"   _show me the money___   !  \"\n",
    "print(str_op_test5)\n",
    "print(len(str_op_test5))\n",
    "print(str_op_test5.strip())\n",
    "print(len(str_op_test5.strip()))"
   ]
  },
  {
   "cell_type": "code",
   "execution_count": 63,
   "metadata": {},
   "outputs": [
    {
     "name": "stdout",
     "output_type": "stream",
     "text": [
      "hello\n",
      "hellohello\n",
      "hellohellohello\n",
      "hellohellohellohello\n",
      "hellohellohellohellohello\n",
      "hellohellohellohellohellohello\n",
      "hellohellohellohellohellohellohello\n",
      "hellohellohellohellohellohellohellohello\n",
      "hellohellohellohellohellohellohellohellohello\n",
      "我超愛三角形!\n"
     ]
    }
   ],
   "source": [
    "for i in range(1,10):\n",
    "    print(\"{}\".format(\"hello\")*i)\n",
    "print(\"我超愛三角形!\")"
   ]
  },
  {
   "cell_type": "code",
   "execution_count": 64,
   "metadata": {},
   "outputs": [],
   "source": [
    "## 關係運算子\n",
    "## 邏輯運算子"
   ]
  },
  {
   "cell_type": "code",
   "execution_count": 90,
   "metadata": {},
   "outputs": [
    {
     "ename": "TypeError",
     "evalue": "list indices must be integers or slices, not tuple",
     "output_type": "error",
     "traceback": [
      "\u001b[1;31m---------------------------------------------------------------------------\u001b[0m",
      "\u001b[1;31mTypeError\u001b[0m                                 Traceback (most recent call last)",
      "\u001b[1;32m<ipython-input-90-4c40c8d6d5d3>\u001b[0m in \u001b[0;36m<module>\u001b[1;34m\u001b[0m\n\u001b[0;32m      4\u001b[0m \u001b[1;32mfor\u001b[0m \u001b[0mi\u001b[0m \u001b[1;32min\u001b[0m \u001b[0mnumber_array\u001b[0m\u001b[1;33m:\u001b[0m\u001b[1;33m\u001b[0m\u001b[1;33m\u001b[0m\u001b[0m\n\u001b[0;32m      5\u001b[0m     \u001b[1;32mfor\u001b[0m \u001b[0mj\u001b[0m \u001b[1;32min\u001b[0m \u001b[0mnumber_array\u001b[0m\u001b[1;33m:\u001b[0m\u001b[1;33m\u001b[0m\u001b[1;33m\u001b[0m\u001b[0m\n\u001b[1;32m----> 6\u001b[1;33m         \u001b[0mnlist\u001b[0m\u001b[1;33m[\u001b[0m\u001b[0mi\u001b[0m\u001b[1;33m-\u001b[0m\u001b[1;36m1\u001b[0m\u001b[1;33m,\u001b[0m\u001b[0mj\u001b[0m\u001b[1;33m-\u001b[0m\u001b[1;36m1\u001b[0m\u001b[1;33m]\u001b[0m\u001b[1;33m=\u001b[0m\u001b[1;33m(\u001b[0m\u001b[0mnumber_array\u001b[0m\u001b[1;33m[\u001b[0m\u001b[0mi\u001b[0m\u001b[1;33m-\u001b[0m\u001b[1;36m1\u001b[0m\u001b[1;33m]\u001b[0m \u001b[1;33m<\u001b[0m \u001b[0mnumber_array\u001b[0m\u001b[1;33m[\u001b[0m\u001b[0mj\u001b[0m\u001b[1;33m-\u001b[0m\u001b[1;36m1\u001b[0m\u001b[1;33m]\u001b[0m\u001b[1;33m)\u001b[0m\u001b[1;33m\u001b[0m\u001b[1;33m\u001b[0m\u001b[0m\n\u001b[0m\u001b[0;32m      7\u001b[0m     \u001b[0mprint\u001b[0m\u001b[1;33m(\u001b[0m\u001b[0mnlist\u001b[0m\u001b[1;33m)\u001b[0m\u001b[1;33m\u001b[0m\u001b[1;33m\u001b[0m\u001b[0m\n\u001b[0;32m      8\u001b[0m \u001b[1;33m\u001b[0m\u001b[0m\n",
      "\u001b[1;31mTypeError\u001b[0m: list indices must be integers or slices, not tuple"
     ]
    }
   ],
   "source": [
    "number_array = range(1,10)\n",
    "nlist=[]\n",
    "\n",
    "for i in number_array:\n",
    "    for j in number_array:\n",
    "        nlist[i-1,j-1]=(number_array[i-1] < number_array[j-1])\n",
    "    print(nlist)\n",
    "\n",
    "\n",
    "    "
   ]
  },
  {
   "cell_type": "code",
   "execution_count": 80,
   "metadata": {},
   "outputs": [
    {
     "name": "stdout",
     "output_type": "stream",
     "text": [
      "Please  input a number:   -1\n",
      " - \n"
     ]
    }
   ],
   "source": [
    "### 流程控制\n",
    "num = int( input(\"Please  input a number:   \"))\n",
    "\n",
    "if num == 0:\n",
    "    print(\"zero\")\n",
    "elif num > 0:\n",
    "    print(\" + \")\n",
    "else:\n",
    "    print(\" - \")\n",
    "\n",
    "    "
   ]
  },
  {
   "cell_type": "code",
   "execution_count": 104,
   "metadata": {},
   "outputs": [
    {
     "name": "stdout",
     "output_type": "stream",
     "text": [
      "--------------------------------------------------------------------------------\n",
      "[40, 31, 32, 77, 28, 31, 55, 41, 8, 31, 89, 29, 18, 45, 16, 70, 75, 62, 25, 69, 84, 4, 54, 73, 48, 80, 36, 49, 33, 75, 18, 85, 90, 50, 88, 6, 57, 8, 57, 58, 68, 10, 54, 19, 76, 52, 33, 13, 7, 60, 76, 22, 55, 79, 30, 99, 10, 26, 65, 92, 5, 42, 31, 9, 85, 35, 66, 29, 97, 30, 5, 28, 49, 46, 88, 80, 4, 10, 52, 97, 51, 53, 40, 86, 5, 64, 34, 85, 52, 75, 96, 33, 3, 27, 57, 60, 48, 54, 48, 37]\n"
     ]
    }
   ],
   "source": [
    "### List operation\n",
    "print(\"-\"*80)\n",
    "num = []\n",
    "for i in list(range(1,101)):\n",
    "    num.append(randint(1,101))\n",
    "print(num)\n"
   ]
  },
  {
   "cell_type": "code",
   "execution_count": 105,
   "metadata": {},
   "outputs": [
    {
     "name": "stdout",
     "output_type": "stream",
     "text": [
      "================================================================================\n"
     ]
    }
   ],
   "source": [
    "### dict operation\n",
    "### 會有巢狀結構\n",
    "print(\"=\"*80)\n",
    "\n",
    "dict_test1 = {\n",
    "    \"name\": \"justin liu\",\n",
    "    \"age\" : 39,\n",
    "    \"words\": [\"hello\",\"hell\",\"money\"],\n",
    "    \"wake_up_morning\" : False,\n",
    "    \"others\" : {\n",
    "        \"a\": 0,\n",
    "        \"b\": 1,\n",
    "        \"c\": 2\n",
    "    }\n",
    "}"
   ]
  },
  {
   "cell_type": "markdown",
   "metadata": {},
   "source": [
    "# dict :\n",
    "# { \n",
    "#     key1 : value1,\n",
    "#     key2 : value2,\n",
    "#     Key3 : value3,\n",
    "# }\n",
    "# \n",
    "# key1 = \"str\"\n",
    "# value1 = str, int, list, dict\n",
    "# "
   ]
  },
  {
   "cell_type": "code",
   "execution_count": 108,
   "metadata": {
    "scrolled": true
   },
   "outputs": [
    {
     "name": "stdout",
     "output_type": "stream",
     "text": [
      "{'name': 'justin liu', 'age': 39, 'words': ['hello', 'hell', 'money'], 'wake_up_morning': False, 'others': {'a': 0, 'b': 1, 'c': 2}}\n"
     ]
    }
   ],
   "source": [
    "## 取dict value\n",
    "print(dict_test1)"
   ]
  },
  {
   "cell_type": "code",
   "execution_count": 109,
   "metadata": {},
   "outputs": [],
   "source": [
    "dict_test1[\"name\"]=\"Ruby tsou\""
   ]
  },
  {
   "cell_type": "code",
   "execution_count": 110,
   "metadata": {},
   "outputs": [
    {
     "name": "stdout",
     "output_type": "stream",
     "text": [
      "{'name': 'Ruby tsou', 'age': 39, 'words': ['hello', 'hell', 'money'], 'wake_up_morning': False, 'others': {'a': 0, 'b': 1, 'c': 2}}\n"
     ]
    }
   ],
   "source": [
    "print(dict_test1)"
   ]
  },
  {
   "cell_type": "code",
   "execution_count": 111,
   "metadata": {},
   "outputs": [
    {
     "data": {
      "text/plain": [
       "5"
      ]
     },
     "execution_count": 111,
     "metadata": {},
     "output_type": "execute_result"
    }
   ],
   "source": [
    "len(dict_test1)"
   ]
  },
  {
   "cell_type": "code",
   "execution_count": 112,
   "metadata": {},
   "outputs": [
    {
     "data": {
      "text/plain": [
       "True"
      ]
     },
     "execution_count": 112,
     "metadata": {},
     "output_type": "execute_result"
    }
   ],
   "source": [
    "\"name\" in dict_test1\n"
   ]
  },
  {
   "cell_type": "code",
   "execution_count": 113,
   "metadata": {},
   "outputs": [
    {
     "data": {
      "text/plain": [
       "dict_keys(['name', 'age', 'words', 'wake_up_morning', 'others'])"
      ]
     },
     "execution_count": 113,
     "metadata": {},
     "output_type": "execute_result"
    }
   ],
   "source": [
    "dict_test1.keys()"
   ]
  },
  {
   "cell_type": "code",
   "execution_count": 114,
   "metadata": {},
   "outputs": [
    {
     "data": {
      "text/plain": [
       "dict_values(['Ruby tsou', 39, ['hello', 'hell', 'money'], False, {'a': 0, 'b': 1, 'c': 2}])"
      ]
     },
     "execution_count": 114,
     "metadata": {},
     "output_type": "execute_result"
    }
   ],
   "source": [
    "dict_test1.values()"
   ]
  },
  {
   "cell_type": "code",
   "execution_count": null,
   "metadata": {},
   "outputs": [],
   "source": []
  }
 ],
 "metadata": {
  "kernelspec": {
   "display_name": "Python 3",
   "language": "python",
   "name": "python3"
  },
  "language_info": {
   "codemirror_mode": {
    "name": "ipython",
    "version": 3
   },
   "file_extension": ".py",
   "mimetype": "text/x-python",
   "name": "python",
   "nbconvert_exporter": "python",
   "pygments_lexer": "ipython3",
   "version": "3.7.6"
  }
 },
 "nbformat": 4,
 "nbformat_minor": 4
}
